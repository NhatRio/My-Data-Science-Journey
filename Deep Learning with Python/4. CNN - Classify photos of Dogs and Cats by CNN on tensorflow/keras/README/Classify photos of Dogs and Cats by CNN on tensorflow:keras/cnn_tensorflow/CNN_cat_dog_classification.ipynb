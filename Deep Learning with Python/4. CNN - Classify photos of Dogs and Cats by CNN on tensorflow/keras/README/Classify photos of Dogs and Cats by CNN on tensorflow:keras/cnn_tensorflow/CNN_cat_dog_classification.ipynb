{
 "cells": [
  {
   "cell_type": "markdown",
   "metadata": {
    "colab_type": "text",
    "id": "qDg326adoF_U"
   },
   "source": [
    "# Classify Cat-Dog images using  CNN model"
   ]
  },
  {
   "cell_type": "markdown",
   "metadata": {
    "colab_type": "text",
    "id": "t-JHfjD4oF_V"
   },
   "source": [
    "In this notebook, we classify cat/dog images by using CNN model.\n",
    "\n",
    "Architecture of our network is:\n",
    "    \n",
    "- (Input) -> [batch_size, 64, 64, 3]  >> Apply 32 filter of [5x5]\n",
    "- (Convolutional layer 1)  -> [batch_size, 64, 64, 32]\n",
    "- (ReLU 1)  -> [?, 64, 64, 32]\n",
    "- (Max pooling 1) -> [?, 32, 32, 32]\n",
    "- (Convolutional layer 2)  -> [?, 32, 32, 64] \n",
    "- (ReLU 2)  -> [?, 32, 32, 64] \n",
    "- (Max pooling 2)  -> [?, 16, 16, 64] \n",
    "- [fully connected layer 3] -> [1x1024]\n",
    "- [ReLU 3]  -> [1x1024]\n",
    "- [Drop out]  -> [1x1024]\n",
    "- [fully connected layer 4] -> [1x1]\n",
    "\n",
    "\n",
    "The next cells will explore this new architecture."
   ]
  },
  {
   "cell_type": "code",
   "execution_count": 52,
   "metadata": {
    "colab": {
     "base_uri": "https://localhost:8080/",
     "height": 122
    },
    "colab_type": "code",
    "id": "-lwQb5hwoQ7E",
    "outputId": "ff4f3ecf-7634-4bf6-a1b1-0bee70170f08"
   },
   "outputs": [
    {
     "name": "stdout",
     "output_type": "stream",
     "text": [
      "Go to this URL in a browser: https://accounts.google.com/o/oauth2/auth?client_id=947318989803-6bn6qk8qdgf4n4g3pfee6491hc0brc4i.apps.googleusercontent.com&redirect_uri=urn%3Aietf%3Awg%3Aoauth%3A2.0%3Aoob&scope=email%20https%3A%2F%2Fwww.googleapis.com%2Fauth%2Fdocs.test%20https%3A%2F%2Fwww.googleapis.com%2Fauth%2Fdrive%20https%3A%2F%2Fwww.googleapis.com%2Fauth%2Fdrive.photos.readonly%20https%3A%2F%2Fwww.googleapis.com%2Fauth%2Fpeopleapi.readonly&response_type=code\n",
      "\n",
      "Enter your authorization code:\n",
      "··········\n",
      "Mounted at /content/gdrive\n"
     ]
    }
   ],
   "source": [
    "from google.colab import drive\n",
    "drive.mount('/content/gdrive')"
   ]
  },
  {
   "cell_type": "code",
   "execution_count": 11,
   "metadata": {
    "colab": {
     "base_uri": "https://localhost:8080/",
     "height": 255
    },
    "colab_type": "code",
    "id": "M9RA2AzL3b8_",
    "outputId": "6b9ad77b-2fd3-40ef-abf8-d2984e19668b"
   },
   "outputs": [
    {
     "name": "stdout",
     "output_type": "stream",
     "text": [
      "'20190527_162723 (1).jpg'  '20190527_165048 (1).jpg'\n",
      " 20190527_162723.jpg\t    20190527_165048.jpg\n",
      "'20190527_162753 (1).jpg'   20190527_171116.jpg\n",
      " 20190527_162753.jpg\t   '20190527_171656 (1).jpg'\n",
      "'20190527_162801 (1).jpg'   20190527_171656.jpg\n",
      " 20190527_162801.jpg\t   'Colab Notebooks'\n",
      "'20190527_162805 (1).jpg'   GeC.Debut.pdf\n",
      " 20190527_162805.jpg\t    ORG_DSC09353.JPG\n",
      "'20190527_162811 (1).jpg'   ORG_DSC09357.JPG\n",
      " 20190527_162811.jpg\t    ORG_DSC09363.JPG\n",
      "'20190527_162825 (1).jpg'   ORG_DSC09365.JPG\n",
      " 20190527_162825.jpg\t    pythondatasciencehandbook.pdf\n",
      "'20190527_162845 (1).jpg'  'Rendez-vous Entretien PPAE 20190507.pdf'\n",
      " 20190527_162845.jpg\n"
     ]
    }
   ],
   "source": [
    "!ls \"/content/gdrive/My Drive\""
   ]
  },
  {
   "cell_type": "markdown",
   "metadata": {
    "colab_type": "text",
    "id": "DYKBXzNsoF_W"
   },
   "source": [
    "### Starting the code"
   ]
  },
  {
   "cell_type": "code",
   "execution_count": 0,
   "metadata": {
    "colab": {},
    "colab_type": "code",
    "id": "xkVBis9coF_W"
   },
   "outputs": [],
   "source": [
    "import tensorflow as tf\n",
    "import cv2                 # working with, mainly resizing, images\n",
    "import numpy as np         # dealing with arrays\n",
    "import os                  # dealing with directories\n",
    "from random import shuffle # mixing up or currently ordered data that might lead our network astray in training.\n",
    "from tqdm import tqdm      # a nice pretty percentage bar for tasks. Thanks to viewer Daniel BA1/4hler for this suggestion\n",
    "import matplotlib.pyplot as plt\n",
    "#Start interaction session\n",
    "sess = tf.InteractiveSession()\n"
   ]
  },
  {
   "cell_type": "markdown",
   "metadata": {
    "colab_type": "text",
    "id": "RhKJm1-doF_a"
   },
   "source": [
    "### Import dataset"
   ]
  },
  {
   "cell_type": "code",
   "execution_count": 0,
   "metadata": {
    "colab": {},
    "colab_type": "code",
    "id": "nu18me60oF_b"
   },
   "outputs": [],
   "source": [
    "\n",
    "IMG_SIZE = 64\n",
    "TRAIN_DIR= 'dataset/training_set'\n",
    "TEST_DIR = 'dataset/test_set'\n",
    "LR = 1e-3\n",
    "\n",
    "MODEL_NAME = 'dogsvscats-{}-{}.model'.format(LR, '2conv-basic') # just so we remember which saved model is which, sizes must match\n",
    "\n",
    "# import os\n",
    "# data_dir = os.path.expanduser('dataset')\n",
    "\n",
    "# train_data_dir = os.path.join(data_dir, 'training_set')\n",
    "# test_data_dir = os.path.join(data_dir, 'test_set')\n",
    "# #validation_data_dir = path.join(data_dir, 'validation')\n",
    "\n",
    "# class_names = os.listdir(train_data_dir) # Get names of classes\n"
   ]
  },
  {
   "cell_type": "markdown",
   "metadata": {
    "colab_type": "text",
    "id": "CfC-ZlBloF_d"
   },
   "source": [
    "#### Write function to label our images"
   ]
  },
  {
   "cell_type": "code",
   "execution_count": 0,
   "metadata": {
    "colab": {},
    "colab_type": "code",
    "id": "jJLBZ3Y_oF_e"
   },
   "outputs": [],
   "source": [
    "def label_img(img):\n",
    "    word_label = img.split('.')[0]\n",
    "    # conversion to one-hot array [cat,dog]\n",
    "    if word_label == 'cat':\n",
    "        return [1,0]\n",
    "    elif word_label == 'dog':\n",
    "        return [0,1]"
   ]
  },
  {
   "cell_type": "markdown",
   "metadata": {
    "colab_type": "text",
    "id": "sVeoJ9YBoF_h"
   },
   "source": [
    "#### Now we build another function to process the training and test images and their labels into arrays:"
   ]
  },
  {
   "cell_type": "code",
   "execution_count": 0,
   "metadata": {
    "colab": {},
    "colab_type": "code",
    "id": "-kIl0nJdoF_h"
   },
   "outputs": [],
   "source": [
    "def create_data(IMG_SIZE,DIR):\n",
    "    data = []\n",
    "    for img in tqdm(os.listdir(DIR)):\n",
    "        label = label_img(img)\n",
    "        path = os.path.join(DIR,img)\n",
    "        img = cv2.imread(path,cv2.IMREAD_GRAYSCALE)\n",
    "        img = cv2.resize(img, (IMG_SIZE,IMG_SIZE))\n",
    "        data.append([np.array(img)/225.,np.array(label)])\n",
    "    shuffle(data)\n",
    "    return data"
   ]
  },
  {
   "cell_type": "markdown",
   "metadata": {
    "colab_type": "text",
    "id": "sCXYE_dGoF_j"
   },
   "source": [
    "_If your directory is a list (dogs and cats images in two separated folder), use the code below:_"
   ]
  },
  {
   "cell_type": "code",
   "execution_count": 0,
   "metadata": {
    "colab": {},
    "colab_type": "code",
    "id": "QEWOzzkOoF_k"
   },
   "outputs": [],
   "source": [
    "#TRAIN_DIR= ['dataset/training_set/dogs','dataset/training_set/cats']\n",
    "#TEST_DIR = ['dataset/test_set/dogs','dataset/test_set/cats']\n",
    "\n",
    "# def create_train_data(IMG_SIZE):\n",
    "#     training_data =[]\n",
    "#     for directory in tqdm(TRAIN_DIR):\n",
    "#         for img in tqdm(os.listdir(directory)):\n",
    "#             label = label_img(img)\n",
    "#             path = os.path.join(directory,img)\n",
    "#             img = cv2.imread(path,cv2.IMREAD_GRAYSCALE)\n",
    "#             img = cv2.resize(img,(IMG_SIZE,IMG_SIZE))\n",
    "#             training_data.append([np.array(img),np.array(label)])\n",
    "#     shuffle(training_data)\n",
    "#     np.save('train_data.npy',training_data)\n",
    "#     return training_data\n",
    "# #see more: https://pythonprogramming.net/convolutional-neural-network-kats-vs-dogs-machine-learning-tutorial/"
   ]
  },
  {
   "cell_type": "markdown",
   "metadata": {
    "colab_type": "text",
    "id": "EET9mheioF_m"
   },
   "source": [
    "Create a training data"
   ]
  },
  {
   "cell_type": "code",
   "execution_count": 0,
   "metadata": {
    "colab": {},
    "colab_type": "code",
    "id": "vYNRFKW4oF_n",
    "scrolled": true
   },
   "outputs": [],
   "source": [
    "# training_data = create_data(IMG_SIZE,TRAIN_DIR)   \n",
    "# np.save('Colab Notebooks/dataset/train_data.npy', training_data)\n",
    "training_data = np.load('./gdrive/My Drive/Colab Notebooks/CNN/dataset/train_data.npy',allow_pickle = True)"
   ]
  },
  {
   "cell_type": "markdown",
   "metadata": {
    "colab_type": "text",
    "id": "m0xXa5vUoF_p"
   },
   "source": [
    "Create a test data"
   ]
  },
  {
   "cell_type": "code",
   "execution_count": 0,
   "metadata": {
    "colab": {},
    "colab_type": "code",
    "id": "al3viVkUoF_q"
   },
   "outputs": [],
   "source": [
    "# test_data = create_data(IMG_SIZE,TEST_DIR)   \n",
    "# np.save('test_data.npy', test_data)\n",
    "test_data = np.load('./gdrive/My Drive/Colab Notebooks/CNN/dataset/test_data.npy',allow_pickle = True)"
   ]
  },
  {
   "cell_type": "markdown",
   "metadata": {
    "colab_type": "text",
    "id": "mDP1qvA6oF_s"
   },
   "source": [
    "_For the images which are not labeled, we build the same function to process them but not contain labels._"
   ]
  },
  {
   "cell_type": "code",
   "execution_count": 0,
   "metadata": {
    "colab": {},
    "colab_type": "code",
    "id": "Of_eqmdOoF_t"
   },
   "outputs": [],
   "source": [
    "# def process_unlabeled_data(IMG_SIZE,DIR):\n",
    "#     data = []\n",
    "#     for img in tqdm(os.listdir(DIR)):\n",
    "#         im_num = img.split('.')[0]\n",
    "#         path = os.path.join(DIR,img)\n",
    "#         img = cv2.imread(path,cv2.IMREAD_GRAYSCALE)\n",
    "#         img = cv2.resize(img, (IMG_SIZE,IMG_SIZE))\n",
    "#         training_data.append([np.array(img)/225.,im_num])\n",
    "#     shuffle(data)\n",
    "#     return data\n",
    "# #Create a unlabeled dataset:\n",
    "# unlabeled_data = process_unlabeled_data(64,UNLABELED_DIR)\n",
    "# np.save('unlabeled_data.npy', unlabeled_data)"
   ]
  },
  {
   "cell_type": "markdown",
   "metadata": {
    "colab_type": "text",
    "id": "edQuP3GMoF_v"
   },
   "source": [
    "#### Converting images of the data set to tensors"
   ]
  },
  {
   "cell_type": "code",
   "execution_count": 0,
   "metadata": {
    "colab": {},
    "colab_type": "code",
    "id": "JPKshNbWoF_w"
   },
   "outputs": [],
   "source": [
    "#Training set\n",
    "X_train = np.array([i[0] for i in training_data]).reshape(-1,IMG_SIZE,IMG_SIZE,1)\n",
    "y_train = [i[1] for i in training_data]\n",
    "#Test set\n",
    "X_test =  np.array([i[0] for i in test_data]).reshape(-1,IMG_SIZE,IMG_SIZE,1)\n",
    "y_test = [i[1] for i in test_data]"
   ]
  },
  {
   "cell_type": "code",
   "execution_count": 21,
   "metadata": {
    "colab": {
     "base_uri": "https://localhost:8080/",
     "height": 34
    },
    "colab_type": "code",
    "id": "5MV_2JI4oF_z",
    "outputId": "d3057f35-009a-4a21-da24-b17c40bee0d6"
   },
   "outputs": [
    {
     "data": {
      "text/plain": [
       "array([0, 1])"
      ]
     },
     "execution_count": 21,
     "metadata": {
      "tags": []
     },
     "output_type": "execute_result"
    }
   ],
   "source": [
    "y_train[500]"
   ]
  },
  {
   "cell_type": "markdown",
   "metadata": {
    "colab_type": "text",
    "id": "cRnd14A-oF_2"
   },
   "source": [
    "### Initial parameters"
   ]
  },
  {
   "cell_type": "markdown",
   "metadata": {
    "colab_type": "text",
    "id": "yY2mpejMoF_3"
   },
   "source": [
    "Create general parameters for the model"
   ]
  },
  {
   "cell_type": "code",
   "execution_count": 0,
   "metadata": {
    "colab": {},
    "colab_type": "code",
    "id": "Qlp4belPoF_4"
   },
   "outputs": [],
   "source": [
    "width = 64 #witdh of the image in pixels\n",
    "height = 64 #height of the image in pixels\n",
    "n_channels = 1 # image channels (3 for colorscale and 1 for grayscale).\n",
    "class_output = 2 #number of possible classifications for the problem"
   ]
  },
  {
   "cell_type": "markdown",
   "metadata": {
    "colab_type": "text",
    "id": "a_gLdM9HoF_6"
   },
   "source": [
    "### Input and Output"
   ]
  },
  {
   "cell_type": "markdown",
   "metadata": {
    "colab_type": "text",
    "id": "LC4dP33eoF_7"
   },
   "source": [
    "Create place holders for inputs and outputs:"
   ]
  },
  {
   "cell_type": "code",
   "execution_count": 0,
   "metadata": {
    "colab": {},
    "colab_type": "code",
    "id": "1xxH09KmoF_7"
   },
   "outputs": [],
   "source": [
    "x_input = tf.placeholder(tf.float32,shape = [None,height,width,n_channels])\n",
    "y_act = tf.placeholder(tf.float32,shape = [None, class_output])"
   ]
  },
  {
   "cell_type": "markdown",
   "metadata": {
    "colab_type": "text",
    "id": "0gsR75y9oF_9"
   },
   "source": [
    "_1st_ dimension: batch number (can be any size),\n",
    "\n",
    "_2nd_ dimension: height,\n",
    "\n",
    "_3rd_ dimension: width,\n",
    "\n",
    "_4th_ dimension: image channels (3 channels as colorscale)."
   ]
  },
  {
   "cell_type": "markdown",
   "metadata": {
    "colab_type": "text",
    "id": "aJdpxa92oF_-"
   },
   "source": [
    "### 2. Convolutional Layer 1"
   ]
  },
  {
   "cell_type": "markdown",
   "metadata": {
    "colab_type": "text",
    "id": "-Hif4MaaoF_-"
   },
   "source": [
    "<h4>Defining kernel weight and bias</h4>\n",
    "We define a kernel here. The Size of the filter/kernel is 5x5;  Input channels is 1 (grayscale);  and we need 32 different feature maps (here, 32 feature maps means 32 different filters are applied on each image. So, the output of convolution layer would be 64x64x32). In this step, we create a filter / kernel tensor of shape <code>[filter_height, filter_width, in_channels, out_channels]</code>"
   ]
  },
  {
   "cell_type": "code",
   "execution_count": 0,
   "metadata": {
    "colab": {},
    "colab_type": "code",
    "id": "bSjtxG7qoF__"
   },
   "outputs": [],
   "source": [
    "W_conv1 = tf.Variable(tf.truncated_normal([5,5,1,32], stddev = 0.1 ))\n",
    "b_conv1 = tf.Variable(tf.constant(0.1, shape = [32] )) # 32 biases for 32 outputs\n"
   ]
  },
  {
   "cell_type": "markdown",
   "metadata": {
    "colab_type": "text",
    "id": "Eeiu2w2aoGAC"
   },
   "source": [
    "<h4>Convolve image with weight tensor and add biases.</h4>"
   ]
  },
  {
   "cell_type": "code",
   "execution_count": 0,
   "metadata": {
    "colab": {},
    "colab_type": "code",
    "id": "7yeS3qtooGAC"
   },
   "outputs": [],
   "source": [
    "convolve1= tf.nn.conv2d(x_input, W_conv1, strides=[1, 1, 1, 1], padding='SAME') + b_conv1\n",
    "\n"
   ]
  },
  {
   "cell_type": "code",
   "execution_count": 9,
   "metadata": {
    "colab": {
     "base_uri": "https://localhost:8080/",
     "height": 34
    },
    "colab_type": "code",
    "id": "OuebaKfjoGAF",
    "outputId": "f4a5a860-a1de-44ed-bdb1-f2cf6712ed04"
   },
   "outputs": [
    {
     "data": {
      "text/plain": [
       "<tf.Tensor 'add:0' shape=(?, 64, 64, 32) dtype=float32>"
      ]
     },
     "execution_count": 9,
     "metadata": {
      "tags": []
     },
     "output_type": "execute_result"
    }
   ],
   "source": [
    "convolve1"
   ]
  },
  {
   "cell_type": "markdown",
   "metadata": {
    "colab_type": "text",
    "id": "IazoXsTloGAO"
   },
   "source": [
    "#### Apply the ReLu activation function"
   ]
  },
  {
   "cell_type": "markdown",
   "metadata": {
    "colab_type": "text",
    "id": "KZ9FnA1soGAP"
   },
   "source": [
    "Let $f(x)$ is a ReLU function,\n",
    "$$f(x)=\\max(0,x)$$"
   ]
  },
  {
   "cell_type": "code",
   "execution_count": 0,
   "metadata": {
    "colab": {},
    "colab_type": "code",
    "id": "PXyqE0GloGAS"
   },
   "outputs": [],
   "source": [
    "h_conv1 = tf.nn.relu(convolve1)"
   ]
  },
  {
   "cell_type": "markdown",
   "metadata": {
    "colab_type": "text",
    "id": "_o4NzIKVoGAU"
   },
   "source": [
    "#### Apply the max pooling"
   ]
  },
  {
   "cell_type": "code",
   "execution_count": 11,
   "metadata": {
    "colab": {
     "base_uri": "https://localhost:8080/",
     "height": 34
    },
    "colab_type": "code",
    "id": "jC26gyIAoGAV",
    "outputId": "296578f8-1947-400a-f52d-c439833aae82"
   },
   "outputs": [
    {
     "data": {
      "text/plain": [
       "<tf.Tensor 'MaxPool:0' shape=(?, 32, 32, 32) dtype=float32>"
      ]
     },
     "execution_count": 11,
     "metadata": {
      "tags": []
     },
     "output_type": "execute_result"
    }
   ],
   "source": [
    "conv1 = tf.nn.max_pool(h_conv1, ksize = [1,2,2,1], strides = [1,2,2,1], padding = 'SAME')#max_pool 2x2\n",
    "conv1"
   ]
  },
  {
   "cell_type": "markdown",
   "metadata": {
    "colab_type": "text",
    "id": "Hd9IxaNeoGAX"
   },
   "source": [
    "First layer completed!"
   ]
  },
  {
   "cell_type": "markdown",
   "metadata": {
    "colab_type": "text",
    "id": "8jIMXrjiLGgc"
   },
   "source": [
    "First layer completed. The output of layer 1  is 32 matrices of [32x32]"
   ]
  },
  {
   "cell_type": "markdown",
   "metadata": {
    "colab_type": "text",
    "id": "wIok0guvLGgh"
   },
   "source": [
    "### 3. Convolutional Layer 2"
   ]
  },
  {
   "cell_type": "markdown",
   "metadata": {
    "colab_type": "text",
    "id": "fxCj1zgyLGgj"
   },
   "source": [
    "#### Weights and Biases of kernels"
   ]
  },
  {
   "cell_type": "markdown",
   "metadata": {
    "colab_type": "text",
    "id": "giIQ35eQLGgk"
   },
   "source": [
    "We apply the convolution again in this layer. Lets look at the second layer kernel:  \n",
    "- Filter/kernel: 5x5 (25 pixels) \n",
    "- Input channels: 32 (from the 2nd Conv layer, we had 32 feature maps) \n",
    "- 64 output feature maps  \n",
    "\n",
    "<b>Notice:</b> here, the input image is [32x32x32], the filter is [5x5x32], we use 64 filters of size [5x5x32], and the output of the convolutional layer would be 64 convolved image, [32x32x64].\n",
    "\n"
   ]
  },
  {
   "cell_type": "code",
   "execution_count": 0,
   "metadata": {
    "colab": {},
    "colab_type": "code",
    "id": "gmlXOr-CLGgl"
   },
   "outputs": [],
   "source": [
    "W_conv2 = tf.Variable(tf.truncated_normal([5,5,32,64], stddev = 0.1 ))\n",
    "b_conv2 = tf.Variable(tf.constant(0.1, shape = [64] )) # 64 biases for 64 outputs\n"
   ]
  },
  {
   "cell_type": "markdown",
   "metadata": {
    "colab_type": "text",
    "id": "CwqKf-RLLGgo"
   },
   "source": [
    "<h4>Convolve image with weight tensor and add biases.</h4>"
   ]
  },
  {
   "cell_type": "code",
   "execution_count": 0,
   "metadata": {
    "colab": {},
    "colab_type": "code",
    "id": "8fYmGAQOLGgp"
   },
   "outputs": [],
   "source": [
    "convolve2= tf.nn.conv2d(conv1, W_conv2, strides=[1, 1, 1, 1], padding='SAME') + b_conv2\n"
   ]
  },
  {
   "cell_type": "code",
   "execution_count": 14,
   "metadata": {
    "colab": {
     "base_uri": "https://localhost:8080/",
     "height": 34
    },
    "colab_type": "code",
    "id": "BnOwroCvLGgs",
    "outputId": "06787278-801e-4195-9741-938d7ddf59b4"
   },
   "outputs": [
    {
     "data": {
      "text/plain": [
       "<tf.Tensor 'add_1:0' shape=(?, 32, 32, 64) dtype=float32>"
      ]
     },
     "execution_count": 14,
     "metadata": {
      "tags": []
     },
     "output_type": "execute_result"
    }
   ],
   "source": [
    "convolve2"
   ]
  },
  {
   "cell_type": "markdown",
   "metadata": {
    "colab_type": "text",
    "id": "4BQ44bADLGgu"
   },
   "source": [
    "#### Apply the ReLu activation function"
   ]
  },
  {
   "cell_type": "code",
   "execution_count": 0,
   "metadata": {
    "colab": {},
    "colab_type": "code",
    "id": "6OU2zVpfLGgv"
   },
   "outputs": [],
   "source": [
    "h_conv2 = tf.nn.relu(convolve2)"
   ]
  },
  {
   "cell_type": "markdown",
   "metadata": {
    "colab_type": "text",
    "id": "VM61obRkLGgx"
   },
   "source": [
    "#### Apply the max pooling"
   ]
  },
  {
   "cell_type": "code",
   "execution_count": 16,
   "metadata": {
    "colab": {
     "base_uri": "https://localhost:8080/",
     "height": 34
    },
    "colab_type": "code",
    "id": "xTY8cK06LGgx",
    "outputId": "0f7ccd1b-28c0-4718-8785-7599739f9a44"
   },
   "outputs": [
    {
     "data": {
      "text/plain": [
       "<tf.Tensor 'MaxPool_1:0' shape=(?, 16, 16, 64) dtype=float32>"
      ]
     },
     "execution_count": 16,
     "metadata": {
      "tags": []
     },
     "output_type": "execute_result"
    }
   ],
   "source": [
    "conv2 = tf.nn.max_pool(h_conv2, ksize = [1,2,2,1], strides = [1,2,2,1], padding = 'SAME')#max_pool 2x2\n",
    "conv2"
   ]
  },
  {
   "cell_type": "markdown",
   "metadata": {
    "colab_type": "text",
    "id": "U4E9Jx2aOUqF"
   },
   "source": [
    "Second layer completed. The output of layer 2  is 64 matrices of [16x16]\n"
   ]
  },
  {
   "cell_type": "code",
   "execution_count": 0,
   "metadata": {
    "colab": {},
    "colab_type": "code",
    "id": "M5L1K9cXkWUq"
   },
   "outputs": [],
   "source": []
  },
  {
   "cell_type": "code",
   "execution_count": 0,
   "metadata": {
    "colab": {},
    "colab_type": "code",
    "id": "E4I15Fn7kWSW"
   },
   "outputs": [],
   "source": []
  },
  {
   "cell_type": "markdown",
   "metadata": {
    "colab_type": "text",
    "id": "ZGHcevY8kelP"
   },
   "source": [
    "### 4. Convolutional Layer 3"
   ]
  },
  {
   "cell_type": "markdown",
   "metadata": {
    "colab_type": "text",
    "id": "zZNmFklBkelU"
   },
   "source": [
    "#### Weights and Biases of kernels"
   ]
  },
  {
   "cell_type": "markdown",
   "metadata": {
    "colab_type": "text",
    "id": "6WF0PNw3kelW"
   },
   "source": [
    "We apply the convolution again in this layer. Lets look at the second layer kernel:  \n",
    "- Filter/kernel: 5x5 (25 pixels) \n",
    "- Input channels: 128 (from the 3rd Conv layer, we had 128 feature maps) \n",
    "- 64 output feature maps  \n",
    "\n",
    "<b>Notice:</b> here, the input image is [8x8x128], the filter is [5x5x128], we use 64 filters of size [5x5x128], and the output of the convolutional layer would be 64 convolved image, [8x8x64].\n",
    "\n"
   ]
  },
  {
   "cell_type": "code",
   "execution_count": 0,
   "metadata": {
    "colab": {},
    "colab_type": "code",
    "id": "-uilPkUckelX"
   },
   "outputs": [],
   "source": [
    "W_conv3 = tf.Variable(tf.truncated_normal([5,5,64,64], stddev = 0.1 ))\n",
    "b_conv3 = tf.Variable(tf.constant(0.1, shape = [64] )) # 64 biases for 64 outputs\n"
   ]
  },
  {
   "cell_type": "markdown",
   "metadata": {
    "colab_type": "text",
    "id": "ENTbJZoNkela"
   },
   "source": [
    "<h4>Convolve image with weight tensor and add biases.</h4>"
   ]
  },
  {
   "cell_type": "code",
   "execution_count": 0,
   "metadata": {
    "colab": {},
    "colab_type": "code",
    "id": "ozV-cM-Dkelb"
   },
   "outputs": [],
   "source": [
    "convolve3= tf.nn.conv2d(conv2, W_conv3, strides=[1, 1, 1, 1], padding='SAME') + b_conv3\n"
   ]
  },
  {
   "cell_type": "code",
   "execution_count": 22,
   "metadata": {
    "colab": {
     "base_uri": "https://localhost:8080/",
     "height": 34
    },
    "colab_type": "code",
    "id": "BYZW5lSLkeld",
    "outputId": "7bda02bd-51ed-479a-98d8-4bdb21d910ed"
   },
   "outputs": [
    {
     "data": {
      "text/plain": [
       "<tf.Tensor 'add_3:0' shape=(?, 16, 16, 64) dtype=float32>"
      ]
     },
     "execution_count": 22,
     "metadata": {
      "tags": []
     },
     "output_type": "execute_result"
    }
   ],
   "source": [
    "convolve3"
   ]
  },
  {
   "cell_type": "markdown",
   "metadata": {
    "colab_type": "text",
    "id": "08akjIr9kelg"
   },
   "source": [
    "#### Apply the ReLu activation function"
   ]
  },
  {
   "cell_type": "code",
   "execution_count": 0,
   "metadata": {
    "colab": {},
    "colab_type": "code",
    "id": "9pYY6y0Wkelh"
   },
   "outputs": [],
   "source": [
    "h_conv3 = tf.nn.relu(convolve3)"
   ]
  },
  {
   "cell_type": "markdown",
   "metadata": {
    "colab_type": "text",
    "id": "prjujUoykelj"
   },
   "source": [
    "#### Apply the max pooling"
   ]
  },
  {
   "cell_type": "code",
   "execution_count": 24,
   "metadata": {
    "colab": {
     "base_uri": "https://localhost:8080/",
     "height": 34
    },
    "colab_type": "code",
    "id": "QVcccfFWkelk",
    "outputId": "35c1b650-2479-4e49-d9f6-dfa9fe4abe2a"
   },
   "outputs": [
    {
     "data": {
      "text/plain": [
       "<tf.Tensor 'MaxPool_2:0' shape=(?, 8, 8, 64) dtype=float32>"
      ]
     },
     "execution_count": 24,
     "metadata": {
      "tags": []
     },
     "output_type": "execute_result"
    }
   ],
   "source": [
    "conv3 = tf.nn.max_pool(h_conv3, ksize = [1,2,2,1], strides = [1,2,2,1], padding = 'SAME')#max_pool 2x2\n",
    "conv3"
   ]
  },
  {
   "cell_type": "code",
   "execution_count": 0,
   "metadata": {
    "colab": {},
    "colab_type": "code",
    "id": "Anydbo2wkWQb"
   },
   "outputs": [],
   "source": []
  },
  {
   "cell_type": "code",
   "execution_count": 0,
   "metadata": {
    "colab": {},
    "colab_type": "code",
    "id": "SS3kIm8SkWOp"
   },
   "outputs": [],
   "source": []
  },
  {
   "cell_type": "code",
   "execution_count": 0,
   "metadata": {
    "colab": {},
    "colab_type": "code",
    "id": "fMgRBoGbkWMi"
   },
   "outputs": [],
   "source": []
  },
  {
   "cell_type": "code",
   "execution_count": 0,
   "metadata": {
    "colab": {},
    "colab_type": "code",
    "id": "sUkbaLGZkWIg"
   },
   "outputs": [],
   "source": []
  },
  {
   "cell_type": "markdown",
   "metadata": {
    "colab_type": "text",
    "id": "qxcF6g-eoGAY"
   },
   "source": [
    "### 5. Convolutional Layer 4"
   ]
  },
  {
   "cell_type": "markdown",
   "metadata": {
    "colab_type": "text",
    "id": "06vPWi10oGAZ"
   },
   "source": [
    "#### Weights and Biases of kernels"
   ]
  },
  {
   "cell_type": "markdown",
   "metadata": {
    "colab_type": "text",
    "id": "uBsbaSgOoGAZ"
   },
   "source": [
    "We apply the convolution again in this layer. Lets look at the second layer kernel:  \n",
    "- Filter/kernel: 5x5 (25 pixels) \n",
    "- Input channels: 64 (from the 2nd Conv layer, we had 64 feature maps) \n",
    "- 128 output feature maps  \n",
    "\n",
    "<b>Notice:</b> here, the input image is [32x32x64], the filter is [5x5x64], we use 128 filters of size [5x5x64], and the output of the convolutional layer would be 128 convolved image, [32x32x128].\n"
   ]
  },
  {
   "cell_type": "code",
   "execution_count": 0,
   "metadata": {
    "colab": {},
    "colab_type": "code",
    "id": "KekMnDARoGAa"
   },
   "outputs": [],
   "source": [
    "W_conv4 = tf.Variable(tf.truncated_normal([5,5,64,128], stddev = 0.1 ))\n",
    "b_conv4 = tf.Variable(tf.constant(0.1, shape = [128] )) # 128 biases for 128 outputs"
   ]
  },
  {
   "cell_type": "markdown",
   "metadata": {
    "colab_type": "text",
    "id": "2noJBmr3oGAc"
   },
   "source": [
    "<h4>Convolve image with weight tensor and add biases.</h4>"
   ]
  },
  {
   "cell_type": "code",
   "execution_count": 0,
   "metadata": {
    "colab": {},
    "colab_type": "code",
    "id": "X-qaknxpoGAd"
   },
   "outputs": [],
   "source": [
    "convolve4= tf.nn.conv2d(conv3, W_conv4, strides=[1, 1, 1, 1], padding='SAME') + b_conv4\n"
   ]
  },
  {
   "cell_type": "code",
   "execution_count": 28,
   "metadata": {
    "colab": {
     "base_uri": "https://localhost:8080/",
     "height": 34
    },
    "colab_type": "code",
    "id": "u_dLGG8hoGAf",
    "outputId": "7810f4db-3881-4732-be8f-25cd5fae7d38"
   },
   "outputs": [
    {
     "data": {
      "text/plain": [
       "<tf.Tensor 'add_5:0' shape=(?, 8, 8, 128) dtype=float32>"
      ]
     },
     "execution_count": 28,
     "metadata": {
      "tags": []
     },
     "output_type": "execute_result"
    }
   ],
   "source": [
    "convolve4"
   ]
  },
  {
   "cell_type": "markdown",
   "metadata": {
    "colab_type": "text",
    "id": "ugeJMtz8oGAi"
   },
   "source": [
    "#### Apply the ReLu activation function"
   ]
  },
  {
   "cell_type": "code",
   "execution_count": 0,
   "metadata": {
    "colab": {},
    "colab_type": "code",
    "id": "d7zC_K9yoGAj"
   },
   "outputs": [],
   "source": [
    "h_conv4 = tf.nn.relu(convolve4)"
   ]
  },
  {
   "cell_type": "markdown",
   "metadata": {
    "colab_type": "text",
    "id": "VHXiGfryoGAl"
   },
   "source": [
    "#### Apply the max pooling"
   ]
  },
  {
   "cell_type": "code",
   "execution_count": 30,
   "metadata": {
    "colab": {
     "base_uri": "https://localhost:8080/",
     "height": 34
    },
    "colab_type": "code",
    "id": "z7cYdw0eoGAm",
    "outputId": "ae2e00ac-d6a5-415e-e1b2-623d543521fa"
   },
   "outputs": [
    {
     "data": {
      "text/plain": [
       "<tf.Tensor 'MaxPool_3:0' shape=(?, 4, 4, 128) dtype=float32>"
      ]
     },
     "execution_count": 30,
     "metadata": {
      "tags": []
     },
     "output_type": "execute_result"
    }
   ],
   "source": [
    "conv4 = tf.nn.max_pool(h_conv4, ksize = [1,2,2,1], strides = [1,2,2,1], padding = 'SAME')#max_pool 2x2\n",
    "conv4"
   ]
  },
  {
   "cell_type": "markdown",
   "metadata": {
    "colab_type": "text",
    "id": "7vCi92EVoGAp"
   },
   "source": [
    "Third layer completed. The output of layer 3  is 128 matrices of [8x8]."
   ]
  },
  {
   "cell_type": "markdown",
   "metadata": {
    "colab_type": "text",
    "id": "Lui2K2vHCypz"
   },
   "source": [
    "### 6. Convolutional Layer 5"
   ]
  },
  {
   "cell_type": "markdown",
   "metadata": {
    "colab_type": "text",
    "id": "hpoE-zQrCyp2"
   },
   "source": [
    "#### Weights and Biases of kernels"
   ]
  },
  {
   "cell_type": "markdown",
   "metadata": {
    "colab_type": "text",
    "id": "N8D2F3GJCyp3"
   },
   "source": [
    "We apply the convolution again in this layer. Lets look at the second layer kernel:  \n",
    "- Filter/kernel: 5x5 (25 pixels) \n",
    "- Input channels: 128 (from the 3rd Conv layer, we had 128 feature maps) \n",
    "- 64 output feature maps  \n",
    "\n",
    "<b>Notice:</b> here, the input image is [8x8x128], the filter is [5x5x128], we use 64 filters of size [5x5x128], and the output of the convolutional layer would be 64 convolved image, [8x8x64].\n",
    "\n"
   ]
  },
  {
   "cell_type": "code",
   "execution_count": 0,
   "metadata": {
    "colab": {},
    "colab_type": "code",
    "id": "kxwgQsTrCyp5"
   },
   "outputs": [],
   "source": [
    "W_conv5 = tf.Variable(tf.truncated_normal([3,3,128,256], stddev = 0.1 ))\n",
    "b_conv5 = tf.Variable(tf.constant(0.1, shape = [256] )) # 64 biases for 64 outputs\n"
   ]
  },
  {
   "cell_type": "markdown",
   "metadata": {
    "colab_type": "text",
    "id": "d3g8a55HCyp9"
   },
   "source": [
    "<h4>Convolve image with weight tensor and add biases.</h4>"
   ]
  },
  {
   "cell_type": "code",
   "execution_count": 0,
   "metadata": {
    "colab": {},
    "colab_type": "code",
    "id": "seSOZmReCyp-"
   },
   "outputs": [],
   "source": [
    "convolve5= tf.nn.conv2d(conv4, W_conv5, strides=[1, 1, 1, 1], padding='SAME') + b_conv5\n"
   ]
  },
  {
   "cell_type": "code",
   "execution_count": 34,
   "metadata": {
    "colab": {
     "base_uri": "https://localhost:8080/",
     "height": 34
    },
    "colab_type": "code",
    "id": "YqhkHTzaCyqC",
    "outputId": "883e763f-96e8-415d-d9bd-2c479a301c79"
   },
   "outputs": [
    {
     "data": {
      "text/plain": [
       "<tf.Tensor 'add_7:0' shape=(?, 4, 4, 256) dtype=float32>"
      ]
     },
     "execution_count": 34,
     "metadata": {
      "tags": []
     },
     "output_type": "execute_result"
    }
   ],
   "source": [
    "convolve5"
   ]
  },
  {
   "cell_type": "markdown",
   "metadata": {
    "colab_type": "text",
    "id": "I94QziD_CyqE"
   },
   "source": [
    "#### Apply the ReLu activation function"
   ]
  },
  {
   "cell_type": "code",
   "execution_count": 0,
   "metadata": {
    "colab": {},
    "colab_type": "code",
    "id": "RNq8UHOjCyqG"
   },
   "outputs": [],
   "source": [
    "h_conv5 = tf.nn.relu(convolve5)"
   ]
  },
  {
   "cell_type": "markdown",
   "metadata": {
    "colab_type": "text",
    "id": "m6Xm9vdbCyqI"
   },
   "source": [
    "#### Apply the max pooling"
   ]
  },
  {
   "cell_type": "code",
   "execution_count": 37,
   "metadata": {
    "colab": {
     "base_uri": "https://localhost:8080/",
     "height": 34
    },
    "colab_type": "code",
    "id": "ntrRhaSGCyqI",
    "outputId": "860a233c-e4d6-4b98-8f4c-d04c96de5644"
   },
   "outputs": [
    {
     "data": {
      "text/plain": [
       "<tf.Tensor 'MaxPool_4:0' shape=(?, 2, 2, 256) dtype=float32>"
      ]
     },
     "execution_count": 37,
     "metadata": {
      "tags": []
     },
     "output_type": "execute_result"
    }
   ],
   "source": [
    "conv5 = tf.nn.max_pool(h_conv5, ksize = [1,2,2,1], strides = [1,2,2,1], padding = 'SAME')#max_pool 2x2\n",
    "conv5"
   ]
  },
  {
   "cell_type": "markdown",
   "metadata": {
    "colab_type": "text",
    "id": "ZpSg9jF9oGAq"
   },
   "source": [
    "### 7. Fully Connected Layer (Dense)"
   ]
  },
  {
   "cell_type": "markdown",
   "metadata": {
    "colab_type": "text",
    "id": "LzPoWblroGAq"
   },
   "source": [
    "You need a fully connected layer to use the Softmax and create the probabilities in the end. Fully connected layers take the high-level filtered images from previous layer, that is all 64 matrices, and convert them to a flat array.\n",
    "\n",
    "So, each matrix [7x7] will be converted to a matrix of [49x1], and then all of the 64 matrix will be connected, which make an array of size [3136x1]. We will connect it into another layer of size [1024x1]. So, the weight between these 2 layers will be [3136x1024]"
   ]
  },
  {
   "cell_type": "markdown",
   "metadata": {
    "colab_type": "text",
    "id": "mqhVOYfkoGAr"
   },
   "source": [
    "#### Flattening Second Layer"
   ]
  },
  {
   "cell_type": "code",
   "execution_count": 0,
   "metadata": {
    "colab": {},
    "colab_type": "code",
    "id": "wEqVoYJmoGAr"
   },
   "outputs": [],
   "source": [
    "layer5_matrix = tf.reshape(conv5,[-1,2*2*256]) # we don't care the 1st dimension\n"
   ]
  },
  {
   "cell_type": "markdown",
   "metadata": {
    "colab_type": "text",
    "id": "zjG9ZajJoGAt"
   },
   "source": [
    "#### Weights and biase between layer 5 and 6"
   ]
  },
  {
   "cell_type": "code",
   "execution_count": 0,
   "metadata": {
    "colab": {},
    "colab_type": "code",
    "id": "NYAnoTKgoGAu"
   },
   "outputs": [],
   "source": [
    "W_fc1 = tf.Variable(tf.truncated_normal([2*2*256,1024], stddev = 0.1 ))\n",
    "b_fc1 = tf.Variable(tf.constant(0.1, shape = [1024] )) # 1024 biases for 1024 outputs\n"
   ]
  },
  {
   "cell_type": "markdown",
   "metadata": {
    "colab_type": "text",
    "id": "JRnbpAEtoGAx"
   },
   "source": [
    "#### Matrix Multiplication (Applying weights and biases)"
   ]
  },
  {
   "cell_type": "code",
   "execution_count": 0,
   "metadata": {
    "colab": {},
    "colab_type": "code",
    "id": "_oH4MHDhoGAx"
   },
   "outputs": [],
   "source": [
    "fc1 = tf.matmul(layer5_matrix, W_fc1)+b_fc1"
   ]
  },
  {
   "cell_type": "markdown",
   "metadata": {
    "colab_type": "text",
    "id": "zR9oQf1KoGA2"
   },
   "source": [
    "#### Apply the ReLU activation function"
   ]
  },
  {
   "cell_type": "code",
   "execution_count": 42,
   "metadata": {
    "colab": {
     "base_uri": "https://localhost:8080/",
     "height": 34
    },
    "colab_type": "code",
    "id": "YmeKmIkioGA3",
    "outputId": "c86bdeac-0283-475c-e322-48751e66468a"
   },
   "outputs": [
    {
     "data": {
      "text/plain": [
       "<tf.Tensor 'Relu_6:0' shape=(?, 1024) dtype=float32>"
      ]
     },
     "execution_count": 42,
     "metadata": {
      "tags": []
     },
     "output_type": "execute_result"
    }
   ],
   "source": [
    "h_fc1 = tf.nn.relu(fc1)\n",
    "h_fc1"
   ]
  },
  {
   "cell_type": "markdown",
   "metadata": {
    "colab_type": "text",
    "id": "82AepDHBoGA8"
   },
   "source": [
    "Third layer is completed!"
   ]
  },
  {
   "cell_type": "markdown",
   "metadata": {
    "colab_type": "text",
    "id": "SZbA3xLRoGA9"
   },
   "source": [
    "### 8. Dropout Layer, (Optional phase for reducing overfitting)"
   ]
  },
  {
   "cell_type": "markdown",
   "metadata": {
    "colab_type": "text",
    "id": "fP861GRRoGA-"
   },
   "source": [
    "It is a phase where the network \"forget\" some features. At each training step in a mini-batch, some units get switched off randomly so that it will not interact with the network. That is, it weights cannot be updated, nor affect the learning of the other network nodes.  This can be very useful for very large neural networks to prevent overfitting."
   ]
  },
  {
   "cell_type": "code",
   "execution_count": 43,
   "metadata": {
    "colab": {
     "base_uri": "https://localhost:8080/",
     "height": 34
    },
    "colab_type": "code",
    "id": "9TEaTr8YoGA_",
    "outputId": "d3e65aa5-d822-4951-9f73-009e3b178ae4"
   },
   "outputs": [
    {
     "data": {
      "text/plain": [
       "<tf.Tensor 'dropout/mul_1:0' shape=(?, 1024) dtype=float32>"
      ]
     },
     "execution_count": 43,
     "metadata": {
      "tags": []
     },
     "output_type": "execute_result"
    }
   ],
   "source": [
    "keep_prob = tf.placeholder(tf.float32)\n",
    "layer_drop = tf.nn.dropout(h_fc1, rate = 1-keep_prob)\n",
    "layer_drop"
   ]
  },
  {
   "cell_type": "markdown",
   "metadata": {
    "colab_type": "text",
    "id": "A99RxjK_oGBB"
   },
   "source": [
    "Note: p (keep_prob)=0.5 is recommended configuration, except for the input layer which is recommended to have p=0.8."
   ]
  },
  {
   "cell_type": "markdown",
   "metadata": {
    "colab_type": "text",
    "id": "_SgEFreSoGBE"
   },
   "source": [
    "In other words, at testing time we treat it as a normal neural network without dropout, and at training time we upscale the values by 1/prob."
   ]
  },
  {
   "cell_type": "markdown",
   "metadata": {
    "colab_type": "text",
    "id": "LGLTZXcloGBG"
   },
   "source": [
    "### 9. Readout Layer (Softmax Layer)"
   ]
  },
  {
   "cell_type": "markdown",
   "metadata": {
    "colab_type": "text",
    "id": "P2wbKhSvoGBH"
   },
   "source": [
    "Type: Softmax, Fully Connected Layer."
   ]
  },
  {
   "cell_type": "markdown",
   "metadata": {
    "colab_type": "text",
    "id": "pgDkV5IXoGBI"
   },
   "source": [
    "<h4>Weights and Biases</h4>"
   ]
  },
  {
   "cell_type": "markdown",
   "metadata": {
    "colab_type": "text",
    "id": "7CAGCSKpoGBJ"
   },
   "source": [
    "In last layer, CNN takes the high-level filtered images and translate them into votes using softmax.\n",
    "Input channels: 1024 (neurons from the 3rd Layer); 10 output features"
   ]
  },
  {
   "cell_type": "code",
   "execution_count": 0,
   "metadata": {
    "colab": {},
    "colab_type": "code",
    "id": "bq20Mt9BoGBK"
   },
   "outputs": [],
   "source": [
    "W_fc2 = tf.Variable(tf.truncated_normal([1024,2], stddev = 0.1 ))\n",
    "b_fc2 = tf.Variable(tf.constant(0.1, shape = [2] )) # 2 biases for 2 output\n"
   ]
  },
  {
   "cell_type": "markdown",
   "metadata": {
    "colab_type": "text",
    "id": "niIXslXkoGBO"
   },
   "source": [
    "#### Matrix Multiplication (Applying weights and biases)"
   ]
  },
  {
   "cell_type": "code",
   "execution_count": 0,
   "metadata": {
    "colab": {},
    "colab_type": "code",
    "id": "756owgeRoGBR"
   },
   "outputs": [],
   "source": [
    "fc = tf.matmul(layer_drop, W_fc2)+b_fc2"
   ]
  },
  {
   "cell_type": "markdown",
   "metadata": {
    "colab_type": "text",
    "id": "mHjW3Rz5oGBV"
   },
   "source": [
    "#### Apply the Softmax activation function"
   ]
  },
  {
   "cell_type": "code",
   "execution_count": 0,
   "metadata": {
    "colab": {},
    "colab_type": "code",
    "id": "W9V3kN4aoGBW"
   },
   "outputs": [],
   "source": [
    "y_CNN = tf.nn.softmax(fc)"
   ]
  },
  {
   "cell_type": "markdown",
   "metadata": {
    "colab_type": "text",
    "id": "eCqkuFHuoGBX"
   },
   "source": [
    "<a id=\"ref7\"></a>\n",
    "<h2>Summary of the Deep Convolutional Neural Network</h2>"
   ]
  },
  {
   "cell_type": "markdown",
   "metadata": {
    "colab_type": "text",
    "id": "aLh_SvznoGBY"
   },
   "source": [
    "Now is time to remember the structure of  our network"
   ]
  },
  {
   "cell_type": "markdown",
   "metadata": {
    "colab_type": "text",
    "id": "3RQvPXwDoGBY"
   },
   "source": [
    "#### 0) Input - MNIST dataset\n",
    "#### 1) Convolutional and Max-Pooling\n",
    "#### 2) Convolutional and Max-Pooling\n",
    "#### 3) Fully Connected Layer\n",
    "#### 4) Processing - Dropout\n",
    "#### 5) Readout layer - Fully Connected\n",
    "#### 6) Outputs - Classified digits"
   ]
  },
  {
   "cell_type": "markdown",
   "metadata": {
    "colab_type": "text",
    "id": "xralTRGuoGBZ"
   },
   "source": [
    "We've completed our CNN model. Now we will train it by our MNIST dataset."
   ]
  },
  {
   "cell_type": "markdown",
   "metadata": {
    "colab_type": "text",
    "id": "B0ji1gcjoGBZ"
   },
   "source": [
    "### 10.Define functions"
   ]
  },
  {
   "cell_type": "markdown",
   "metadata": {
    "colab_type": "text",
    "id": "YR6L0PP3oGBa"
   },
   "source": [
    "#### Define the loss function"
   ]
  },
  {
   "cell_type": "markdown",
   "metadata": {
    "colab_type": "text",
    "id": "fkcDi7rwoGBa"
   },
   "source": [
    "1. We use Binary Cross-Entropy function (Log loss) to determine the loss of model."
   ]
  },
  {
   "cell_type": "markdown",
   "metadata": {
    "colab_type": "text",
    "id": "MYVFTat6oGBa"
   },
   "source": [
    "$$H(p,q) = -\\dfrac{1}{N}\\sum_{x}p(x)\\log(q(x))+(1-p(x))\\log (1-q(x))$$\n",
    "\n",
    "where $p$ is a probability of actual values, $q$ is a probability of predicted values and $N$ is number of instances. "
   ]
  },
  {
   "cell_type": "code",
   "execution_count": 0,
   "metadata": {
    "colab": {},
    "colab_type": "code",
    "id": "NODxfcs7oGBb"
   },
   "outputs": [],
   "source": [
    "#binary_cross_entropy = tf.reduce_mean(-tf.reduce_sum(y_act*tf.log(y_CNN)+(1-y_act)*tf.log(1-y_CNN),\n",
    "                 #                                    reduction_indices=[1]))\n"
   ]
  },
  {
   "cell_type": "markdown",
   "metadata": {
    "colab_type": "text",
    "id": "i7lSxlAQoGBd"
   },
   "source": [
    "2. We use cross-entropy function to determine the loss of model."
   ]
  },
  {
   "cell_type": "markdown",
   "metadata": {
    "colab_type": "text",
    "id": "GtsRTfY_oGBd"
   },
   "source": [
    "$$H(p,q) = -\\dfrac{1}{N}\\sum_{x}p(x)\\log q(x)$$\n",
    "\n",
    "where $p$ is a probability of actual values, $q$ is a probability of predicted values and $N$ is number of instances. "
   ]
  },
  {
   "cell_type": "code",
   "execution_count": 0,
   "metadata": {
    "colab": {},
    "colab_type": "code",
    "id": "G3_T56ozoGBe"
   },
   "outputs": [],
   "source": [
    "cross_entropy = tf.reduce_mean(-tf.reduce_sum(y_act*tf.log(y_CNN),reduction_indices=[1]))\n"
   ]
  },
  {
   "cell_type": "markdown",
   "metadata": {
    "colab_type": "text",
    "id": "QtcLIkZToGBh"
   },
   "source": [
    "#### Define the optimizer"
   ]
  },
  {
   "cell_type": "markdown",
   "metadata": {
    "colab_type": "text",
    "id": "OClMKGrpoGBi"
   },
   "source": [
    "We use the optimizer AdamOptimizer."
   ]
  },
  {
   "cell_type": "code",
   "execution_count": 0,
   "metadata": {
    "colab": {},
    "colab_type": "code",
    "id": "pb-ZH9VBoGBj"
   },
   "outputs": [],
   "source": [
    "train_step = tf.train.AdamOptimizer(learning_rate = 1e-4).minimize(cross_entropy)\n"
   ]
  },
  {
   "cell_type": "markdown",
   "metadata": {
    "colab_type": "text",
    "id": "69H_G2YYoGBk"
   },
   "source": [
    "#### Define prediction"
   ]
  },
  {
   "cell_type": "code",
   "execution_count": 0,
   "metadata": {
    "colab": {},
    "colab_type": "code",
    "id": "E2VxkSaMoGBm"
   },
   "outputs": [],
   "source": [
    "correct_prediction =  tf.equal(tf.argmax(y_CNN,1),tf.argmax(y_act,1))"
   ]
  },
  {
   "cell_type": "markdown",
   "metadata": {
    "colab_type": "text",
    "id": "shP_cuePoGBq"
   },
   "source": [
    "#### Define accuracy"
   ]
  },
  {
   "cell_type": "code",
   "execution_count": 0,
   "metadata": {
    "colab": {},
    "colab_type": "code",
    "id": "9xDgQ5fVoGBr"
   },
   "outputs": [],
   "source": [
    "accuracy = tf.reduce_mean(tf.cast(correct_prediction,tf.float32))"
   ]
  },
  {
   "cell_type": "markdown",
   "metadata": {
    "colab_type": "text",
    "id": "yWCjcE_koGBu"
   },
   "source": [
    "### 11. Run session and Train our model"
   ]
  },
  {
   "cell_type": "code",
   "execution_count": 0,
   "metadata": {
    "colab": {},
    "colab_type": "code",
    "id": "3Sx30gnooGBv"
   },
   "outputs": [],
   "source": [
    "sess.run(tf.global_variables_initializer())"
   ]
  },
  {
   "cell_type": "code",
   "execution_count": 0,
   "metadata": {
    "colab": {},
    "colab_type": "code",
    "id": "bFn91b5roGBx"
   },
   "outputs": [],
   "source": [
    "#Vectors for stroring accuracy and loss values\n",
    "train_accuracy = []\n",
    "train_loss = []\n",
    "test_accuracy = []\n",
    "test_loss = []\n",
    "#Setting batch size to avoid costly computation\n",
    "size_batch = 50\n",
    "train_n_batches = len(X_train[0])//size_batch\n",
    "test_n_batches = len(X_test[0])//size_batch\n",
    "\n",
    "for _ in range(3000):\n",
    "    cumulative_train_accuracy = 0.0\n",
    "    cumulative_train_loss =0.0\n",
    "    cumulative_test_accuracy = 0.0\n",
    "    cumulative_test_loss =0.0\n",
    "    #Train the model\n",
    "    for i in range(train_n_batches):\n",
    "        batch_X = X_train[i*size_batch:(i+1)*size_batch]\n",
    "        batch_y = y_train[i*size_batch:(i+1)*size_batch]\n",
    "        batch_train_accuracy, batch_train_loss = sess.run([accuracy,cross_entropy],feed_dict = {x_input: batch_X,y_act: batch_y,keep_prob: 0.8})\n",
    "        cumulative_train_accuracy += batch_train_accuracy\n",
    "        cumulative_train_loss += batch_train_loss\n",
    "        train_step.run(feed_dict = {x_input: batch_X, y_act:batch_y,keep_prob: 0.5})\n",
    "    train_accuracy.append(cumulative_train_accuracy/train_n_batches)\n",
    "    train_loss.append(cumulative_train_loss/train_n_batches)\n",
    "    #Evaluate the model (evaluate in batches to avoid out-of-memory issues)\n",
    "    for j in range(test_n_batches):\n",
    "        batch_X = X_test[j*size_batch:(j+1)*size_batch]\n",
    "        batch_y = y_test[j*size_batch:(j+1)*size_batch]\n",
    "        batch_test_accuracy, batch_test_loss = sess.run([accuracy,cross_entropy],feed_dict = {x_input:batch_X, y_act:batch_y,keep_prob: 0.8})\n",
    "        cumulative_test_accuracy += batch_test_accuracy\n",
    "        cumulative_test_loss += batch_test_loss\n",
    "    test_accuracy.append(cumulative_test_accuracy/test_n_batches)\n",
    "    test_loss.append(cumulative_test_loss/test_n_batches)    \n",
    "    "
   ]
  },
  {
   "cell_type": "markdown",
   "metadata": {
    "colab_type": "text",
    "id": "DVScte4BoGBy"
   },
   "source": [
    "### 12.Plot train-validation loss and accuracy "
   ]
  },
  {
   "cell_type": "code",
   "execution_count": 59,
   "metadata": {
    "colab": {
     "base_uri": "https://localhost:8080/",
     "height": 295
    },
    "colab_type": "code",
    "id": "5j3UadrAoGBz",
    "outputId": "9dda0d4d-3dff-4447-9ad8-477f951d3399"
   },
   "outputs": [
    {
     "data": {
      "image/png": "[encoded data removed]",
      "text/plain": [
       "<Figure size 432x288 with 1 Axes>"
      ]
     },
     "metadata": {
      "tags": []
     },
     "output_type": "display_data"
    }
   ],
   "source": [
    "#Training-Validation loss\n",
    "plt.plot(range(len(train_loss)),train_loss, color = 'b', label = \"Training Loss\" )\n",
    "plt.plot(range(len(train_loss)),test_loss, color = 'r', label = \"Test Loss\" )\n",
    "plt.title(\"Training-Test loss\")\n",
    "plt.xlabel(\"Epochs\")\n",
    "plt.ylabel(\"Loss\")\n",
    "plt.legend()\n",
    "plt.show()"
   ]
  },
  {
   "cell_type": "code",
   "execution_count": 60,
   "metadata": {
    "colab": {
     "base_uri": "https://localhost:8080/",
     "height": 295
    },
    "colab_type": "code",
    "id": "8EFBizU8oGB2",
    "outputId": "5a4501eb-cd1c-43e8-a9be-d737f993c3a1"
   },
   "outputs": [
    {
     "data": {
      "image/png": "[encoded data removed]",
      "text/plain": [
       "<Figure size 432x288 with 1 Axes>"
      ]
     },
     "metadata": {
      "tags": []
     },
     "output_type": "display_data"
    }
   ],
   "source": [
    "#Training-Validation Accuracy\n",
    "plt.plot(range(len(train_accuracy)),train_accuracy, color = 'b', label = \"Training accuracy\" )\n",
    "plt.plot(range(len(train_accuracy)),test_accuracy, color = 'r', label = \"Test accuracy\" )\n",
    "plt.title(\"Training-Test accuracy\")\n",
    "plt.xlabel(\"Epochs\")\n",
    "plt.ylabel(\"accuracy\")\n",
    "plt.legend()\n",
    "plt.show()"
   ]
  },
  {
   "cell_type": "markdown",
   "metadata": {
    "colab_type": "text",
    "id": "eYrfVKOWoGB6"
   },
   "source": [
    "### Evaluate the model"
   ]
  },
  {
   "cell_type": "code",
   "execution_count": 0,
   "metadata": {
    "colab": {},
    "colab_type": "code",
    "id": "9RbWsDxFoGB6"
   },
   "outputs": [],
   "source": [
    "#evaluate in batches to avoid out-of-memory issues\n",
    "n_batches = mnist.test.images.shape[0]//50\n",
    "cumulative_accuracy = 0.0\n",
    "for index in range(n_batches):\n",
    "    batch = mnist.test.next_batch(50)\n",
    "    cumulative_accuracy += accuracy.eval(feed_dict = {x:batch[0], y_act:batch[1],keep_prob: 1.0})\n",
    "print(\"Test accuracy {}\".format(cumulative_accuracy/n_batches))"
   ]
  },
  {
   "cell_type": "markdown",
   "metadata": {
    "colab_type": "text",
    "id": "qXiSG2V2oGB8"
   },
   "source": [
    "### Visualization"
   ]
  },
  {
   "cell_type": "markdown",
   "metadata": {
    "colab_type": "text",
    "id": "GYL0_NpboGB8"
   },
   "source": [
    "Fistly, we will visualize all the filters."
   ]
  },
  {
   "cell_type": "code",
   "execution_count": 0,
   "metadata": {
    "colab": {},
    "colab_type": "code",
    "id": "DpVfk20FoGB8"
   },
   "outputs": [],
   "source": [
    "kernels = sess.run(tf.reshape(tf.transpose(W_conv1, perm=[2, 3, 0,1]),[32, -1]))"
   ]
  },
  {
   "cell_type": "code",
   "execution_count": 0,
   "metadata": {
    "colab": {},
    "colab_type": "code",
    "id": "93kFaFXmoGB-"
   },
   "outputs": [],
   "source": [
    "!wget --output-document utils1.py http://deeplearning.net/tutorial/code/utils.py\n",
    "import utils1\n",
    "from utils1 import tile_raster_images\n",
    "import matplotlib.pyplot as plt\n",
    "from PIL import Image\n",
    "%matplotlib inline\n",
    "image = Image.fromarray(tile_raster_images(kernels, img_shape=(5, 5) ,tile_shape=(4, 8), tile_spacing=(1, 1)))\n",
    "### Plot image\n",
    "plt.rcParams['figure.figsize'] = (18.0, 18.0)\n",
    "imgplot = plt.imshow(image)\n",
    "imgplot.set_cmap('gray')  "
   ]
  },
  {
   "cell_type": "markdown",
   "metadata": {
    "colab_type": "text",
    "id": "P4WJmnLGoGB_"
   },
   "source": [
    "Secondly,  we will see the output of an image passing through 1st convolution layer."
   ]
  },
  {
   "cell_type": "code",
   "execution_count": 0,
   "metadata": {
    "colab": {},
    "colab_type": "code",
    "id": "fKsm9jL-oGCA"
   },
   "outputs": [],
   "source": [
    "import numpy as np\n",
    "plt.rcParams['figure.figsize'] = (5.0,5.0)\n",
    "sampleimage = mnist.test.images[1]\n",
    "plt.imshow(np.reshape(sampleimage,[28,28]),cmap=\"gray\")"
   ]
  },
  {
   "cell_type": "code",
   "execution_count": 0,
   "metadata": {
    "colab": {},
    "colab_type": "code",
    "id": "aRJDKVqqoGCC"
   },
   "outputs": [],
   "source": [
    "ActivatedUnits = sess.run(convolve1,feed_dict={x:np.reshape(sampleimage,[1,784],order='F'),keep_prob:1.0})\n",
    "filters = ActivatedUnits.shape[3] #remember that size of 1st convolution layer is\n",
    "                                  # [-1,28,28,32]      \n",
    "plt.figure(1, figsize=(20,20))\n",
    "n_columns = 6\n",
    "n_rows = np.math.ceil(filters / n_columns) + 1\n",
    "for i in range(filters):\n",
    "    plt.subplot(n_rows, n_columns, i+1)\n",
    "    plt.subplots_adjust(wspace=0.5, hspace=0.5)\n",
    "    plt.title('Image through filter ' + str(i))\n",
    "    plt.imshow(ActivatedUnits[0,:,:,i], interpolation=\"nearest\", cmap=\"gray\")"
   ]
  },
  {
   "cell_type": "markdown",
   "metadata": {
    "colab_type": "text",
    "id": "Wn1EIsIdoGCE"
   },
   "source": [
    "Finally, we will see the output of an image passing through 2nd convolution layer."
   ]
  },
  {
   "cell_type": "code",
   "execution_count": 0,
   "metadata": {
    "colab": {},
    "colab_type": "code",
    "id": "3rOVYFQRoGCG"
   },
   "outputs": [],
   "source": [
    "ActivatedUnits = sess.run(convolve2,feed_dict={x:np.reshape(sampleimage,[1,784],order='F'),keep_prob:1.0})\n",
    "filters = ActivatedUnits.shape[3]#size of 2nd convolution layer is\n",
    "                                  # [-1,7,7,64]\n",
    "plt.figure(1, figsize=(20,20))\n",
    "n_columns = 8\n",
    "n_rows = np.math.ceil(filters / n_columns) + 1\n",
    "for i in range(filters):\n",
    "    plt.subplot(n_rows, n_columns, i+1)\n",
    "    plt.subplots_adjust(wspace=0.5, hspace=0.5)\n",
    "    plt.title('Image through filter ' + str(i))\n",
    "    plt.imshow(ActivatedUnits[0,:,:,i], interpolation=\"nearest\", cmap=\"gray\")"
   ]
  }
 ],
 "metadata": {
  "accelerator": "GPU",
  "colab": {
   "name": "CNN-cat-dog-classification.ipynb",
   "provenance": [],
   "toc_visible": true,
   "version": "0.3.2"
  },
  "kernelspec": {
   "display_name": "Python 3",
   "language": "python",
   "name": "python3"
  },
  "language_info": {
   "codemirror_mode": {
    "name": "ipython",
    "version": 3
   },
   "file_extension": ".py",
   "mimetype": "text/x-python",
   "name": "python",
   "nbconvert_exporter": "python",
   "pygments_lexer": "ipython3",
   "version": "3.5.4"
  }
 },
 "nbformat": 4,
 "nbformat_minor": 1
}
