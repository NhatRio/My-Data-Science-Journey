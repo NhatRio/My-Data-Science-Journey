{
 "cells": [
  {
   "cell_type": "markdown",
   "metadata": {
    "colab_type": "text",
    "id": "LMDzsmSGZkNi"
   },
   "source": [
    "PATH\n",
    "\n",
    "Importation des packages nécessaires et du jeu de données\n",
    "\n",
    "A. Evaluation sur les tweets sans traitement\n",
    "\n",
    "B. Evaluation sur les tweets traités: \"Corpus\"\n",
    "\n",
    "C. Evaluation sur les tweets traités avec POS tagging: \"Corpus\"+\"POS tagging\"\n",
    "\n",
    "Résultats\n"
   ]
  },
  {
   "cell_type": "markdown",
   "metadata": {
    "colab_type": "text",
    "id": "EN7Bz_TXsakf"
   },
   "source": [
    "## PATH"
   ]
  },
  {
   "cell_type": "code",
   "execution_count": 74,
   "metadata": {
    "colab": {
     "base_uri": "https://localhost:8080/",
     "height": 124
    },
    "colab_type": "code",
    "id": "yk9KTAHYe9Bm",
    "outputId": "859ec5bc-1628-49f8-e8b8-0d0958ff6abb"
   },
   "outputs": [],
   "source": [
    "file_path_data = 'data/data_clean/'\n",
    "file_path_models = 'models_training/'"
   ]
  },
  {
   "cell_type": "markdown",
   "metadata": {
    "colab_type": "text",
    "id": "CuVkYWLrqu_l"
   },
   "source": [
    "# Importation des packages nécessaires et du jeu de données"
   ]
  },
  {
   "cell_type": "code",
   "execution_count": 75,
   "metadata": {
    "colab": {},
    "colab_type": "code",
    "id": "VbXenEDme3ul"
   },
   "outputs": [],
   "source": [
    "import numpy as np\n",
    "import matplotlib.pyplot as plt\n",
    "import pandas as pd\n",
    "import numpy as np\n",
    "import matplotlib.pyplot as plt\n",
    "import pandas as pd\n",
    "import re \n",
    "import nltk\n",
    "from nltk.corpus import stopwords\n",
    "from nltk.stem.porter import PorterStemmer \n",
    "from sklearn.model_selection import train_test_split\n",
    "from sklearn.model_selection import GridSearchCV, cross_val_score\n",
    "from sklearn.feature_extraction.text import TfidfVectorizer\n",
    "from sklearn.feature_extraction.text import CountVectorizer\n",
    "from sklearn.metrics import classification_report\n",
    "import pickle"
   ]
  },
  {
   "cell_type": "code",
   "execution_count": 76,
   "metadata": {
    "colab": {},
    "colab_type": "code",
    "id": "FGPY22COe3vV"
   },
   "outputs": [],
   "source": [
    "df = pd.read_csv(file_path_data+'data_clean.csv', index_col = 0)"
   ]
  },
  {
   "cell_type": "markdown",
   "metadata": {
    "colab_type": "text",
    "id": "_5x9fXkcpMMS"
   },
   "source": [
    "# A. Evaluation sur  les tweets sans traitement"
   ]
  },
  {
   "cell_type": "markdown",
   "metadata": {
    "colab_type": "text",
    "id": "iPY09xuHteyU"
   },
   "source": [
    "## I. Données et modèles entraînés"
   ]
  },
  {
   "cell_type": "code",
   "execution_count": 77,
   "metadata": {
    "colab": {},
    "colab_type": "code",
    "id": "pBiJagGQFRJD"
   },
   "outputs": [],
   "source": [
    "# Path des modèles entrainés\n",
    "trained_model_path = file_path_models+'Best_models_A/'"
   ]
  },
  {
   "cell_type": "code",
   "execution_count": 78,
   "metadata": {
    "colab": {},
    "colab_type": "code",
    "id": "souTTFrUe3vg"
   },
   "outputs": [],
   "source": [
    "# Données\n",
    "X = df['text']\n",
    "y = df.target"
   ]
  },
  {
   "cell_type": "code",
   "execution_count": 79,
   "metadata": {
    "colab": {},
    "colab_type": "code",
    "id": "ffqf4bI8e3v0"
   },
   "outputs": [],
   "source": [
    "# Séparation des données\n",
    "from sklearn.model_selection import train_test_split\n",
    "X_train,X_test,y_train,y_test = train_test_split(X,y,test_size=0.2, random_state = 0)"
   ]
  },
  {
   "cell_type": "code",
   "execution_count": 80,
   "metadata": {},
   "outputs": [
    {
     "data": {
      "text/plain": [
       "index\n",
       "10675               can't figure out how to load a picture \n",
       "27440     In bed. Still got cracking headache. 3 weeks now \n",
       "169327    just back from the city and I am now the proud...\n",
       "180780    I need to set up tea making facilities in my car \n",
       "120093    #ASOT400 Buenos Aires @Argentina, under A stat...\n",
       "                                ...                        \n",
       "49428     Stuffed now  just had a pint and steak in the ...\n",
       "90616     @thomshouse quite sure it wasn't &quot;hacked&...\n",
       "48264     Is mooooving to the iiiisland! but can't find ...\n",
       "174711                      @bogarantyu no, he's recovered \n",
       "170286    YOU didn't expect this from me on a Saturday m...\n",
       "Name: text, Length: 39989, dtype: object"
      ]
     },
     "execution_count": 80,
     "metadata": {},
     "output_type": "execute_result"
    }
   ],
   "source": [
    "X_test"
   ]
  },
  {
   "cell_type": "markdown",
   "metadata": {
    "colab_type": "text",
    "id": "R4HQIMtivVaq"
   },
   "source": [
    "## II. Evaluation des modèles"
   ]
  },
  {
   "cell_type": "code",
   "execution_count": 81,
   "metadata": {},
   "outputs": [],
   "source": [
    "# Créer un dictionnaire qui contient les prédictions\n",
    "prediction_A = dict()"
   ]
  },
  {
   "cell_type": "markdown",
   "metadata": {},
   "source": [
    "## 1. Avec CountVectorizer:"
   ]
  },
  {
   "cell_type": "code",
   "execution_count": 82,
   "metadata": {
    "colab": {},
    "colab_type": "code",
    "id": "csQT5rjpe3v7"
   },
   "outputs": [],
   "source": [
    "# Vectorizer les données\n",
    "vectorizer = pickle.load(open(trained_model_path+'vectorizer.sav', 'rb'))\n",
    "X_test = vectorizer.transform(X_test)\n",
    "X_train = vectorizer.transform(X_train)"
   ]
  },
  {
   "cell_type": "code",
   "execution_count": 83,
   "metadata": {},
   "outputs": [],
   "source": [
    "models_name = ['Logistic', 'Naif bayésien BernoulliNB', 'Naif bayésien MultinomialNB', 'Decision Tree',\n",
    "              'Random Forest']\n",
    "trained_models = ['logreg','ber','nb','dc','rf']"
   ]
  },
  {
   "cell_type": "code",
   "execution_count": 84,
   "metadata": {},
   "outputs": [],
   "source": [
    "# models_name = ['KNeighbors', 'XGBoost', 'GradientBoosting', 'AdaBoost']#, 'MLP']\n",
    "# trained_models = ['knn','xgb','gradbt','ac']#, 'mlp']"
   ]
  },
  {
   "cell_type": "code",
   "execution_count": 85,
   "metadata": {},
   "outputs": [],
   "source": [
    "def test(models_name, trained_models, X_test, y_test, s = 'tweets'):\n",
    "    prediction = dict()\n",
    "    for i in range(len(models_name)):\n",
    "        model = pickle.load(open(trained_model_path+trained_models[i]+'.sav', 'rb'))     \n",
    "        prediction[models_name[i] + '_' + s ] = model.predict(X_test) #save the prediction to dictionary\n",
    "        print(\"\\n\"+\"=\"*40+models_name[i]+\"=\"*40+\"\\n\")\n",
    "        print(\"Evaluation détaillée de la Classification par \" + models_name[i] +\":\\n \\n\", classification_report(y_test,prediction[models_name[i] + '_' + s]))\n",
    "        confusion_matrix = pd.crosstab(y_test, prediction[models_name[i] + '_' + s], rownames=['Classe réelle'],colnames=['Classe prédite'])\n",
    "        print(\"La matrice de confusion pour la Classification par \" + models_name[i] +\" :\\n \\n\" ,confusion_matrix)\n",
    "        accuracy = model.score(X_test, y_test)\n",
    "        print(\"Le score pour la Classification par \" + models_name[i] + \": \",accuracy)\n",
    "    return prediction"
   ]
  },
  {
   "cell_type": "code",
   "execution_count": 86,
   "metadata": {},
   "outputs": [
    {
     "name": "stdout",
     "output_type": "stream",
     "text": [
      "\n",
      "========================================Logistic========================================\n",
      "\n",
      "Evaluation détaillée de la Classification par Logistic:\n",
      " \n",
      "              precision    recall  f1-score   support\n",
      "\n",
      "          0       0.80      0.78      0.79     19887\n",
      "          4       0.78      0.81      0.80     20102\n",
      "\n",
      "avg / total       0.79      0.79      0.79     39989\n",
      "\n",
      "La matrice de confusion pour la Classification par Logistic :\n",
      " \n",
      " Classe prédite      0      4\n",
      "Classe réelle               \n",
      "0               15428   4459\n",
      "4                3892  16210\n",
      "Le score pour la Classification par Logistic:  0.7911675710820476\n",
      "\n",
      "========================================Naif bayésien BernoulliNB========================================\n",
      "\n",
      "Evaluation détaillée de la Classification par Naif bayésien BernoulliNB:\n",
      " \n",
      "              precision    recall  f1-score   support\n",
      "\n",
      "          0       0.76      0.81      0.78     19887\n",
      "          4       0.80      0.74      0.77     20102\n",
      "\n",
      "avg / total       0.78      0.78      0.78     39989\n",
      "\n",
      "La matrice de confusion pour la Classification par Naif bayésien BernoulliNB :\n",
      " \n",
      " Classe prédite      0      4\n",
      "Classe réelle               \n",
      "0               16113   3774\n",
      "4                5213  14889\n",
      "Le score pour la Classification par Naif bayésien BernoulliNB:  0.7752631973792793\n",
      "\n",
      "========================================Naif bayésien MultinomialNB========================================\n",
      "\n",
      "Evaluation détaillée de la Classification par Naif bayésien MultinomialNB:\n",
      " \n",
      "              precision    recall  f1-score   support\n",
      "\n",
      "          0       0.75      0.82      0.78     19887\n",
      "          4       0.80      0.72      0.76     20102\n",
      "\n",
      "avg / total       0.77      0.77      0.77     39989\n",
      "\n",
      "La matrice de confusion pour la Classification par Naif bayésien MultinomialNB :\n",
      " \n",
      " Classe prédite      0      4\n",
      "Classe réelle               \n",
      "0               16304   3583\n",
      "4                5574  14528\n",
      "Le score pour la Classification par Naif bayésien MultinomialNB:  0.7710120283077846\n",
      "\n",
      "========================================Decision Tree========================================\n",
      "\n",
      "Evaluation détaillée de la Classification par Decision Tree:\n",
      " \n",
      "              precision    recall  f1-score   support\n",
      "\n",
      "          0       0.71      0.72      0.71     19887\n",
      "          4       0.72      0.71      0.72     20102\n",
      "\n",
      "avg / total       0.71      0.71      0.71     39989\n",
      "\n",
      "La matrice de confusion pour la Classification par Decision Tree :\n",
      " \n",
      " Classe prédite      0      4\n",
      "Classe réelle               \n",
      "0               14246   5641\n",
      "4                5760  14342\n",
      "Le score pour la Classification par Decision Tree:  0.7148965965640551\n",
      "\n",
      "========================================Random Forest========================================\n",
      "\n",
      "Evaluation détaillée de la Classification par Random Forest:\n",
      " \n",
      "              precision    recall  f1-score   support\n",
      "\n",
      "          0       0.71      0.80      0.75     19887\n",
      "          4       0.78      0.68      0.72     20102\n",
      "\n",
      "avg / total       0.74      0.74      0.74     39989\n",
      "\n",
      "La matrice de confusion pour la Classification par Random Forest :\n",
      " \n",
      " Classe prédite      0      4\n",
      "Classe réelle               \n",
      "0               15999   3888\n",
      "4                6528  13574\n",
      "Le score pour la Classification par Random Forest:  0.739528370301833\n"
     ]
    }
   ],
   "source": [
    "prediction_A.update(test(models_name, trained_models, X_test, y_test, s = 'vec'))"
   ]
  },
  {
   "cell_type": "markdown",
   "metadata": {},
   "source": [
    "**Commentaire:** _La grille de recherche nous a permis de retrouver les paramètres optimaux du modèle de régression logistique qui sont: {'C': 0.1, 'penalty': 'l2'}._\n",
    "\n",
    "**Commentaire:** _La grille de recherche nous a permis de retrouver les paramètres optimaux du modèle knn qui sont: {'metric': 'minkowski', 'n_neighbors': 13, 'weights': 'distance'}._"
   ]
  },
  {
   "cell_type": "markdown",
   "metadata": {},
   "source": [
    "**Commentaire:** _Le modèle de régression logistique fournit des résultats très satisfaisants._\n",
    "\n",
    "**Commentaire:** _Les résultats obtenus avec le modèle naif bayésien BernoulliNB sont également satisfaisants. Le score, la précision et le recall obtenus sont corrects._\n",
    "\n",
    "**Commentaire:** _Les résultats obtenus avec le modèle naif bayésien MultinomialNB sont quasi similaires à ceux du BernoulliNB._\n",
    "\n",
    "**Commentaire:** _Le modèle knn forunit des résultats assez moyens._\n",
    "\n",
    "**Commentaire:** _Les résultats obtenus avec le modèle arbre de décision sont proches de ceux du knn._\n",
    "\n",
    "**Commentaire:** _Les résultats obtenus avec le modèle de forêt aléatoire sont satisfaisants._\n",
    "\n",
    "**Commentaire:** _Les résultats obtenus avec les modèles de boosting sont satisfaisants._"
   ]
  },
  {
   "cell_type": "markdown",
   "metadata": {
    "colab_type": "text",
    "id": "o3z3b0Jpe3wf"
   },
   "source": [
    "# 2. Avec une TF-IDF"
   ]
  },
  {
   "cell_type": "markdown",
   "metadata": {},
   "source": [
    "## 2.1.MLP"
   ]
  },
  {
   "cell_type": "code",
   "execution_count": 97,
   "metadata": {},
   "outputs": [],
   "source": [
    "X_train_mlp,X_test_mlp,y_train_mlp,y_test_mlp = train_test_split(df.text,df.target,test_size=0.2,random_state = 0)\n",
    "tvec_mlp = pickle.load(open(trained_model_path+'tvec_mlp.sav', 'rb'))\n",
    "X_test_mlp = tvec_mlp.transform(X_test_mlp)"
   ]
  },
  {
   "cell_type": "code",
   "execution_count": 88,
   "metadata": {},
   "outputs": [],
   "source": [
    "mlp = pickle.load(open(trained_model_path+'mlp_tfid.sav', 'rb'))"
   ]
  },
  {
   "cell_type": "code",
   "execution_count": 89,
   "metadata": {},
   "outputs": [],
   "source": [
    "prediction_A['MLP'] = mlp.predict(X_test_mlp)"
   ]
  },
  {
   "cell_type": "code",
   "execution_count": 90,
   "metadata": {},
   "outputs": [
    {
     "name": "stdout",
     "output_type": "stream",
     "text": [
      "Evaluation détaillée de la Classification par régression logistique :\n",
      " \n",
      "              precision    recall  f1-score   support\n",
      "\n",
      "          0       0.90      0.95      0.93     19887\n",
      "          4       0.95      0.89      0.92     20102\n",
      "\n",
      "avg / total       0.92      0.92      0.92     39989\n",
      "\n",
      "La matrice de confusion pour la Classification par régression logistique :\n",
      " \n",
      " Classe prédite      0      4\n",
      "Classe réelle               \n",
      "0               18953    934\n",
      "4                2134  17968\n",
      "Le score pour la Classification par régression logistique : 0.9232789016979669\n"
     ]
    }
   ],
   "source": [
    "print(\"Evaluation détaillée de la Classification par régression logistique :\\n \\n\" ,classification_report(y_test_mlp,prediction_A['MLP']))\n",
    "confusion_matrix = pd.crosstab(y_test_mlp, prediction_A['MLP'], rownames=['Classe réelle'],colnames=['Classe prédite'])\n",
    "print(\"La matrice de confusion pour la Classification par régression logistique :\\n \\n\" ,confusion_matrix)\n",
    "accuracy = mlp.score(X_test_mlp, y_test_mlp)\n",
    "print(\"Le score pour la Classification par régression logistique :\",accuracy)"
   ]
  },
  {
   "cell_type": "markdown",
   "metadata": {},
   "source": [
    "## 2.2 Logistique régression"
   ]
  },
  {
   "cell_type": "code",
   "execution_count": 101,
   "metadata": {
    "colab": {},
    "colab_type": "code",
    "id": "YKjVKIKDUzoa"
   },
   "outputs": [],
   "source": [
    "X_train_tf,X_test_tf,y_train_tf,y_test_tf = train_test_split(df.text,df.target,test_size=0.2,random_state = 0)\n",
    "tvec = pickle.load(open(trained_model_path+'tvec.sav', 'rb'))\n",
    "X_test_tf = tvec.transform(X_test_tf)"
   ]
  },
  {
   "cell_type": "code",
   "execution_count": 102,
   "metadata": {
    "colab": {},
    "colab_type": "code",
    "id": "iKo5vYczU0RT"
   },
   "outputs": [],
   "source": [
    "logreg_tfid = pickle.load(open(trained_model_path+'logreg_tfid.sav', 'rb'))\n",
    "prediction_A['Logistic_tfid'] = logreg_tfid.predict(X_test_tf)"
   ]
  },
  {
   "cell_type": "code",
   "execution_count": 103,
   "metadata": {},
   "outputs": [
    {
     "name": "stdout",
     "output_type": "stream",
     "text": [
      "Evaluation détaillée de la Classification par régression logistique :\n",
      " \n",
      "              precision    recall  f1-score   support\n",
      "\n",
      "          0       0.78      0.77      0.78     19887\n",
      "          4       0.78      0.78      0.78     20102\n",
      "\n",
      "avg / total       0.78      0.78      0.78     39989\n",
      "\n",
      "La matrice de confusion pour la Classification par régression logistique :\n",
      " \n",
      " Classe prédite      0      4\n",
      "Classe réelle               \n",
      "0               15360   4527\n",
      "4                4350  15752\n",
      "Le score pour la Classification par régression logistique : 0.7780139538373052\n"
     ]
    }
   ],
   "source": [
    "print(\"Evaluation détaillée de la Classification par régression logistique :\\n \\n\" ,classification_report(y_test_tf,prediction_A['Logistic_tfid']))\n",
    "confusion_matrix = pd.crosstab(y_test_tf, prediction_A['Logistic_tfid'], rownames=['Classe réelle'],colnames=['Classe prédite'])\n",
    "print(\"La matrice de confusion pour la Classification par régression logistique :\\n \\n\" ,confusion_matrix)\n",
    "accuracy = logreg_tfid.score(X_test_tf, y_test_tf)\n",
    "print(\"Le score pour la Classification par régression logistique :\",accuracy)"
   ]
  },
  {
   "cell_type": "markdown",
   "metadata": {},
   "source": [
    "**Commentaire:** _La méthode TF-IDF appliquée au modèle de régression logistique fournit des résultats assez satisfaisants mais légèrement inférieurs à ceux avec le CountVectorizer._"
   ]
  },
  {
   "cell_type": "markdown",
   "metadata": {
    "colab_type": "text",
    "id": "a2t01HOBtdsO"
   },
   "source": [
    "## III. Comparaison des modèles"
   ]
  },
  {
   "cell_type": "code",
   "execution_count": 93,
   "metadata": {
    "colab": {
     "base_uri": "https://localhost:8080/",
     "height": 191
    },
    "colab_type": "code",
    "id": "iMszGf8CnfIV",
    "outputId": "bc135a8c-4b70-4df9-def7-6bcea59d633f"
   },
   "outputs": [
    {
     "data": {
      "text/plain": [
       "{'Decision Tree_vec': array([0, 0, 0, ..., 0, 0, 4]),\n",
       " 'Logistic_tfid': array([0, 0, 4, ..., 0, 0, 4]),\n",
       " 'Logistic_vec': array([0, 0, 4, ..., 0, 0, 4]),\n",
       " 'MLP': array([0, 0, 4, ..., 0, 0, 4]),\n",
       " 'Naif bayésien BernoulliNB_vec': array([0, 0, 4, ..., 0, 0, 4]),\n",
       " 'Naif bayésien MultinomialNB_vec': array([0, 0, 4, ..., 0, 0, 4]),\n",
       " 'Random Forest_vec': array([0, 0, 4, ..., 0, 0, 0])}"
      ]
     },
     "execution_count": 93,
     "metadata": {},
     "output_type": "execute_result"
    }
   ],
   "source": [
    "prediction_A"
   ]
  },
  {
   "cell_type": "markdown",
   "metadata": {
    "colab_type": "text",
    "id": "gS6xeOmQtdsQ"
   },
   "source": [
    "### 1. Matrices de confusion"
   ]
  },
  {
   "cell_type": "code",
   "execution_count": 94,
   "metadata": {
    "colab": {},
    "colab_type": "code",
    "id": "Z1tGFPTCtdsQ"
   },
   "outputs": [],
   "source": [
    "classes= (0,4)\n",
    "def plot_confusion_matrix(cm, cmap=plt.cm.Blues):\n",
    "    plt.imshow(cm, interpolation='nearest', cmap=cmap)\n",
    "    plt.colorbar()\n",
    "    tick_marks = np.arange(len(classes))\n",
    "    plt.xticks(tick_marks, classes, rotation=45)\n",
    "    plt.yticks(tick_marks, classes)\n",
    "    plt.tight_layout()\n",
    "    plt.ylabel('Vrais labels')\n",
    "    plt.xlabel('Labels prédits')"
   ]
  },
  {
   "cell_type": "code",
   "execution_count": 95,
   "metadata": {
    "colab": {
     "base_uri": "https://localhost:8080/",
     "height": 1000
    },
    "colab_type": "code",
    "id": "6XwtZdnptdsS",
    "outputId": "f5491dbc-8e3e-42d2-eec2-3b0b6b4e4799"
   },
   "outputs": [
    {
     "data": {
      "image/png": "[encoded data removed]",
      "text/plain": [
       "<Figure size 1080x1080 with 14 Axes>"
      ]
     },
     "metadata": {
      "needs_background": "light"
     },
     "output_type": "display_data"
    }
   ],
   "source": [
    "from sklearn.metrics import confusion_matrix\n",
    "\n",
    "plt.figure(figsize=(15,15))\n",
    "i=0\n",
    "for model, predicted in prediction_A.items():\n",
    "    i=i+1\n",
    "    plt.subplot(5,2,i)\n",
    "    plt.title('Matrice de confusion pour la Classification par: %s'% model)\n",
    "    cm_model = confusion_matrix(y_test, predicted)\n",
    "    plot_confusion_matrix(cm_model)"
   ]
  },
  {
   "cell_type": "markdown",
   "metadata": {
    "colab_type": "text",
    "id": "9_mSijRAtdsT"
   },
   "source": [
    "**Commentaire:** _Les matrices de confusion colorées reflètent bien les résulats des différents modèles avec une intensité de couleur plus prononcée sur la diagonale pour les méthodes de régression logistique et l'arbre de décision ._"
   ]
  },
  {
   "cell_type": "markdown",
   "metadata": {
    "colab_type": "text",
    "id": "--hhseAStdsT"
   },
   "source": [
    "### 2. Courbes de ROC"
   ]
  },
  {
   "cell_type": "code",
   "execution_count": 96,
   "metadata": {
    "colab": {
     "base_uri": "https://localhost:8080/",
     "height": 618
    },
    "colab_type": "code",
    "id": "gxUMAtKbtdsT",
    "outputId": "57a103e1-f494-49bf-c62f-2051d96b189d"
   },
   "outputs": [
    {
     "data": {
      "image/png": "[encoded data removed]",
      "text/plain": [
       "<Figure size 720x720 with 1 Axes>"
      ]
     },
     "metadata": {
      "needs_background": "light"
     },
     "output_type": "display_data"
    }
   ],
   "source": [
    "from sklearn.metrics import roc_curve,auc\n",
    "cmp = 0\n",
    "colors = ['b', 'g', 'y', 'tan', 'k','c','fuchsia','grey','orange','purple','pink']\n",
    "\n",
    "plt.figure(figsize=(10,10))\n",
    "for model, predicted in prediction_A.items():\n",
    "    false_positive_rate, true_positive_rate, thresholds = roc_curve(y_test, predicted,pos_label=4)\n",
    "    roc_auc = auc(false_positive_rate, true_positive_rate)\n",
    "    plt.plot(false_positive_rate, true_positive_rate, colors[cmp], label='%s: AUC %0.2f'% (model,roc_auc))\n",
    "    cmp += 1\n",
    "plt.title('Comparaison des modèles avec la courbe de ROC')\n",
    "plt.plot([0, 1], [0, 1], color='r',linestyle='--',label='Aléatoire (auc = 0.5)')\n",
    "plt.xlim([-0.1,1.2])\n",
    "plt.ylim([-0.1,1.2])\n",
    "plt.ylabel('Taux vrais positifs')\n",
    "plt.xlabel('Taux faux positifs')\n",
    "plt.legend(loc='best')\n",
    "plt.tick_params(direction='in')\n",
    "plt.show()"
   ]
  },
  {
   "cell_type": "markdown",
   "metadata": {
    "colab_type": "text",
    "id": "oSUcq6gAtdsV"
   },
   "source": [
    "**Commentaire:** _Ce graphique présente toutes les courbes de ROC des différents modèles. Il confirme les résultats antérieurs avec des modèles bien plus performants que d'autres et notamment: la régression logistique, le naif bayésien et le random forest._  "
   ]
  },
  {
   "cell_type": "code",
   "execution_count": null,
   "metadata": {},
   "outputs": [],
   "source": []
  },
  {
   "cell_type": "markdown",
   "metadata": {},
   "source": [
    "## Scalability"
   ]
  },
  {
   "cell_type": "code",
   "execution_count": 98,
   "metadata": {},
   "outputs": [],
   "source": [
    "file_path_data_scalability = 'data_scalability/movie_reviews/'"
   ]
  },
  {
   "cell_type": "code",
   "execution_count": 99,
   "metadata": {},
   "outputs": [],
   "source": [
    "mov = pd.read_csv(file_path_data_scalability+'movie_reviews.csv')\n",
    "mov.rename(columns={\"Sentiment\": \"target\", \"SentimentText\": \"text\"}, inplace=True)\n",
    "mov['target'] = mov['target'].replace([1],[4])\n",
    "X_mov = mov['text']\n",
    "y_mov = mov.target\n",
    "X_mov = tvec_mlp.transform(X_mov)"
   ]
  },
  {
   "cell_type": "code",
   "execution_count": 100,
   "metadata": {},
   "outputs": [
    {
     "data": {
      "text/plain": [
       "0.65784"
      ]
     },
     "execution_count": 100,
     "metadata": {},
     "output_type": "execute_result"
    }
   ],
   "source": [
    "mlp.score(X_mov,y_mov)"
   ]
  },
  {
   "cell_type": "code",
   "execution_count": null,
   "metadata": {},
   "outputs": [],
   "source": []
  },
  {
   "cell_type": "markdown",
   "metadata": {
    "colab_type": "text",
    "id": "pN6h5veItdsW"
   },
   "source": [
    "# B. Evaluation sur les tweets  traités: \"Corpus\"\n"
   ]
  },
  {
   "cell_type": "markdown",
   "metadata": {
    "colab_type": "text",
    "id": "K_7w5bkexPc_"
   },
   "source": [
    "## I. Données et modèles entraînés"
   ]
  },
  {
   "cell_type": "code",
   "execution_count": 9,
   "metadata": {
    "colab": {},
    "colab_type": "code",
    "id": "D3zWDCUDxPdG"
   },
   "outputs": [],
   "source": [
    "# Path des modèles entrainés\n",
    "trained_model_path = file_path_models+'Best_models_B/'"
   ]
  },
  {
   "cell_type": "code",
   "execution_count": 10,
   "metadata": {
    "colab": {},
    "colab_type": "code",
    "id": "21YLtVYsxPdR"
   },
   "outputs": [],
   "source": [
    "# Données\n",
    "X = df['clean_text']\n",
    "y = df.target"
   ]
  },
  {
   "cell_type": "code",
   "execution_count": 11,
   "metadata": {
    "colab": {},
    "colab_type": "code",
    "id": "adf_UKXMxPdc"
   },
   "outputs": [],
   "source": [
    "# Séparation des données\n",
    "from sklearn.model_selection import train_test_split\n",
    "X_train,X_test,y_train,y_test = train_test_split(X,y,test_size=0.2, random_state = 0)"
   ]
  },
  {
   "cell_type": "code",
   "execution_count": 12,
   "metadata": {
    "colab": {},
    "colab_type": "code",
    "id": "OvSDUDemxPdl"
   },
   "outputs": [],
   "source": [
    "# Vectorizer les données\n",
    "vectorizer = pickle.load(open(trained_model_path+'vectorizer.sav', 'rb'))\n",
    "X_test = vectorizer.transform(X_test)"
   ]
  },
  {
   "cell_type": "code",
   "execution_count": 10,
   "metadata": {
    "colab": {},
    "colab_type": "code",
    "id": "k6KyitBSxPdt"
   },
   "outputs": [],
   "source": [
    "# Créer un dictionnaire qui contient les prédictions\n",
    "prediction_B = dict()"
   ]
  },
  {
   "cell_type": "markdown",
   "metadata": {
    "colab_type": "text",
    "id": "pQnOz72cxPdz"
   },
   "source": [
    "## II. Evaluation des modèles"
   ]
  },
  {
   "cell_type": "markdown",
   "metadata": {
    "colab_type": "text",
    "id": "yzo8jxICxPd2"
   },
   "source": [
    "### 1. Régression logistique "
   ]
  },
  {
   "cell_type": "markdown",
   "metadata": {},
   "source": [
    "**Commentaire:** _La grille de recherche nous a permis de retrouver les paramètres optimaux du modèle de régression logistique qui sont: {'C': 0.1, 'penalty': 'l2'}._"
   ]
  },
  {
   "cell_type": "code",
   "execution_count": 11,
   "metadata": {
    "colab": {},
    "colab_type": "code",
    "id": "4-Luj84hxPd3"
   },
   "outputs": [],
   "source": [
    "logreg = pickle.load(open(trained_model_path+'logreg.sav', 'rb'))\n",
    "prediction_B['Logistic'] = logreg.predict(X_test)"
   ]
  },
  {
   "cell_type": "code",
   "execution_count": 16,
   "metadata": {},
   "outputs": [
    {
     "data": {
      "text/plain": [
       "127360"
      ]
     },
     "execution_count": 16,
     "metadata": {},
     "output_type": "execute_result"
    }
   ],
   "source": [
    "np.size(np.abs(logreg.coef_))"
   ]
  },
  {
   "cell_type": "code",
   "execution_count": 17,
   "metadata": {},
   "outputs": [
    {
     "data": {
      "text/plain": [
       "(39989, 127360)"
      ]
     },
     "execution_count": 17,
     "metadata": {},
     "output_type": "execute_result"
    }
   ],
   "source": [
    "X_test.shape"
   ]
  },
  {
   "cell_type": "code",
   "execution_count": null,
   "metadata": {},
   "outputs": [],
   "source": []
  },
  {
   "cell_type": "code",
   "execution_count": 15,
   "metadata": {
    "colab": {
     "base_uri": "https://localhost:8080/",
     "height": 0
    },
    "colab_type": "code",
    "id": "EFmheMHkxPeE",
    "outputId": "869b258b-0c03-42a6-de6f-bb8b77f27c0c",
    "scrolled": true
   },
   "outputs": [
    {
     "name": "stdout",
     "output_type": "stream",
     "text": [
      "Evaluation détaillée de la Classification par régression logistique :\n",
      " \n",
      "               precision    recall  f1-score   support\n",
      "\n",
      "           0       0.78      0.74      0.76     19887\n",
      "           4       0.75      0.79      0.77     20102\n",
      "\n",
      "    accuracy                           0.77     39989\n",
      "   macro avg       0.77      0.77      0.77     39989\n",
      "weighted avg       0.77      0.77      0.77     39989\n",
      "\n",
      "La matrice de confusion pour la Classification par régression logistique :\n",
      " \n",
      " Classe prédite      0      4\n",
      "Classe réelle               \n",
      "0               14669   5218\n",
      "4                4146  15956\n",
      "Le score pour la Classification par régression logistique : 0.7658356047913176\n"
     ]
    }
   ],
   "source": [
    "print(\"Evaluation détaillée de la Classification par régression logistique :\\n \\n\" ,classification_report(y_test,prediction_B['Logistic']))\n",
    "confusion_matrix = pd.crosstab(y_test, prediction_B['Logistic'], rownames=['Classe réelle'],colnames=['Classe prédite'])\n",
    "print(\"La matrice de confusion pour la Classification par régression logistique :\\n \\n\" ,confusion_matrix)\n",
    "accuracy = logreg.score(X_test, y_test)\n",
    "print(\"Le score pour la Classification par régression logistique :\",accuracy)"
   ]
  },
  {
   "cell_type": "markdown",
   "metadata": {},
   "source": [
    "**Commentaire:** _Le modèle de régression logistique fournit des résultats très satisfaisants._"
   ]
  },
  {
   "cell_type": "markdown",
   "metadata": {
    "colab_type": "text",
    "id": "2MxqRqyLxPeS"
   },
   "source": [
    "#### Avec une TF-IDF"
   ]
  },
  {
   "cell_type": "code",
   "execution_count": 16,
   "metadata": {
    "colab": {},
    "colab_type": "code",
    "id": "HiIS48yOxPeY"
   },
   "outputs": [],
   "source": [
    "X_train_tf,X_test_tf,y_train_tf,y_test_tf = train_test_split(df.text,df.target,test_size=0.2,random_state = 0)\n",
    "tvec = tvec = pickle.load(open(trained_model_path+'tvec.sav', 'rb'))\n",
    "X_test_tvec = tvec.transform(X_test_tf)"
   ]
  },
  {
   "cell_type": "code",
   "execution_count": 17,
   "metadata": {
    "colab": {},
    "colab_type": "code",
    "id": "RewHru7rxPeh"
   },
   "outputs": [],
   "source": [
    "logreg_tfid = pickle.load(open(trained_model_path+'logreg_tfid.sav', 'rb'))\n",
    "prediction_B['Logistic_tfid'] = logreg_tfid.predict(X_test_tvec)"
   ]
  },
  {
   "cell_type": "code",
   "execution_count": 18,
   "metadata": {
    "colab": {
     "base_uri": "https://localhost:8080/",
     "height": 0
    },
    "colab_type": "code",
    "id": "er9_dOrRxPen",
    "outputId": "394e13b6-5bc3-4ed7-a5a1-8fca1766d132",
    "scrolled": true
   },
   "outputs": [
    {
     "name": "stdout",
     "output_type": "stream",
     "text": [
      "Evaluation détaillée de la Classification par régression logistique :\n",
      " \n",
      "               precision    recall  f1-score   support\n",
      "\n",
      "           0       0.78      0.55      0.65     19887\n",
      "           4       0.66      0.85      0.74     20102\n",
      "\n",
      "    accuracy                           0.70     39989\n",
      "   macro avg       0.72      0.70      0.69     39989\n",
      "weighted avg       0.72      0.70      0.69     39989\n",
      "\n",
      "La matrice de confusion pour la Classification par régression logistique :\n",
      " \n",
      " Classe prédite      0      4\n",
      "Classe réelle               \n",
      "0               10925   8962\n",
      "4                3012  17090\n",
      "Le score pour la Classification par régression logistique : 0.700567656105429\n"
     ]
    }
   ],
   "source": [
    "print(\"Evaluation détaillée de la Classification par régression logistique :\\n \\n\" ,classification_report(y_test_tf,prediction_B['Logistic_tfid']))\n",
    "confusion_matrix = pd.crosstab(y_test_tf, prediction_B['Logistic_tfid'], rownames=['Classe réelle'],colnames=['Classe prédite'])\n",
    "print(\"La matrice de confusion pour la Classification par régression logistique :\\n \\n\" ,confusion_matrix)\n",
    "accuracy = logreg_tfid.score(X_test_tvec, y_test_tf)\n",
    "print(\"Le score pour la Classification par régression logistique :\",accuracy)"
   ]
  },
  {
   "cell_type": "markdown",
   "metadata": {},
   "source": [
    "**Commentaire:** _La méthode TF-IDF appliquée au modèle de régression logistique fournit des résultats assez satisfaisants mais légèrement inférieurs à ceux avec le CountVectorizer._"
   ]
  },
  {
   "cell_type": "markdown",
   "metadata": {
    "colab_type": "text",
    "id": "RpZRWTuqxPet"
   },
   "source": [
    "### 2. Naif bayésien BernoulliNB"
   ]
  },
  {
   "cell_type": "code",
   "execution_count": 19,
   "metadata": {
    "colab": {},
    "colab_type": "code",
    "id": "qA1UbfX-xPev"
   },
   "outputs": [],
   "source": [
    "ber = pickle.load(open(trained_model_path+'ber.sav', 'rb'))\n",
    "prediction_B['Bernoulli'] = ber.predict(X_test)"
   ]
  },
  {
   "cell_type": "code",
   "execution_count": 20,
   "metadata": {
    "colab": {
     "base_uri": "https://localhost:8080/",
     "height": 0
    },
    "colab_type": "code",
    "id": "uUlHRNKjxPez",
    "outputId": "6ce71e18-9aa7-4b34-f877-884d2344fa7a"
   },
   "outputs": [
    {
     "name": "stdout",
     "output_type": "stream",
     "text": [
      "Evaluation détaillée de la Classification par le modèle naif bayésien BernoulliNB :\n",
      " \n",
      "               precision    recall  f1-score   support\n",
      "\n",
      "           0       0.74      0.79      0.77     19887\n",
      "           4       0.78      0.73      0.75     20102\n",
      "\n",
      "    accuracy                           0.76     39989\n",
      "   macro avg       0.76      0.76      0.76     39989\n",
      "weighted avg       0.76      0.76      0.76     39989\n",
      "\n",
      "La matrice de confusion pour la Classification par le modèle naif bayésien BernoulliNB :\n",
      " \n",
      " Classe prédite      0      4\n",
      "Classe réelle               \n",
      "0               15685   4202\n",
      "4                5373  14729\n",
      "Le score pour la Classification par le modèle naif bayésien BernoulliNB : 0.760559153767286\n"
     ]
    }
   ],
   "source": [
    "print(\"Evaluation détaillée de la Classification par le modèle naif bayésien BernoulliNB :\\n \\n\" ,classification_report(y_test,prediction_B['Bernoulli']))\n",
    "confusion_matrix = pd.crosstab(y_test, prediction_B['Bernoulli'], rownames=['Classe réelle'],colnames=['Classe prédite'])\n",
    "print(\"La matrice de confusion pour la Classification par le modèle naif bayésien BernoulliNB :\\n \\n\" ,confusion_matrix)\n",
    "accuracy = ber.score(X_test, y_test)\n",
    "print(\"Le score pour la Classification par le modèle naif bayésien BernoulliNB :\",accuracy)"
   ]
  },
  {
   "cell_type": "markdown",
   "metadata": {
    "colab_type": "text",
    "id": "RSSJYBAPtdoi"
   },
   "source": [
    "**Commentaire:** _Les résultats obtenus avec le modèle naif bayésien BernoulliNB sont également satisfaisants. Le score, la précision et le recall obtenus sont corrects._"
   ]
  },
  {
   "cell_type": "markdown",
   "metadata": {
    "colab_type": "text",
    "id": "1Km1d236xPe9"
   },
   "source": [
    "###  3. Naif bayésien MultinomialNB\n"
   ]
  },
  {
   "cell_type": "code",
   "execution_count": 21,
   "metadata": {
    "colab": {},
    "colab_type": "code",
    "id": "jDPfJF5rxPe_"
   },
   "outputs": [],
   "source": [
    "nb = pickle.load(open(trained_model_path+'nb.sav', 'rb'))\n",
    "prediction_B['Multinomial'] = nb.predict(X_test)"
   ]
  },
  {
   "cell_type": "code",
   "execution_count": 22,
   "metadata": {
    "colab": {
     "base_uri": "https://localhost:8080/",
     "height": 0
    },
    "colab_type": "code",
    "id": "T0lcdj7CxPfH",
    "outputId": "5a014ddc-51f3-450f-fa1a-80b8f33ce29a",
    "scrolled": true
   },
   "outputs": [
    {
     "name": "stdout",
     "output_type": "stream",
     "text": [
      "Evaluation détaillée de la Classification par naif bayésien MultinomialNB :\n",
      " \n",
      "               precision    recall  f1-score   support\n",
      "\n",
      "           0       0.74      0.79      0.77     19887\n",
      "           4       0.78      0.73      0.75     20102\n",
      "\n",
      "    accuracy                           0.76     39989\n",
      "   macro avg       0.76      0.76      0.76     39989\n",
      "weighted avg       0.76      0.76      0.76     39989\n",
      "\n",
      "La matrice de confusion pour la Classification par naif bayésien MultinomialNB :\n",
      " \n",
      " Classe prédite      0      4\n",
      "Classe réelle               \n",
      "0               15780   4107\n",
      "4                5519  14583\n",
      "Le score pour la Classification par naif bayésien MultinomialNB : 0.7592838030458376\n"
     ]
    }
   ],
   "source": [
    "print(\"Evaluation détaillée de la Classification par naif bayésien MultinomialNB :\\n \\n\" , classification_report(y_test,prediction_B['Multinomial']))\n",
    "confusion_matrix = pd.crosstab(y_test, prediction_B['Multinomial'], rownames=['Classe réelle'],colnames=['Classe prédite'])\n",
    "print(\"La matrice de confusion pour la Classification par naif bayésien MultinomialNB :\\n \\n\" ,confusion_matrix)\n",
    "accuracy = nb.score(X_test, y_test)\n",
    "print(\"Le score pour la Classification par naif bayésien MultinomialNB :\",accuracy)"
   ]
  },
  {
   "cell_type": "markdown",
   "metadata": {
    "colab_type": "text",
    "id": "RSSJYBAPtdoi"
   },
   "source": [
    "**Commentaire:** _Les résultats obtenus avec le modèle naif bayésien MultinomialNB sont quasi similaires à ceux du BernoulliNB._"
   ]
  },
  {
   "cell_type": "markdown",
   "metadata": {
    "colab_type": "text",
    "id": "ZFPj7Q0CxPfS"
   },
   "source": [
    "### 4. K plus proches voisins"
   ]
  },
  {
   "cell_type": "markdown",
   "metadata": {},
   "source": [
    "**Commentaire:** _La grille de recherche nous a permis de retrouver les paramètres optimaux du modèle knn qui sont: {'metric': 'minkowski', 'n_neighbors': 13, 'weights': 'distance'}._"
   ]
  },
  {
   "cell_type": "code",
   "execution_count": 23,
   "metadata": {
    "colab": {},
    "colab_type": "code",
    "id": "nW0IxyPwxPfU"
   },
   "outputs": [],
   "source": [
    "knn = pickle.load(open(trained_model_path+'knn.sav', 'rb'))\n",
    "prediction_B['KNeighbors']=knn.predict(X_test)"
   ]
  },
  {
   "cell_type": "code",
   "execution_count": 24,
   "metadata": {
    "colab": {
     "base_uri": "https://localhost:8080/",
     "height": 0
    },
    "colab_type": "code",
    "id": "IVBV3lS9xPfd",
    "outputId": "c7cc016f-08a8-4f5f-bac2-ae69781ea7c2",
    "scrolled": true
   },
   "outputs": [
    {
     "name": "stdout",
     "output_type": "stream",
     "text": [
      "Evaluation détaillée de la Classification par KNeighbors :\n",
      " \n",
      "               precision    recall  f1-score   support\n",
      "\n",
      "           0       0.66      0.72      0.69     19887\n",
      "           4       0.70      0.63      0.67     20102\n",
      "\n",
      "    accuracy                           0.68     39989\n",
      "   macro avg       0.68      0.68      0.68     39989\n",
      "weighted avg       0.68      0.68      0.68     39989\n",
      "\n",
      "La matrice de confusion pour la Classification par KNeighbors :\n",
      " \n",
      " Classe prédite      0      4\n",
      "Classe réelle               \n",
      "0               14408   5479\n",
      "4                7355  12747\n",
      "Le score pour la Classification par KNeighbors : 0.6790617419790442\n"
     ]
    }
   ],
   "source": [
    "print(\"Evaluation détaillée de la Classification par KNeighbors :\\n \\n\" , classification_report(y_test,prediction_B['KNeighbors']))\n",
    "confusion_matrix = pd.crosstab(y_test, prediction_B['KNeighbors'], rownames=['Classe réelle'],colnames=['Classe prédite'])\n",
    "print(\"La matrice de confusion pour la Classification par KNeighbors :\\n \\n\" ,confusion_matrix)\n",
    "accuracy = knn.score(X_test, y_test)\n",
    "print(\"Le score pour la Classification par KNeighbors :\",accuracy)"
   ]
  },
  {
   "cell_type": "markdown",
   "metadata": {
    "colab_type": "text",
    "id": "Cd2EfLSmtdot"
   },
   "source": [
    "**Commentaire:** _Le modèle knn forunit des résultats assez moyens._"
   ]
  },
  {
   "cell_type": "markdown",
   "metadata": {
    "colab_type": "text",
    "id": "e18ENFsIxPfi"
   },
   "source": [
    "### 5. Arbre de décision "
   ]
  },
  {
   "cell_type": "code",
   "execution_count": 25,
   "metadata": {
    "colab": {},
    "colab_type": "code",
    "id": "8TXbKkLQxPfk"
   },
   "outputs": [],
   "source": [
    "dc = pickle.load(open(trained_model_path+'dc.sav', 'rb'))\n",
    "prediction_B['Decision Tree'] = dc.predict(X_test)"
   ]
  },
  {
   "cell_type": "code",
   "execution_count": 26,
   "metadata": {
    "colab": {
     "base_uri": "https://localhost:8080/",
     "height": 0
    },
    "colab_type": "code",
    "id": "Mi0j-SiVxPfo",
    "outputId": "8e1b8cde-0da4-43ba-c9b7-59ab9458e093",
    "scrolled": true
   },
   "outputs": [
    {
     "name": "stdout",
     "output_type": "stream",
     "text": [
      "Evaluation détaillée de la Classification par Decision Tree :\n",
      " \n",
      "               precision    recall  f1-score   support\n",
      "\n",
      "           0       0.68      0.72      0.70     19887\n",
      "           4       0.71      0.67      0.69     20102\n",
      "\n",
      "    accuracy                           0.70     39989\n",
      "   macro avg       0.70      0.70      0.70     39989\n",
      "weighted avg       0.70      0.70      0.70     39989\n",
      "\n",
      "La matrice de confusion pour la Classification par Decision Tree :\n",
      " \n",
      " Classe prédite      0      4\n",
      "Classe réelle               \n",
      "0               14349   5538\n",
      "4                6618  13484\n",
      "Le score pour la Classification par Decision Tree : 0.6960164045112406\n"
     ]
    }
   ],
   "source": [
    "print(\"Evaluation détaillée de la Classification par Decision Tree :\\n \\n\" , classification_report(y_test,prediction_B['Decision Tree']))\n",
    "confusion_matrix = pd.crosstab(y_test, prediction_B['Decision Tree'], rownames=['Classe réelle'],colnames=['Classe prédite'])\n",
    "print(\"La matrice de confusion pour la Classification par Decision Tree :\\n \\n\" ,confusion_matrix)\n",
    "accuracy = dc.score(X_test, y_test)\n",
    "print(\"Le score pour la Classification par Decision Tree :\",accuracy)"
   ]
  },
  {
   "cell_type": "markdown",
   "metadata": {},
   "source": [
    "**Commentaire:** _Les résultats obtenus avec le modèle arbre de décision sont proches de ceux du knn._"
   ]
  },
  {
   "cell_type": "markdown",
   "metadata": {
    "colab_type": "text",
    "id": "PFTLMV0HxPft"
   },
   "source": [
    "### 6. Forêt aléatoire\n"
   ]
  },
  {
   "cell_type": "code",
   "execution_count": 27,
   "metadata": {
    "colab": {},
    "colab_type": "code",
    "id": "2DgAaVHuxPf1"
   },
   "outputs": [],
   "source": [
    "rf = pickle.load(open(trained_model_path+'rf.sav', 'rb'))\n",
    "prediction_B['RandomForest']=rf.predict(X_test)"
   ]
  },
  {
   "cell_type": "code",
   "execution_count": 28,
   "metadata": {
    "colab": {
     "base_uri": "https://localhost:8080/",
     "height": 0
    },
    "colab_type": "code",
    "id": "tfuNBlDXxPgA",
    "outputId": "22b2eb42-cdac-43a3-ddaf-ae0815fbd904"
   },
   "outputs": [
    {
     "name": "stdout",
     "output_type": "stream",
     "text": [
      "Evaluation détaillée de la Classification par RandomForest :\n",
      " \n",
      "               precision    recall  f1-score   support\n",
      "\n",
      "           0       0.70      0.79      0.74     19887\n",
      "           4       0.76      0.67      0.71     20102\n",
      "\n",
      "    accuracy                           0.73     39989\n",
      "   macro avg       0.73      0.73      0.73     39989\n",
      "weighted avg       0.73      0.73      0.73     39989\n",
      "\n",
      "La matrice de confusion pour la Classification par RandomForest :\n",
      " \n",
      " Classe prédite      0      4\n",
      "Classe réelle               \n",
      "0               15684   4203\n",
      "4                6715  13387\n",
      "Le score pour la Classification par Random Forest : 0.7269749181024782\n"
     ]
    }
   ],
   "source": [
    "print(\"Evaluation détaillée de la Classification par RandomForest :\\n \\n\" , classification_report(y_test,prediction_B['RandomForest']))\n",
    "confusion_matrix = pd.crosstab(y_test, prediction_B['RandomForest'], rownames=['Classe réelle'],colnames=['Classe prédite'])\n",
    "print(\"La matrice de confusion pour la Classification par RandomForest :\\n \\n\" ,confusion_matrix)\n",
    "accuracy = rf.score(X_test, y_test)\n",
    "print(\"Le score pour la Classification par Random Forest :\",accuracy)"
   ]
  },
  {
   "cell_type": "markdown",
   "metadata": {},
   "source": [
    "**Commentaire:** _Les résultats obtenus avec le modèle de forêt aléatoire sont satisfaisants._"
   ]
  },
  {
   "cell_type": "markdown",
   "metadata": {
    "colab_type": "text",
    "id": "AiQ2VMNAxPgL"
   },
   "source": [
    "### 7. XGBOOST"
   ]
  },
  {
   "cell_type": "code",
   "execution_count": 29,
   "metadata": {
    "colab": {},
    "colab_type": "code",
    "id": "JD5F78IPxPgM"
   },
   "outputs": [],
   "source": [
    "xgb = pickle.load(open(trained_model_path+'xgb.sav', 'rb'))\n",
    "prediction_B['XGBoost'] = xgb.predict(X_test)\n"
   ]
  },
  {
   "cell_type": "code",
   "execution_count": 30,
   "metadata": {
    "colab": {
     "base_uri": "https://localhost:8080/",
     "height": 0
    },
    "colab_type": "code",
    "id": "q3P2xJaWxPgc",
    "outputId": "df5c125d-edc8-4368-8cb4-0dbcb3176a8e"
   },
   "outputs": [
    {
     "name": "stdout",
     "output_type": "stream",
     "text": [
      "Evaluation détaillée de la Classification par XGBoost :\n",
      " \n",
      "               precision    recall  f1-score   support\n",
      "\n",
      "           0       0.78      0.52      0.63     19887\n",
      "           4       0.64      0.85      0.74     20102\n",
      "\n",
      "    accuracy                           0.69     39989\n",
      "   macro avg       0.71      0.69      0.68     39989\n",
      "weighted avg       0.71      0.69      0.68     39989\n",
      "\n",
      "La matrice de confusion pour la Classification par XGBoost :\n",
      " \n",
      " Classe prédite      0      4\n",
      "Classe réelle               \n",
      "0               10428   9459\n",
      "4                2919  17183\n",
      "Le score pour la Classification par XGBoost : 0.6904648778414064\n"
     ]
    }
   ],
   "source": [
    "print(\"Evaluation détaillée de la Classification par XGBoost :\\n \\n\" , classification_report(y_test,prediction_B['XGBoost']))\n",
    "confusion_matrix = pd.crosstab(y_test, prediction_B['XGBoost'], rownames=['Classe réelle'],colnames=['Classe prédite'])\n",
    "print(\"La matrice de confusion pour la Classification par XGBoost :\\n \\n\" ,confusion_matrix)\n",
    "accuracy = xgb.score(X_test, y_test)\n",
    "print(\"Le score pour la Classification par XGBoost :\",accuracy)"
   ]
  },
  {
   "cell_type": "markdown",
   "metadata": {
    "colab_type": "text",
    "id": "UzfU5yNVxPgu"
   },
   "source": [
    "### 8. Gradient Boosting"
   ]
  },
  {
   "cell_type": "code",
   "execution_count": 31,
   "metadata": {
    "colab": {},
    "colab_type": "code",
    "id": "SrkX2Dn-xPgy"
   },
   "outputs": [],
   "source": [
    "gradbt = pickle.load(open(trained_model_path+'gradbt.sav', 'rb'))\n",
    "prediction_B['GradientBoosting']=gradbt.predict(X_test)"
   ]
  },
  {
   "cell_type": "code",
   "execution_count": 32,
   "metadata": {
    "colab": {
     "base_uri": "https://localhost:8080/",
     "height": 0
    },
    "colab_type": "code",
    "id": "SCLffWgMxPg6",
    "outputId": "490fe87f-955b-414a-9889-c37fcd43c14a"
   },
   "outputs": [
    {
     "name": "stdout",
     "output_type": "stream",
     "text": [
      "Evaluation détaillée de la Classification par Gradient Boosting :\n",
      " \n",
      "               precision    recall  f1-score   support\n",
      "\n",
      "           0       0.78      0.54      0.64     19887\n",
      "           4       0.65      0.85      0.74     20102\n",
      "\n",
      "    accuracy                           0.70     39989\n",
      "   macro avg       0.72      0.69      0.69     39989\n",
      "weighted avg       0.72      0.70      0.69     39989\n",
      "\n",
      "La matrice de confusion pour la Classification par Gradient Boosting :\n",
      " \n",
      " Classe prédite      0      4\n",
      "Classe réelle               \n",
      "0               10703   9184\n",
      "4                2980  17122\n",
      "Le score pour la Classification par Gradient Boosting : 0.6958163494961115\n"
     ]
    }
   ],
   "source": [
    "print(\"Evaluation détaillée de la Classification par Gradient Boosting :\\n \\n\" , classification_report(y_test,prediction_B['GradientBoosting']))\n",
    "confusion_matrix = pd.crosstab(y_test, prediction_B['GradientBoosting'], rownames=['Classe réelle'],colnames=['Classe prédite'])\n",
    "print(\"La matrice de confusion pour la Classification par Gradient Boosting :\\n \\n\" ,confusion_matrix)\n",
    "accuracy = gradbt.score(X_test, y_test)\n",
    "print(\"Le score pour la Classification par Gradient Boosting :\",accuracy)\n"
   ]
  },
  {
   "cell_type": "markdown",
   "metadata": {
    "colab_type": "text",
    "id": "1hVH75wrWqbK"
   },
   "source": [
    "## 9. Adaboost\n"
   ]
  },
  {
   "cell_type": "code",
   "execution_count": 33,
   "metadata": {
    "colab": {
     "base_uri": "https://localhost:8080/",
     "height": 0
    },
    "colab_type": "code",
    "id": "PVG9uI2zWqbX",
    "outputId": "190023fc-4887-473b-d81e-16ed594ea8af"
   },
   "outputs": [],
   "source": [
    "ac = pickle.load(open(trained_model_path+'ac.sav', 'rb'))\n",
    "prediction_B['AdaBoost']=ac.predict(X_test)"
   ]
  },
  {
   "cell_type": "code",
   "execution_count": 34,
   "metadata": {
    "colab": {
     "base_uri": "https://localhost:8080/",
     "height": 0
    },
    "colab_type": "code",
    "id": "NFQW9mQvWqbl",
    "outputId": "acd2e0a3-09aa-4c6e-c0e9-70a9acca0ba7",
    "scrolled": true
   },
   "outputs": [
    {
     "name": "stdout",
     "output_type": "stream",
     "text": [
      "Evaluation détaillée de la Classification par AdaBoost :\n",
      " \n",
      "               precision    recall  f1-score   support\n",
      "\n",
      "           0       0.78      0.64      0.70     19887\n",
      "           4       0.70      0.82      0.75     20102\n",
      "\n",
      "    accuracy                           0.73     39989\n",
      "   macro avg       0.74      0.73      0.73     39989\n",
      "weighted avg       0.74      0.73      0.73     39989\n",
      "\n",
      "La matrice de confusion pour la Classification par AdaBoost :\n",
      " \n",
      " Classe prédite      0      4\n",
      "Classe réelle               \n",
      "0               12662   7225\n",
      "4                3559  16543\n",
      "Le score pour la Classification par AdaBoost : 0.7303258396058916\n"
     ]
    }
   ],
   "source": [
    "print(\"Evaluation détaillée de la Classification par AdaBoost :\\n \\n\" , classification_report(y_test,prediction_B['AdaBoost']))\n",
    "confusion_matrix = pd.crosstab(y_test, prediction_B['AdaBoost'], rownames=['Classe réelle'],colnames=['Classe prédite'])\n",
    "print(\"La matrice de confusion pour la Classification par AdaBoost :\\n \\n\" ,confusion_matrix)\n",
    "accuracy = ac.score(X_test, y_test)\n",
    "print(\"Le score pour la Classification par AdaBoost :\",accuracy)"
   ]
  },
  {
   "cell_type": "markdown",
   "metadata": {},
   "source": [
    "**Commentaire:** _Les résultats obtenus avec les modèles de boosting sont satisfaisants._"
   ]
  },
  {
   "cell_type": "markdown",
   "metadata": {
    "colab_type": "text",
    "id": "y9BP1XbQxPg-"
   },
   "source": [
    "## III. Comparaison des modèles"
   ]
  },
  {
   "cell_type": "code",
   "execution_count": 39,
   "metadata": {
    "colab": {
     "base_uri": "https://localhost:8080/",
     "height": 0
    },
    "colab_type": "code",
    "id": "wHMFRc8RxPhA",
    "outputId": "334ce5c8-34de-4881-8d64-0e88ea999176"
   },
   "outputs": [
    {
     "data": {
      "text/plain": [
       "{'Logistic': array([4, 0, 4, ..., 0, 4, 4]),\n",
       " 'Logistic_tfid': array([4, 0, 4, ..., 0, 4, 4]),\n",
       " 'Bernoulli': array([4, 0, 4, ..., 0, 0, 4]),\n",
       " 'Multinomial': array([4, 0, 4, ..., 0, 0, 4]),\n",
       " 'KNeighbors': array([4, 0, 4, ..., 4, 4, 0]),\n",
       " 'Decision Tree': array([4, 0, 4, ..., 0, 4, 4]),\n",
       " 'RandomForest': array([4, 0, 0, ..., 4, 4, 4]),\n",
       " 'XGBoost': array([4, 0, 4, ..., 4, 4, 4]),\n",
       " 'GradientBoosting': array([4, 0, 4, ..., 4, 4, 4]),\n",
       " 'AdaBoost': array([4, 0, 4, ..., 0, 4, 4])}"
      ]
     },
     "execution_count": 39,
     "metadata": {},
     "output_type": "execute_result"
    }
   ],
   "source": [
    "prediction_B"
   ]
  },
  {
   "cell_type": "markdown",
   "metadata": {
    "colab_type": "text",
    "id": "zXsVgrBXxPhE"
   },
   "source": [
    "### 1. Matrices de confusion"
   ]
  },
  {
   "cell_type": "code",
   "execution_count": 36,
   "metadata": {
    "colab": {},
    "colab_type": "code",
    "id": "06qlwtN7xPhG"
   },
   "outputs": [],
   "source": [
    "classes= (0,4)\n",
    "def plot_confusion_matrix(cm, cmap=plt.cm.Blues):\n",
    "    plt.imshow(cm, interpolation='nearest', cmap=cmap)\n",
    "    plt.colorbar()\n",
    "    tick_marks = np.arange(len(classes))\n",
    "    plt.xticks(tick_marks, classes, rotation=45)\n",
    "    plt.yticks(tick_marks, classes)\n",
    "    plt.tight_layout()\n",
    "    plt.ylabel('Vrais labels')\n",
    "    plt.xlabel('Labels prédits')"
   ]
  },
  {
   "cell_type": "code",
   "execution_count": 37,
   "metadata": {
    "colab": {
     "base_uri": "https://localhost:8080/",
     "height": 0
    },
    "colab_type": "code",
    "id": "Dre3u6g0xPhK",
    "outputId": "ad42fc75-2906-415c-e287-15b648e5d63d"
   },
   "outputs": [
    {
     "data": {
      "image/png": "[encoded data removed]",
      "text/plain": [
       "<Figure size 1080x1080 with 20 Axes>"
      ]
     },
     "metadata": {
      "needs_background": "light"
     },
     "output_type": "display_data"
    }
   ],
   "source": [
    "from sklearn.metrics import confusion_matrix\n",
    "\n",
    "plt.figure(figsize=(15,15))\n",
    "i=0\n",
    "for model, predicted in prediction_B.items():\n",
    "    i=i+1\n",
    "    plt.subplot(5,2,i)\n",
    "    plt.title('Matrice de confusion pour la Classification par: %s'% model)\n",
    "    cm_model = confusion_matrix(y_test, predicted)\n",
    "    plot_confusion_matrix(cm_model)"
   ]
  },
  {
   "cell_type": "markdown",
   "metadata": {
    "colab_type": "text",
    "id": "W2qh915VxPhO"
   },
   "source": [
    "**Commentaire:** _Les matrices de confusion colorées reflètent bien les résulats des différents modèles avec une intensité de couleur plus prononcée sur la diagonale pour les méthodes de random forest et arbre de décision ._"
   ]
  },
  {
   "cell_type": "markdown",
   "metadata": {
    "colab_type": "text",
    "id": "mWuDhWl6xPhO"
   },
   "source": [
    "### 2. Courbes de ROC"
   ]
  },
  {
   "cell_type": "code",
   "execution_count": 41,
   "metadata": {
    "colab": {
     "base_uri": "https://localhost:8080/",
     "height": 0
    },
    "colab_type": "code",
    "id": "By1T9Y51xPhQ",
    "outputId": "a82ca3d4-65db-4d6f-d3aa-414cb5ed6aed"
   },
   "outputs": [
    {
     "data": {
      "image/png": "[encoded data removed]",
      "text/plain": [
       "<Figure size 720x720 with 1 Axes>"
      ]
     },
     "metadata": {
      "needs_background": "light"
     },
     "output_type": "display_data"
    }
   ],
   "source": [
    "from sklearn.metrics import roc_curve,auc\n",
    "cmp = 0\n",
    "colors = ['b', 'g', 'y', 'tan', 'k','c','fuchsia','grey','orange','purple']\n",
    "\n",
    "plt.figure(figsize=(10,10))\n",
    "for model, predicted in prediction_B.items():\n",
    "    false_positive_rate, true_positive_rate, thresholds = roc_curve(y_test, predicted,pos_label=4)\n",
    "    roc_auc = auc(false_positive_rate, true_positive_rate)\n",
    "    plt.plot(false_positive_rate, true_positive_rate, colors[cmp], label='%s: AUC %0.2f'% (model,roc_auc))\n",
    "    cmp += 1\n",
    "plt.title('Comparaison des modèles avec la courbe de ROC')\n",
    "plt.plot([0, 1], [0, 1], color='r',linestyle='--',label='Aléatoire (auc = 0.5)')\n",
    "plt.xlim([-0.1,1.2])\n",
    "plt.ylim([-0.1,1.2])\n",
    "plt.ylabel('Taux vrais positifs')\n",
    "plt.xlabel('Taux faux positifs')\n",
    "plt.legend(loc='best')\n",
    "plt.tick_params(direction='in')\n",
    "plt.show()"
   ]
  },
  {
   "cell_type": "markdown",
   "metadata": {
    "colab_type": "text",
    "id": "bhWw17PyxPhX"
   },
   "source": [
    "**Commentaire:** _Ce graphique présente toutes les courbes de ROC des différents modèles. Il confirme les résultats antérieurs avec des modèles bien plus performants que d'autres et notamment: la régression logistique, le naif bayésien et le random forest._  "
   ]
  },
  {
   "cell_type": "markdown",
   "metadata": {
    "colab_type": "text",
    "id": "Qzw4AFkftdsb"
   },
   "source": [
    "# C. Evaluation sur les tweets  traités avec POS tagging: \"Corpus\"+\"POS tagging\""
   ]
  },
  {
   "cell_type": "markdown",
   "metadata": {
    "colab_type": "text",
    "id": "uq9Hq2_PyRUf"
   },
   "source": [
    "## I. Données et modèles entraînés"
   ]
  },
  {
   "cell_type": "code",
   "execution_count": null,
   "metadata": {
    "colab": {},
    "colab_type": "code",
    "id": "1XROQ_V0yRUn"
   },
   "outputs": [],
   "source": [
    "# Path des modèles entrainés\n",
    "trained_model_path = file_path_models+'Best_models_C/'"
   ]
  },
  {
   "cell_type": "code",
   "execution_count": null,
   "metadata": {
    "colab": {},
    "colab_type": "code",
    "id": "X054ThY-yRU-"
   },
   "outputs": [],
   "source": [
    "# Données\n",
    "X = df['clean_text_tagged']\n",
    "y = df.target"
   ]
  },
  {
   "cell_type": "code",
   "execution_count": null,
   "metadata": {
    "colab": {},
    "colab_type": "code",
    "id": "Jp4BNZA2yRVJ"
   },
   "outputs": [],
   "source": [
    "# Séparation des données\n",
    "from sklearn.model_selection import train_test_split\n",
    "X_train,X_test,y_train,y_test = train_test_split(X,y,test_size=0.2, random_state = 0)"
   ]
  },
  {
   "cell_type": "code",
   "execution_count": null,
   "metadata": {
    "colab": {},
    "colab_type": "code",
    "id": "5EysBmD2yRVQ"
   },
   "outputs": [],
   "source": [
    "# Vectorizer les données\n",
    "vectorizer = pickle.load(open(trained_model_path+'vectorizer.sav', 'rb'))\n",
    "X_test = vectorizer.transform(X_test)"
   ]
  },
  {
   "cell_type": "code",
   "execution_count": null,
   "metadata": {
    "colab": {},
    "colab_type": "code",
    "id": "EC37E8j7yRVX"
   },
   "outputs": [],
   "source": [
    "# Créer un dictionnaire qui contient les prédictions\n",
    "prediction_C = dict()"
   ]
  },
  {
   "cell_type": "markdown",
   "metadata": {
    "colab_type": "text",
    "id": "9QfSlS24yRVd"
   },
   "source": [
    "## II. Evaluation des modèles"
   ]
  },
  {
   "cell_type": "markdown",
   "metadata": {
    "colab_type": "text",
    "id": "Ydmn3LACyRVg"
   },
   "source": [
    "### 1. Régression logistique "
   ]
  },
  {
   "cell_type": "markdown",
   "metadata": {},
   "source": [
    "**Commentaire:** _La grille de recherche nous a permis de retrouver les paramètres optimaux du modèle de régression logistique qui sont: {'C': 0.1, 'penalty': 'l2'}._"
   ]
  },
  {
   "cell_type": "code",
   "execution_count": null,
   "metadata": {
    "colab": {},
    "colab_type": "code",
    "id": "e89dktsiyRVi"
   },
   "outputs": [],
   "source": [
    "logreg = pickle.load(open(trained_model_path+'logreg.sav', 'rb'))\n",
    "prediction_C['Logistic'] = logreg.predict(X_test)"
   ]
  },
  {
   "cell_type": "code",
   "execution_count": 72,
   "metadata": {
    "colab": {
     "base_uri": "https://localhost:8080/",
     "height": 0
    },
    "colab_type": "code",
    "id": "LgFD-L_gyRVo",
    "outputId": "cb32868d-7961-4e87-be33-d73dfb224e05",
    "scrolled": true
   },
   "outputs": [
    {
     "name": "stdout",
     "output_type": "stream",
     "text": [
      "Evaluation détaillée de la Classification par régression logistique :\n",
      " \n",
      "               precision    recall  f1-score   support\n",
      "\n",
      "           0       0.78      0.74      0.76     19887\n",
      "           4       0.75      0.80      0.78     20102\n",
      "\n",
      "    accuracy                           0.77     39989\n",
      "   macro avg       0.77      0.77      0.77     39989\n",
      "weighted avg       0.77      0.77      0.77     39989\n",
      "\n",
      "La matrice de confusion pour la Classification par régression logistique :\n",
      " \n",
      " Classe prédite      0      4\n",
      "Classe réelle               \n",
      "0               14667   5220\n",
      "4                4020  16082\n",
      "Le score pour la Classification par régression logistique : 0.7689364575258196\n"
     ]
    }
   ],
   "source": [
    "print(\"Evaluation détaillée de la Classification par régression logistique :\\n \\n\" ,classification_report(y_test,prediction_C['Logistic']))\n",
    "confusion_matrix = pd.crosstab(y_test, prediction_C['Logistic'], rownames=['Classe réelle'],colnames=['Classe prédite'])\n",
    "print(\"La matrice de confusion pour la Classification par régression logistique :\\n \\n\" ,confusion_matrix)\n",
    "accuracy = logreg.score(X_test, y_test)\n",
    "print(\"Le score pour la Classification par régression logistique :\",accuracy)"
   ]
  },
  {
   "cell_type": "markdown",
   "metadata": {},
   "source": [
    "**Commentaire:** _Le modèle de régression logistique fournit des résultats très satisfaisants._"
   ]
  },
  {
   "cell_type": "markdown",
   "metadata": {
    "colab_type": "text",
    "id": "6KqBipI0yRVv"
   },
   "source": [
    "#### Avec une TF-IDF"
   ]
  },
  {
   "cell_type": "code",
   "execution_count": null,
   "metadata": {
    "colab": {},
    "colab_type": "code",
    "id": "LRInBd73yRVy"
   },
   "outputs": [],
   "source": [
    "X_train_tf,X_test_tf,y_train_tf,y_test_tf = train_test_split(X,y,test_size=0.2,random_state = 0)\n",
    "tvec =  pickle.load(open(trained_model_path+'tvec.sav', 'rb'))\n",
    "X_test_tvec = tvec.transform(X_test_tf)"
   ]
  },
  {
   "cell_type": "code",
   "execution_count": null,
   "metadata": {
    "colab": {},
    "colab_type": "code",
    "id": "_8AsQZCvyRV4"
   },
   "outputs": [],
   "source": [
    "logreg_tfid = pickle.load(open(trained_model_path+'logreg_tfid.sav', 'rb'))\n",
    "prediction_C['Logistic_tfid'] = logreg_tfid.predict(X_test_tvec)"
   ]
  },
  {
   "cell_type": "code",
   "execution_count": 75,
   "metadata": {
    "colab": {
     "base_uri": "https://localhost:8080/",
     "height": 0
    },
    "colab_type": "code",
    "id": "z9ljxmODyRV-",
    "outputId": "9b03eab8-05ad-41e7-ce2a-b94b3b95cedf",
    "scrolled": true
   },
   "outputs": [
    {
     "name": "stdout",
     "output_type": "stream",
     "text": [
      "Evaluation détaillée de la Classification par régression logistique :\n",
      " \n",
      "               precision    recall  f1-score   support\n",
      "\n",
      "           0       0.77      0.74      0.75     19887\n",
      "           4       0.75      0.78      0.76     20102\n",
      "\n",
      "    accuracy                           0.76     39989\n",
      "   macro avg       0.76      0.76      0.76     39989\n",
      "weighted avg       0.76      0.76      0.76     39989\n",
      "\n",
      "La matrice de confusion pour la Classification par régression logistique :\n",
      " \n",
      " Classe prédite      0      4\n",
      "Classe réelle               \n",
      "0               14692   5195\n",
      "4                4510  15592\n",
      "Le score pour la Classification par régression logistique : 0.7573082597714371\n"
     ]
    }
   ],
   "source": [
    "print(\"Evaluation détaillée de la Classification par régression logistique :\\n \\n\" ,classification_report(y_test_tf,prediction_C['Logistic_tfid']))\n",
    "confusion_matrix = pd.crosstab(y_test_tf, prediction_C['Logistic_tfid'], rownames=['Classe réelle'],colnames=['Classe prédite'])\n",
    "print(\"La matrice de confusion pour la Classification par régression logistique :\\n \\n\" ,confusion_matrix)\n",
    "accuracy = logreg_tfid.score(X_test_tvec, y_test_tf)\n",
    "print(\"Le score pour la Classification par régression logistique :\",accuracy)"
   ]
  },
  {
   "cell_type": "markdown",
   "metadata": {},
   "source": [
    "**Commentaire:** _La méthode TF-IDF appliquée au modèle de régression logistique fournit des résultats assez satisfaisants mais légèrement inférieurs à ceux avec le CountVectorizer._"
   ]
  },
  {
   "cell_type": "markdown",
   "metadata": {
    "colab_type": "text",
    "id": "ctWma18ryRWH"
   },
   "source": [
    "### 2. Naif bayésien BernoulliNB"
   ]
  },
  {
   "cell_type": "code",
   "execution_count": null,
   "metadata": {
    "colab": {},
    "colab_type": "code",
    "id": "rNqspHm7yRWJ"
   },
   "outputs": [],
   "source": [
    "ber = pickle.load(open(trained_model_path+'ber.sav', 'rb'))\n",
    "prediction_C['Bernoulli'] = ber.predict(X_test)"
   ]
  },
  {
   "cell_type": "code",
   "execution_count": 77,
   "metadata": {
    "colab": {
     "base_uri": "https://localhost:8080/",
     "height": 0
    },
    "colab_type": "code",
    "id": "-rjuKDM8yRWN",
    "outputId": "56a36121-fbf0-4574-dcb7-ebf7871c76bb"
   },
   "outputs": [
    {
     "name": "stdout",
     "output_type": "stream",
     "text": [
      "Evaluation détaillée de la Classification par le modèle naif bayésien BernoulliNB :\n",
      " \n",
      "               precision    recall  f1-score   support\n",
      "\n",
      "           0       0.75      0.79      0.77     19887\n",
      "           4       0.78      0.74      0.76     20102\n",
      "\n",
      "    accuracy                           0.76     39989\n",
      "   macro avg       0.76      0.76      0.76     39989\n",
      "weighted avg       0.76      0.76      0.76     39989\n",
      "\n",
      "La matrice de confusion pour la Classification par le modèle naif bayésien BernoulliNB :\n",
      " \n",
      " Classe prédite      0      4\n",
      "Classe réelle               \n",
      "0               15666   4221\n",
      "4                5259  14843\n",
      "Le score pour la Classification par le modèle naif bayésien BernoulliNB : 0.7629348070719448\n"
     ]
    }
   ],
   "source": [
    "print(\"Evaluation détaillée de la Classification par le modèle naif bayésien BernoulliNB :\\n \\n\" ,classification_report(y_test,prediction_C['Bernoulli']))\n",
    "confusion_matrix = pd.crosstab(y_test, prediction_C['Bernoulli'], rownames=['Classe réelle'],colnames=['Classe prédite'])\n",
    "print(\"La matrice de confusion pour la Classification par le modèle naif bayésien BernoulliNB :\\n \\n\" ,confusion_matrix)\n",
    "accuracy = ber.score(X_test, y_test)\n",
    "print(\"Le score pour la Classification par le modèle naif bayésien BernoulliNB :\",accuracy)"
   ]
  },
  {
   "cell_type": "markdown",
   "metadata": {
    "colab_type": "text",
    "id": "RSSJYBAPtdoi"
   },
   "source": [
    "**Commentaire:** _Les résultats obtenus avec le modèle naif bayésien BernoulliNB sont également satisfaisants. Le score, la précision et le recall obtenus sont corrects._"
   ]
  },
  {
   "cell_type": "markdown",
   "metadata": {
    "colab_type": "text",
    "id": "g8RPXt5yyRWS"
   },
   "source": [
    "###  3. Naif bayésien MultinomialNB\n"
   ]
  },
  {
   "cell_type": "code",
   "execution_count": null,
   "metadata": {
    "colab": {},
    "colab_type": "code",
    "id": "pljjtG2wyRWU"
   },
   "outputs": [],
   "source": [
    "nb = pickle.load(open(trained_model_path+'nb.sav', 'rb'))\n",
    "prediction_C['Multinomial'] = nb.predict(X_test)"
   ]
  },
  {
   "cell_type": "code",
   "execution_count": 79,
   "metadata": {
    "colab": {
     "base_uri": "https://localhost:8080/",
     "height": 0
    },
    "colab_type": "code",
    "id": "UUiTi8WHyRWY",
    "outputId": "4184ee79-a64e-4dc6-8c43-df4dd7ddf2a6",
    "scrolled": true
   },
   "outputs": [
    {
     "name": "stdout",
     "output_type": "stream",
     "text": [
      "Evaluation détaillée de la Classification par naif bayésien MultinomialNB :\n",
      " \n",
      "               precision    recall  f1-score   support\n",
      "\n",
      "           0       0.74      0.79      0.77     19887\n",
      "           4       0.78      0.73      0.75     20102\n",
      "\n",
      "    accuracy                           0.76     39989\n",
      "   macro avg       0.76      0.76      0.76     39989\n",
      "weighted avg       0.76      0.76      0.76     39989\n",
      "\n",
      "La matrice de confusion pour la Classification par naif bayésien MultinomialNB :\n",
      " \n",
      " Classe prédite      0      4\n",
      "Classe réelle               \n",
      "0               15747   4140\n",
      "4                5434  14668\n",
      "Le score pour la Classification par naif bayésien MultinomialNB : 0.7605841606441771\n"
     ]
    }
   ],
   "source": [
    "print(\"Evaluation détaillée de la Classification par naif bayésien MultinomialNB :\\n \\n\" , classification_report(y_test,prediction_C['Multinomial']))\n",
    "confusion_matrix = pd.crosstab(y_test, prediction_C['Multinomial'], rownames=['Classe réelle'],colnames=['Classe prédite'])\n",
    "print(\"La matrice de confusion pour la Classification par naif bayésien MultinomialNB :\\n \\n\" ,confusion_matrix)\n",
    "accuracy = nb.score(X_test, y_test)\n",
    "print(\"Le score pour la Classification par naif bayésien MultinomialNB :\",accuracy)"
   ]
  },
  {
   "cell_type": "markdown",
   "metadata": {
    "colab_type": "text",
    "id": "RSSJYBAPtdoi"
   },
   "source": [
    "**Commentaire:** _Les résultats obtenus avec le modèle naif bayésien MultinomialNB sont quasi similaires à ceux du BernoulliNB._"
   ]
  },
  {
   "cell_type": "markdown",
   "metadata": {
    "colab_type": "text",
    "id": "iMQno_8JyRWd"
   },
   "source": [
    "### 4. K plus proches voisins"
   ]
  },
  {
   "cell_type": "markdown",
   "metadata": {},
   "source": [
    "**Commentaire:** _La grille de recherche nous a permis de retrouver les paramètres optimaux du modèle knn qui sont: {'metric': 'minkowski', 'n_neighbors': 13, 'weights': 'distance'}._"
   ]
  },
  {
   "cell_type": "code",
   "execution_count": null,
   "metadata": {
    "colab": {},
    "colab_type": "code",
    "id": "xC8DTCreyRWf"
   },
   "outputs": [],
   "source": [
    "knn = pickle.load(open(trained_model_path+'knn.sav', 'rb'))\n",
    "prediction_C['KNeighbors']=knn.predict(X_test)"
   ]
  },
  {
   "cell_type": "code",
   "execution_count": 81,
   "metadata": {
    "colab": {
     "base_uri": "https://localhost:8080/",
     "height": 0
    },
    "colab_type": "code",
    "id": "6A1aJXo9yRWk",
    "outputId": "70197104-0f65-4671-fec2-adec35648470",
    "scrolled": true
   },
   "outputs": [
    {
     "name": "stdout",
     "output_type": "stream",
     "text": [
      "Evaluation détaillée de la Classification par KNeighbors :\n",
      " \n",
      "               precision    recall  f1-score   support\n",
      "\n",
      "           0       0.66      0.64      0.65     19887\n",
      "           4       0.66      0.68      0.67     20102\n",
      "\n",
      "    accuracy                           0.66     39989\n",
      "   macro avg       0.66      0.66      0.66     39989\n",
      "weighted avg       0.66      0.66      0.66     39989\n",
      "\n",
      "La matrice de confusion pour la Classification par KNeighbors :\n",
      " \n",
      " Classe prédite      0      4\n",
      "Classe réelle               \n",
      "0               12770   7117\n",
      "4                6442  13660\n",
      "Le score pour la Classification par KNeighbors : 0.6609317562329641\n"
     ]
    }
   ],
   "source": [
    "print(\"Evaluation détaillée de la Classification par KNeighbors :\\n \\n\" , classification_report(y_test,prediction_C['KNeighbors']))\n",
    "confusion_matrix = pd.crosstab(y_test, prediction_C['KNeighbors'], rownames=['Classe réelle'],colnames=['Classe prédite'])\n",
    "print(\"La matrice de confusion pour la Classification par KNeighbors :\\n \\n\" ,confusion_matrix)\n",
    "accuracy = knn.score(X_test, y_test)\n",
    "print(\"Le score pour la Classification par KNeighbors :\",accuracy)"
   ]
  },
  {
   "cell_type": "markdown",
   "metadata": {
    "colab_type": "text",
    "id": "Cd2EfLSmtdot"
   },
   "source": [
    "**Commentaire:** _Le modèle knn forunit des résultats assez moyens._"
   ]
  },
  {
   "cell_type": "markdown",
   "metadata": {
    "colab_type": "text",
    "id": "UVjOdbgJyRWq"
   },
   "source": [
    "### 5. Arbre de décision "
   ]
  },
  {
   "cell_type": "code",
   "execution_count": null,
   "metadata": {
    "colab": {},
    "colab_type": "code",
    "id": "mjXjCyEqyRWr"
   },
   "outputs": [],
   "source": [
    "dc = pickle.load(open(trained_model_path+'dc.sav', 'rb'))\n",
    "prediction_C['Decision Tree'] = dc.predict(X_test)"
   ]
  },
  {
   "cell_type": "code",
   "execution_count": 83,
   "metadata": {
    "colab": {
     "base_uri": "https://localhost:8080/",
     "height": 0
    },
    "colab_type": "code",
    "id": "-hC8R11LyRWw",
    "outputId": "e6c86cb4-f520-408b-c257-d195a9f4076c",
    "scrolled": true
   },
   "outputs": [
    {
     "name": "stdout",
     "output_type": "stream",
     "text": [
      "Evaluation détaillée de la Classification par Decision Tree :\n",
      " \n",
      "               precision    recall  f1-score   support\n",
      "\n",
      "           0       0.69      0.68      0.68     19887\n",
      "           4       0.69      0.70      0.69     20102\n",
      "\n",
      "    accuracy                           0.69     39989\n",
      "   macro avg       0.69      0.69      0.69     39989\n",
      "weighted avg       0.69      0.69      0.69     39989\n",
      "\n",
      "La matrice de confusion pour la Classification par Decision Tree :\n",
      " \n",
      " Classe prédite      0      4\n",
      "Classe réelle               \n",
      "0               13451   6436\n",
      "4                6038  14064\n",
      "Le score pour la Classification par Decision Tree : 0.6880642176598565\n"
     ]
    }
   ],
   "source": [
    "print(\"Evaluation détaillée de la Classification par Decision Tree :\\n \\n\" , classification_report(y_test,prediction_C['Decision Tree']))\n",
    "confusion_matrix = pd.crosstab(y_test, prediction_C['Decision Tree'], rownames=['Classe réelle'],colnames=['Classe prédite'])\n",
    "print(\"La matrice de confusion pour la Classification par Decision Tree :\\n \\n\" ,confusion_matrix)\n",
    "accuracy = dc.score(X_test, y_test)\n",
    "print(\"Le score pour la Classification par Decision Tree :\",accuracy)"
   ]
  },
  {
   "cell_type": "markdown",
   "metadata": {},
   "source": [
    "**Commentaire:** _Les résultats obtenus avec le modèle arbre de décision sont proches de ceux du knn._"
   ]
  },
  {
   "cell_type": "markdown",
   "metadata": {
    "colab_type": "text",
    "id": "k3YMUc6IyRW0"
   },
   "source": [
    "### 6. Forêt aléatoire\n"
   ]
  },
  {
   "cell_type": "code",
   "execution_count": null,
   "metadata": {
    "colab": {},
    "colab_type": "code",
    "id": "KwpNOezWyRW2"
   },
   "outputs": [],
   "source": [
    "rf = pickle.load(open(trained_model_path+'rf.sav', 'rb'))\n",
    "prediction_C['RandomForest']=rf.predict(X_test)"
   ]
  },
  {
   "cell_type": "code",
   "execution_count": 85,
   "metadata": {
    "colab": {
     "base_uri": "https://localhost:8080/",
     "height": 0
    },
    "colab_type": "code",
    "id": "ng3W00xAyRW8",
    "outputId": "a0158af5-066a-46d0-c31b-c09ef171c667",
    "scrolled": true
   },
   "outputs": [
    {
     "name": "stdout",
     "output_type": "stream",
     "text": [
      "Evaluation détaillée de la Classification par RandomForest :\n",
      " \n",
      "               precision    recall  f1-score   support\n",
      "\n",
      "           0       0.76      0.75      0.75     19887\n",
      "           4       0.75      0.76      0.76     20102\n",
      "\n",
      "    accuracy                           0.75     39989\n",
      "   macro avg       0.75      0.75      0.75     39989\n",
      "weighted avg       0.75      0.75      0.75     39989\n",
      "\n",
      "La matrice de confusion pour la Classification par RandomForest :\n",
      " \n",
      " Classe prédite      0      4\n",
      "Classe réelle               \n",
      "0               14863   5024\n",
      "4                4808  15294\n",
      "Le score pour la Classification par Random Forest : 0.7541323864062617\n"
     ]
    }
   ],
   "source": [
    "print(\"Evaluation détaillée de la Classification par RandomForest :\\n \\n\" , classification_report(y_test,prediction_C['RandomForest']))\n",
    "confusion_matrix = pd.crosstab(y_test, prediction_C['RandomForest'], rownames=['Classe réelle'],colnames=['Classe prédite'])\n",
    "print(\"La matrice de confusion pour la Classification par RandomForest :\\n \\n\" ,confusion_matrix)\n",
    "accuracy = rf.score(X_test, y_test)\n",
    "print(\"Le score pour la Classification par Random Forest :\",accuracy)"
   ]
  },
  {
   "cell_type": "markdown",
   "metadata": {},
   "source": [
    "**Commentaire:** _Les résultats obtenus avec le modèle de forêt aléatoire sont satisfaisants._"
   ]
  },
  {
   "cell_type": "markdown",
   "metadata": {
    "colab_type": "text",
    "id": "K02BexkOyRXC"
   },
   "source": [
    "### 7. XGBOOST"
   ]
  },
  {
   "cell_type": "code",
   "execution_count": null,
   "metadata": {
    "colab": {},
    "colab_type": "code",
    "id": "p-EvrcW0yRXD"
   },
   "outputs": [],
   "source": [
    "xgb = pickle.load(open(trained_model_path+'xgb.sav', 'rb'))\n",
    "prediction_C['XGBoost'] = xgb.predict(X_test)\n"
   ]
  },
  {
   "cell_type": "code",
   "execution_count": 87,
   "metadata": {
    "colab": {
     "base_uri": "https://localhost:8080/",
     "height": 0
    },
    "colab_type": "code",
    "id": "zv-059oryRXH",
    "outputId": "7e970fc3-8302-4192-f852-41eb566c3e02"
   },
   "outputs": [
    {
     "name": "stdout",
     "output_type": "stream",
     "text": [
      "Evaluation détaillée de la Classification par XGBoost :\n",
      " \n",
      "               precision    recall  f1-score   support\n",
      "\n",
      "           0       0.72      0.58      0.64     19887\n",
      "           4       0.65      0.77      0.71     20102\n",
      "\n",
      "    accuracy                           0.67     39989\n",
      "   macro avg       0.68      0.67      0.67     39989\n",
      "weighted avg       0.68      0.67      0.67     39989\n",
      "\n",
      "La matrice de confusion pour la Classification par XGBoost :\n",
      " \n",
      " Classe prédite      0      4\n",
      "Classe réelle               \n",
      "0               11441   8446\n",
      "4                4554  15548\n",
      "Le score pour la Classification par XGBoost : 0.6749106004151142\n"
     ]
    }
   ],
   "source": [
    "print(\"Evaluation détaillée de la Classification par XGBoost :\\n \\n\" , classification_report(y_test,prediction_C['XGBoost']))\n",
    "confusion_matrix = pd.crosstab(y_test, prediction_C['XGBoost'], rownames=['Classe réelle'],colnames=['Classe prédite'])\n",
    "print(\"La matrice de confusion pour la Classification par XGBoost :\\n \\n\" ,confusion_matrix)\n",
    "accuracy = xgb.score(X_test, y_test)\n",
    "print(\"Le score pour la Classification par XGBoost :\",accuracy)"
   ]
  },
  {
   "cell_type": "markdown",
   "metadata": {
    "colab_type": "text",
    "id": "IRd6PhYZyRXM"
   },
   "source": [
    "### 8. Gradient Boosting"
   ]
  },
  {
   "cell_type": "code",
   "execution_count": null,
   "metadata": {
    "colab": {},
    "colab_type": "code",
    "id": "b9mHAs0xyRXN"
   },
   "outputs": [],
   "source": [
    "gradbt = pickle.load(open(trained_model_path+'gradbt.sav', 'rb'))\n",
    "prediction_C['GradientBoosting']=gradbt.predict(X_test)"
   ]
  },
  {
   "cell_type": "code",
   "execution_count": 89,
   "metadata": {
    "colab": {
     "base_uri": "https://localhost:8080/",
     "height": 0
    },
    "colab_type": "code",
    "id": "We-HCBQ_yRXR",
    "outputId": "c7cdcea6-a2b8-41fd-c47f-052689b828c6"
   },
   "outputs": [
    {
     "name": "stdout",
     "output_type": "stream",
     "text": [
      "Evaluation détaillée de la Classification par Gradient Boosting :\n",
      " \n",
      "               precision    recall  f1-score   support\n",
      "\n",
      "           0       0.72      0.58      0.64     19887\n",
      "           4       0.65      0.77      0.71     20102\n",
      "\n",
      "    accuracy                           0.68     39989\n",
      "   macro avg       0.68      0.68      0.67     39989\n",
      "weighted avg       0.68      0.68      0.67     39989\n",
      "\n",
      "La matrice de confusion pour la Classification par Gradient Boosting :\n",
      " \n",
      " Classe prédite      0      4\n",
      "Classe réelle               \n",
      "0               11572   8315\n",
      "4                4574  15528\n",
      "Le score pour la Classification par Gradient Boosting : 0.6776863637500312\n"
     ]
    }
   ],
   "source": [
    "print(\"Evaluation détaillée de la Classification par Gradient Boosting :\\n \\n\" , classification_report(y_test,prediction_C['GradientBoosting']))\n",
    "confusion_matrix = pd.crosstab(y_test, prediction_C['GradientBoosting'], rownames=['Classe réelle'],colnames=['Classe prédite'])\n",
    "print(\"La matrice de confusion pour la Classification par Gradient Boosting :\\n \\n\" ,confusion_matrix)\n",
    "accuracy = gradbt.score(X_test, y_test)\n",
    "print(\"Le score pour la Classification par Gradient Boosting :\",accuracy)\n"
   ]
  },
  {
   "cell_type": "markdown",
   "metadata": {
    "colab_type": "text",
    "id": "uHuxTAK0W1V9"
   },
   "source": [
    "## 9. Adaboost\n"
   ]
  },
  {
   "cell_type": "code",
   "execution_count": 90,
   "metadata": {
    "colab": {
     "base_uri": "https://localhost:8080/",
     "height": 0
    },
    "colab_type": "code",
    "id": "grIEG9C1W1WG",
    "outputId": "972080c1-8c7b-4fd7-d37e-553df76db5ad"
   },
   "outputs": [
    {
     "name": "stderr",
     "output_type": "stream",
     "text": [
      "/usr/local/lib/python3.6/dist-packages/sklearn/base.py:318: UserWarning: Trying to unpickle estimator DecisionTreeClassifier from version 0.19.2 when using version 0.22.1. This might lead to breaking code or invalid results. Use at your own risk.\n",
      "  UserWarning)\n",
      "/usr/local/lib/python3.6/dist-packages/sklearn/base.py:318: UserWarning: Trying to unpickle estimator AdaBoostClassifier from version 0.19.2 when using version 0.22.1. This might lead to breaking code or invalid results. Use at your own risk.\n",
      "  UserWarning)\n"
     ]
    }
   ],
   "source": [
    "ac = pickle.load(open(trained_model_path+'ac.sav', 'rb'))\n",
    "prediction_C['AdaBoost']=ac.predict(X_test)"
   ]
  },
  {
   "cell_type": "code",
   "execution_count": 91,
   "metadata": {
    "colab": {
     "base_uri": "https://localhost:8080/",
     "height": 0
    },
    "colab_type": "code",
    "id": "YspzIrG8W1WS",
    "outputId": "a550664e-430d-4088-9714-a43426361c1b",
    "scrolled": true
   },
   "outputs": [
    {
     "name": "stdout",
     "output_type": "stream",
     "text": [
      "Evaluation détaillée de la Classification par AdaBoost :\n",
      " \n",
      "               precision    recall  f1-score   support\n",
      "\n",
      "           0       0.77      0.63      0.69     19887\n",
      "           4       0.69      0.82      0.75     20102\n",
      "\n",
      "    accuracy                           0.72     39989\n",
      "   macro avg       0.73      0.72      0.72     39989\n",
      "weighted avg       0.73      0.72      0.72     39989\n",
      "\n",
      "La matrice de confusion pour la Classification par AdaBoost :\n",
      " \n",
      " Classe prédite      0      4\n",
      "Classe réelle               \n",
      "0               12557   7330\n",
      "4                3706  16396\n",
      "Le score pour la Classification par AdaBoost : 0.724024106629323\n"
     ]
    }
   ],
   "source": [
    "print(\"Evaluation détaillée de la Classification par AdaBoost :\\n \\n\" , classification_report(y_test,prediction_C['AdaBoost']))\n",
    "confusion_matrix = pd.crosstab(y_test, prediction_C['AdaBoost'], rownames=['Classe réelle'],colnames=['Classe prédite'])\n",
    "print(\"La matrice de confusion pour la Classification par AdaBoost :\\n \\n\" ,confusion_matrix)\n",
    "accuracy = ac.score(X_test, y_test)\n",
    "print(\"Le score pour la Classification par AdaBoost :\",accuracy)"
   ]
  },
  {
   "cell_type": "markdown",
   "metadata": {},
   "source": [
    "**Commentaire:** _Les résultats obtenus avec les modèles de boosting sont satisfaisants._"
   ]
  },
  {
   "cell_type": "markdown",
   "metadata": {
    "colab_type": "text",
    "id": "HYqQ4M_ryRXW"
   },
   "source": [
    "## III. Comparaison des modèles"
   ]
  },
  {
   "cell_type": "code",
   "execution_count": 92,
   "metadata": {
    "colab": {
     "base_uri": "https://localhost:8080/",
     "height": 0
    },
    "colab_type": "code",
    "id": "7TPCYxxCyRXX",
    "outputId": "c359019a-9a15-43b9-d2bf-ac73fcba0039"
   },
   "outputs": [
    {
     "data": {
      "text/plain": [
       "{'AdaBoost': array([4, 0, 4, ..., 0, 0, 4]),\n",
       " 'Bernoulli': array([0, 0, 4, ..., 0, 0, 4]),\n",
       " 'Decision Tree': array([4, 0, 0, ..., 0, 4, 4]),\n",
       " 'GradientBoosting': array([4, 0, 0, ..., 4, 0, 4]),\n",
       " 'KNeighbors': array([0, 0, 4, ..., 0, 0, 4]),\n",
       " 'Logistic': array([4, 0, 4, ..., 0, 0, 4]),\n",
       " 'Logistic_tfid': array([4, 0, 4, ..., 0, 0, 4]),\n",
       " 'Multinomial': array([0, 0, 4, ..., 0, 0, 4]),\n",
       " 'RandomForest': array([0, 0, 4, ..., 0, 4, 4]),\n",
       " 'XGBoost': array([4, 0, 0, ..., 4, 0, 4])}"
      ]
     },
     "execution_count": 92,
     "metadata": {
      "tags": []
     },
     "output_type": "execute_result"
    }
   ],
   "source": [
    "prediction_C"
   ]
  },
  {
   "cell_type": "markdown",
   "metadata": {
    "colab_type": "text",
    "id": "nywjLea9yRXb"
   },
   "source": [
    "### 1. Matrices de confusion"
   ]
  },
  {
   "cell_type": "code",
   "execution_count": null,
   "metadata": {
    "colab": {},
    "colab_type": "code",
    "id": "COXX5NnVyRXf"
   },
   "outputs": [],
   "source": [
    "classes= (0,4)\n",
    "def plot_confusion_matrix(cm, cmap=plt.cm.Blues):\n",
    "    plt.imshow(cm, interpolation='nearest', cmap=cmap)\n",
    "    plt.colorbar()\n",
    "    tick_marks = np.arange(len(classes))\n",
    "    plt.xticks(tick_marks, classes, rotation=45)\n",
    "    plt.yticks(tick_marks, classes)\n",
    "    plt.tight_layout()\n",
    "    plt.ylabel('Vrais labels')\n",
    "    plt.xlabel('Labels prédits')"
   ]
  },
  {
   "cell_type": "code",
   "execution_count": 94,
   "metadata": {
    "colab": {
     "base_uri": "https://localhost:8080/",
     "height": 0
    },
    "colab_type": "code",
    "id": "weNIrIAKyRXm",
    "outputId": "c221e5be-6f70-47dd-d6b7-d351e184f842"
   },
   "outputs": [
    {
     "data": {
      "image/png": "[encoded data removed]",
      "text/plain": [
       "<Figure size 1080x1080 with 20 Axes>"
      ]
     },
     "metadata": {
      "tags": []
     },
     "output_type": "display_data"
    }
   ],
   "source": [
    "from sklearn.metrics import confusion_matrix\n",
    "\n",
    "plt.figure(figsize=(15,15))\n",
    "i=0\n",
    "for model, predicted in prediction_C.items():\n",
    "    i=i+1\n",
    "    plt.subplot(5,2,i)\n",
    "    plt.title('Matrice de confusion pour la Classification par: %s'% model)\n",
    "    cm_model = confusion_matrix(y_test, predicted)\n",
    "    plot_confusion_matrix(cm_model)"
   ]
  },
  {
   "cell_type": "markdown",
   "metadata": {
    "colab_type": "text",
    "id": "Psy6K_3PyRXp"
   },
   "source": [
    "**Commentaire:** _Les matrices de confusion colorées reflètent bien les résulats des différents modèles avec une intensité de couleur plus prononcée sur la diagonale pour les méthodes de régression logistique, arbre de décision et random forest ._"
   ]
  },
  {
   "cell_type": "markdown",
   "metadata": {
    "colab_type": "text",
    "id": "bYeIkA5xyRXq"
   },
   "source": [
    "### 2. Courbes de ROC"
   ]
  },
  {
   "cell_type": "code",
   "execution_count": 95,
   "metadata": {
    "colab": {
     "base_uri": "https://localhost:8080/",
     "height": 0
    },
    "colab_type": "code",
    "id": "phDTZC-VyRXr",
    "outputId": "26444df9-a2f8-46b4-e6e9-bb8e006ab191"
   },
   "outputs": [
    {
     "data": {
      "image/png": "[encoded data removed]",
      "text/plain": [
       "<Figure size 720x720 with 1 Axes>"
      ]
     },
     "metadata": {
      "tags": []
     },
     "output_type": "display_data"
    }
   ],
   "source": [
    "from sklearn.metrics import roc_curve,auc\n",
    "cmp = 0\n",
    "colors = ['b', 'g', 'y', 'tan', 'k','c','fuchsia','grey','orange','purple']\n",
    "\n",
    "plt.figure(figsize=(10,10))\n",
    "for model, predicted in prediction_C.items():\n",
    "    false_positive_rate, true_positive_rate, thresholds = roc_curve(y_test, predicted,pos_label=4)\n",
    "    roc_auc = auc(false_positive_rate, true_positive_rate)\n",
    "    plt.plot(false_positive_rate, true_positive_rate, colors[cmp], label='%s: AUC %0.2f'% (model,roc_auc))\n",
    "    cmp += 1\n",
    "plt.title('Comparaison des modèles avec la courbe de ROC')\n",
    "plt.plot([0, 1], [0, 1], color='r',linestyle='--',label='Aléatoire (auc = 0.5)')\n",
    "plt.xlim([-0.1,1.2])\n",
    "plt.ylim([-0.1,1.2])\n",
    "plt.ylabel('Taux vrais positifs')\n",
    "plt.xlabel('Taux faux positifs')\n",
    "plt.legend(loc='best')\n",
    "plt.tick_params(direction='in')\n",
    "plt.show()"
   ]
  },
  {
   "cell_type": "markdown",
   "metadata": {
    "colab_type": "text",
    "id": "zP9v73DbyRXu"
   },
   "source": [
    "**Commentaire:** _Ce graphique présente toutes les courbes de ROC des différents modèles. Il confirme les résultats antérieurs avec des modèles bien plus performants que d'autres et notamment: la régression logistique, le naif bayésien et le random forest._  "
   ]
  },
  {
   "cell_type": "markdown",
   "metadata": {
    "colab_type": "text",
    "id": "v8hFFG_ptdsj"
   },
   "source": [
    "# Résultats\n",
    "    1. Comparaison des résultats selon les méthodes de traitement de texte\n",
    "    2. Comparaison des résultats obtenus avec l'état de l'art "
   ]
  },
  {
   "cell_type": "markdown",
   "metadata": {
    "colab_type": "text",
    "id": "mIDH2tCbtdsj"
   },
   "source": [
    "## 1. Comparaison des résultats selon les méthodes de traitement de texte"
   ]
  },
  {
   "cell_type": "markdown",
   "metadata": {
    "colab_type": "text",
    "id": "x1ZYONEGtdsj"
   },
   "source": [
    "**Commentaire:** _On peut donc déduire de tous ces résultats que le modèle qui semble être le plus performant est celui de la regression logiqtique avec un score de 79% et une aire sous la courbe (AUC) de 0.79._ "
   ]
  },
  {
   "cell_type": "markdown",
   "metadata": {
    "colab_type": "text",
    "id": "q9w3F_ehtdsj"
   },
   "source": [
    "**Commentaire:** _Nous avons entrepris de rajouter le Pos Tagging afin d'identifier le genre et la nature de chaque mot qui dans plusieurs cas jouent sur la signification du mot et sa connotation. On a remarqué que ce changement tout comme le traitement du texte (stopwords, minuscule, ponctuation, etc.) ont eu peu d'influence sur les résultats des différents modèles._ "
   ]
  },
  {
   "cell_type": "markdown",
   "metadata": {
    "colab_type": "text",
    "id": "qK5y50tztdsk"
   },
   "source": [
    "## 2. Comparaison des résultats obtenus avec l'état de l'art "
   ]
  },
  {
   "cell_type": "markdown",
   "metadata": {
    "colab_type": "text",
    "id": "1GD2BdVltdso"
   },
   "source": [
    "**Commentaire:** _Si on essaie maintenant de comparer les performances de notre modèle à l'état de l'art, on peut remarquer qu'il se situe dans les standards des résulats publiés.\n",
    "Par exemple, Agarwal, Apoorv, et al. ont obtenu un score de 75.39%. De même, Kharde, Vishal, and Prof Sonawane ont obtenu des scores variant entre 74 et 76%. Par ailleurs, Go, Alec, Richa Bhayani, and Lei Huang ont obtenu le score le plus performant autour de 80% avec un modèle naif bayésien. On peut également noter l'excellente performance de Bollen, Johan, Huina Mao, and Xiaojun Zeng avec un score avoisinant les 88% grâce à un modèle de réseau de neurones. Néanmoins, on a obtenu des scores supérieurs à certaines publications comme: Pak, Alexander, and Patrick Paroubek (65%) et Sailunaz, Kashfia, and Reda Alhajj (66%)._ "
   ]
  },
  {
   "cell_type": "markdown",
   "metadata": {},
   "source": [
    "### Des tweets dont les prévisions sont pas corrects ."
   ]
  },
  {
   "cell_type": "code",
   "execution_count": 13,
   "metadata": {},
   "outputs": [],
   "source": [
    "df['prediction'] = logreg.predict(vectorizer.transform(X)) "
   ]
  },
  {
   "cell_type": "markdown",
   "metadata": {},
   "source": [
    "Les tweets positifs mais ses prévisions sont négatifs."
   ]
  },
  {
   "cell_type": "code",
   "execution_count": 14,
   "metadata": {},
   "outputs": [],
   "source": [
    "df_pos_but_pred_neg = df[(df.target == 4) & (df.prediction == 0)]['text'].reset_index(drop = True)"
   ]
  },
  {
   "cell_type": "markdown",
   "metadata": {},
   "source": [
    "Les tweets négatifs mais ses prévisions sont positifs."
   ]
  },
  {
   "cell_type": "code",
   "execution_count": 15,
   "metadata": {},
   "outputs": [],
   "source": [
    "df_neg_but_pred_pos = df[(df.target == 0) & (df.prediction == 4)]['text'].reset_index(drop = True)"
   ]
  },
  {
   "cell_type": "markdown",
   "metadata": {},
   "source": [
    "Example:"
   ]
  },
  {
   "cell_type": "code",
   "execution_count": 16,
   "metadata": {},
   "outputs": [
    {
     "data": {
      "text/plain": [
       "'Jon could totally say Mannies and Peddies and I would shut my fat face about it.  '"
      ]
     },
     "execution_count": 16,
     "metadata": {},
     "output_type": "execute_result"
    }
   ],
   "source": [
    "df_pos_but_pred_neg[27]"
   ]
  },
  {
   "cell_type": "code",
   "execution_count": 17,
   "metadata": {},
   "outputs": [
    {
     "data": {
      "text/plain": [
       "\"@localtweeps Wow, tons of replies from you, may have to unfollow so I can see my friends' tweets, you're scrolling the feed a lot. \""
      ]
     },
     "execution_count": 17,
     "metadata": {},
     "output_type": "execute_result"
    }
   ],
   "source": [
    "df_neg_but_pred_pos[10]"
   ]
  },
  {
   "cell_type": "code",
   "execution_count": null,
   "metadata": {},
   "outputs": [],
   "source": []
  }
 ],
 "metadata": {
  "accelerator": "GPU",
  "colab": {
   "collapsed_sections": [
    "CuVkYWLrqu_l",
    "_5x9fXkcpMMS",
    "K_7w5bkexPc_",
    "pQnOz72cxPdz",
    "y9BP1XbQxPg-"
   ],
   "name": "Final.ipynb",
   "provenance": []
  },
  "kernelspec": {
   "display_name": "Python 3",
   "language": "python",
   "name": "python3"
  },
  "language_info": {
   "codemirror_mode": {
    "name": "ipython",
    "version": 3
   },
   "file_extension": ".py",
   "mimetype": "text/x-python",
   "name": "python",
   "nbconvert_exporter": "python",
   "pygments_lexer": "ipython3",
   "version": "3.7.4"
  }
 },
 "nbformat": 4,
 "nbformat_minor": 4
}
