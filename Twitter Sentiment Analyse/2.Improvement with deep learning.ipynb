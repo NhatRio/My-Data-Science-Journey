{
 "cells": [
  {
   "cell_type": "markdown",
   "metadata": {
    "colab_type": "text",
    "id": "LMDzsmSGZkNi"
   },
   "source": [
    "PATH\n",
    "\n",
    "Importation des packages nécessaires et du jeu de données\n",
    "\n",
    "A. Evaluation sur les tweets sans traitement\n",
    "\n",
    "B. Evaluation sur les tweets traités: \"Corpus\"\n",
    "\n",
    "C. Evaluation sur les tweets traités avec POS tagging: \"Corpus\"+\"POS tagging\"\n",
    "\n",
    "Résultats\n"
   ]
  },
  {
   "cell_type": "markdown",
   "metadata": {
    "colab_type": "text",
    "id": "EN7Bz_TXsakf"
   },
   "source": [
    "## PATH"
   ]
  },
  {
   "cell_type": "code",
   "execution_count": 121,
   "metadata": {
    "colab": {
     "base_uri": "https://localhost:8080/",
     "height": 124
    },
    "colab_type": "code",
    "id": "yk9KTAHYe9Bm",
    "outputId": "859ec5bc-1628-49f8-e8b8-0d0958ff6abb"
   },
   "outputs": [],
   "source": [
    "file_path_data = 'data/data_clean/'\n",
    "file_path_models = 'models_training/'"
   ]
  },
  {
   "cell_type": "markdown",
   "metadata": {
    "colab_type": "text",
    "id": "CuVkYWLrqu_l"
   },
   "source": [
    "# Importation des packages nécessaires et du jeu de données"
   ]
  },
  {
   "cell_type": "code",
   "execution_count": 122,
   "metadata": {
    "colab": {},
    "colab_type": "code",
    "id": "VbXenEDme3ul"
   },
   "outputs": [],
   "source": [
    "import numpy as np\n",
    "import matplotlib.pyplot as plt\n",
    "import pandas as pd\n",
    "import numpy as np\n",
    "import matplotlib.pyplot as plt\n",
    "import pandas as pd\n",
    "import re \n",
    "import nltk\n",
    "from nltk.corpus import stopwords\n",
    "from nltk.stem.porter import PorterStemmer \n",
    "from sklearn.model_selection import train_test_split\n",
    "from sklearn.model_selection import GridSearchCV, cross_val_score\n",
    "from sklearn.feature_extraction.text import TfidfVectorizer\n",
    "from sklearn.feature_extraction.text import CountVectorizer\n",
    "from sklearn.metrics import classification_report\n",
    "import pickle"
   ]
  },
  {
   "cell_type": "markdown",
   "metadata": {
    "colab_type": "text",
    "id": "iPY09xuHteyU"
   },
   "source": [
    "## I. Données et modèles entraînés"
   ]
  },
  {
   "cell_type": "code",
   "execution_count": 123,
   "metadata": {
    "colab": {},
    "colab_type": "code",
    "id": "FGPY22COe3vV"
   },
   "outputs": [],
   "source": [
    "df_1 = pd.read_csv(file_path_data+'data_clean.csv', index_col = 0)"
   ]
  },
  {
   "cell_type": "code",
   "execution_count": 124,
   "metadata": {
    "colab": {},
    "colab_type": "code",
    "id": "pBiJagGQFRJD"
   },
   "outputs": [],
   "source": [
    "# Path des modèles entrainés\n",
    "trained_model_path = file_path_models+'Best_models_A/'"
   ]
  },
  {
   "cell_type": "code",
   "execution_count": 125,
   "metadata": {
    "colab": {},
    "colab_type": "code",
    "id": "souTTFrUe3vg"
   },
   "outputs": [],
   "source": [
    "# Données\n",
    "X_1 = df_1['text']\n",
    "y_1 = df_1.target"
   ]
  },
  {
   "cell_type": "code",
   "execution_count": 128,
   "metadata": {
    "colab": {},
    "colab_type": "code",
    "id": "ffqf4bI8e3v0"
   },
   "outputs": [],
   "source": [
    "# Séparation des données\n",
    "from sklearn.model_selection import train_test_split\n",
    "X_train_1,X_test_1,y_train_1,y_test_1 = train_test_split(X_1,y_1,test_size=0.2, random_state = 0)"
   ]
  },
  {
   "cell_type": "code",
   "execution_count": 129,
   "metadata": {},
   "outputs": [
    {
     "data": {
      "text/plain": [
       "index\n",
       "10675               can't figure out how to load a picture \n",
       "27440     In bed. Still got cracking headache. 3 weeks now \n",
       "169327    just back from the city and I am now the proud...\n",
       "180780    I need to set up tea making facilities in my car \n",
       "120093    #ASOT400 Buenos Aires @Argentina, under A stat...\n",
       "                                ...                        \n",
       "49428     Stuffed now  just had a pint and steak in the ...\n",
       "90616     @thomshouse quite sure it wasn't &quot;hacked&...\n",
       "48264     Is mooooving to the iiiisland! but can't find ...\n",
       "174711                      @bogarantyu no, he's recovered \n",
       "170286    YOU didn't expect this from me on a Saturday m...\n",
       "Name: text, Length: 39989, dtype: object"
      ]
     },
     "execution_count": 129,
     "metadata": {},
     "output_type": "execute_result"
    }
   ],
   "source": [
    "X_test_1"
   ]
  },
  {
   "cell_type": "markdown",
   "metadata": {
    "colab_type": "text",
    "id": "R4HQIMtivVaq"
   },
   "source": [
    "## II. Evaluation des modèles"
   ]
  },
  {
   "cell_type": "code",
   "execution_count": 130,
   "metadata": {},
   "outputs": [],
   "source": [
    "# Créer un dictionnaire qui contient les prédictions\n",
    "prediction_A = dict()"
   ]
  },
  {
   "cell_type": "markdown",
   "metadata": {},
   "source": [
    "## 1. Les anciens modèles"
   ]
  },
  {
   "cell_type": "code",
   "execution_count": 131,
   "metadata": {
    "colab": {},
    "colab_type": "code",
    "id": "csQT5rjpe3v7"
   },
   "outputs": [],
   "source": [
    "# Vectorizer les données\n",
    "vectorizer = pickle.load(open(trained_model_path+'vectorizer.sav', 'rb'))\n",
    "X_test_1 = vectorizer.transform(X_test_1)"
   ]
  },
  {
   "cell_type": "code",
   "execution_count": 132,
   "metadata": {},
   "outputs": [],
   "source": [
    "models_name = ['Logistic', 'Naif bayésien BernoulliNB', 'Decision Tree','Random Forest']\n",
    "trained_models = ['logreg','ber','dc','rf']"
   ]
  },
  {
   "cell_type": "code",
   "execution_count": 133,
   "metadata": {},
   "outputs": [],
   "source": [
    "def test(models_name, trained_models, X_test, y_test):\n",
    "    prediction = dict()\n",
    "    for i in range(len(models_name)):\n",
    "        model = pickle.load(open(trained_model_path+trained_models[i]+'.sav', 'rb'))     \n",
    "        prediction[models_name[i] ] = model.predict(X_test) #save the prediction to dictionary\n",
    "        print(\"\\n\"+\"=\"*40+models_name[i]+\"=\"*40+\"\\n\")\n",
    "        print(\"Evaluation détaillée de la Classification par \" + models_name[i] +\":\\n \\n\", classification_report(y_test,prediction[models_name[i]]))\n",
    "        confusion_matrix = pd.crosstab(y_test, prediction[models_name[i] ], rownames=['Classe réelle'],colnames=['Classe prédite'])\n",
    "        print(\"La matrice de confusion pour la Classification par \" + models_name[i] +\" :\\n \\n\" ,confusion_matrix)\n",
    "        accuracy = model.score(X_test, y_test)\n",
    "        print(\"Le score pour la Classification par \" + models_name[i] + \": \",accuracy)\n",
    "    return prediction"
   ]
  },
  {
   "cell_type": "code",
   "execution_count": 134,
   "metadata": {},
   "outputs": [
    {
     "name": "stdout",
     "output_type": "stream",
     "text": [
      "\n",
      "========================================Logistic========================================\n",
      "\n",
      "Evaluation détaillée de la Classification par Logistic:\n",
      " \n",
      "              precision    recall  f1-score   support\n",
      "\n",
      "          0       0.80      0.78      0.79     19887\n",
      "          4       0.78      0.81      0.80     20102\n",
      "\n",
      "avg / total       0.79      0.79      0.79     39989\n",
      "\n",
      "La matrice de confusion pour la Classification par Logistic :\n",
      " \n",
      " Classe prédite      0      4\n",
      "Classe réelle               \n",
      "0               15428   4459\n",
      "4                3892  16210\n",
      "Le score pour la Classification par Logistic:  0.7911675710820476\n",
      "\n",
      "========================================Naif bayésien BernoulliNB========================================\n",
      "\n",
      "Evaluation détaillée de la Classification par Naif bayésien BernoulliNB:\n",
      " \n",
      "              precision    recall  f1-score   support\n",
      "\n",
      "          0       0.76      0.81      0.78     19887\n",
      "          4       0.80      0.74      0.77     20102\n",
      "\n",
      "avg / total       0.78      0.78      0.78     39989\n",
      "\n",
      "La matrice de confusion pour la Classification par Naif bayésien BernoulliNB :\n",
      " \n",
      " Classe prédite      0      4\n",
      "Classe réelle               \n",
      "0               16113   3774\n",
      "4                5213  14889\n",
      "Le score pour la Classification par Naif bayésien BernoulliNB:  0.7752631973792793\n",
      "\n",
      "========================================Decision Tree========================================\n",
      "\n",
      "Evaluation détaillée de la Classification par Decision Tree:\n",
      " \n",
      "              precision    recall  f1-score   support\n",
      "\n",
      "          0       0.71      0.72      0.71     19887\n",
      "          4       0.72      0.71      0.72     20102\n",
      "\n",
      "avg / total       0.71      0.71      0.71     39989\n",
      "\n",
      "La matrice de confusion pour la Classification par Decision Tree :\n",
      " \n",
      " Classe prédite      0      4\n",
      "Classe réelle               \n",
      "0               14246   5641\n",
      "4                5760  14342\n",
      "Le score pour la Classification par Decision Tree:  0.7148965965640551\n",
      "\n",
      "========================================Random Forest========================================\n",
      "\n",
      "Evaluation détaillée de la Classification par Random Forest:\n",
      " \n",
      "              precision    recall  f1-score   support\n",
      "\n",
      "          0       0.71      0.80      0.75     19887\n",
      "          4       0.78      0.68      0.72     20102\n",
      "\n",
      "avg / total       0.74      0.74      0.74     39989\n",
      "\n",
      "La matrice de confusion pour la Classification par Random Forest :\n",
      " \n",
      " Classe prédite      0      4\n",
      "Classe réelle               \n",
      "0               15999   3888\n",
      "4                6528  13574\n",
      "Le score pour la Classification par Random Forest:  0.739528370301833\n"
     ]
    }
   ],
   "source": [
    "prediction_A.update(test(models_name, trained_models, X_test_1, y_test_1))"
   ]
  },
  {
   "cell_type": "markdown",
   "metadata": {},
   "source": [
    "**Commentaire:** _La grille de recherche nous a permis de retrouver les paramètres optimaux du modèle de régression logistique qui sont: {'C': 0.1, 'penalty': 'l2'}._"
   ]
  },
  {
   "cell_type": "markdown",
   "metadata": {},
   "source": [
    "**Commentaire:** _Le modèle de régression logistique fournit des résultats très satisfaisants._\n",
    "\n",
    "**Commentaire:** _Les résultats obtenus avec le modèle naif bayésien BernoulliNB sont également satisfaisants. Le score, la précision et le recall obtenus sont corrects._\n",
    "\n",
    "**Commentaire:** _Les résultats obtenus avec le modèle arbre de décision sont proches de ceux du knn._\n",
    "\n",
    "**Commentaire:** _Les résultats obtenus avec le modèle de forêt aléatoire sont satisfaisants._\n"
   ]
  },
  {
   "cell_type": "markdown",
   "metadata": {
    "colab_type": "text",
    "id": "o3z3b0Jpe3wf"
   },
   "source": [
    "# 2. Le modèle de Deep Learning MLP entrainé sur 600,000 tweets"
   ]
  },
  {
   "cell_type": "code",
   "execution_count": 135,
   "metadata": {},
   "outputs": [],
   "source": [
    "## Donnés \n",
    "data = pd.read_csv('data/data_raw/twitter_comment.csv',encoding = \"ISO-8859-1\", names = [\"target\", \"ids\", \"date\", \"flag\", \"user\", \"text\"])\n",
    "df_2  = pd.concat([data.iloc[0:300000,:], data.iloc[800000:1100000,:]], axis = 0).reset_index(drop = True)"
   ]
  },
  {
   "cell_type": "code",
   "execution_count": 136,
   "metadata": {
    "colab": {},
    "colab_type": "code",
    "id": "souTTFrUe3vg"
   },
   "outputs": [],
   "source": [
    "X_2 = df_2['text']\n",
    "y_2 = df_2.target"
   ]
  },
  {
   "cell_type": "code",
   "execution_count": 137,
   "metadata": {
    "colab": {},
    "colab_type": "code",
    "id": "ffqf4bI8e3v0"
   },
   "outputs": [],
   "source": [
    "# Séparation des données\n",
    "from sklearn.model_selection import train_test_split\n",
    "X_train_mlp,X_test_mlp,y_train_mlp,y_test_mlp = train_test_split(X_2,y_2,test_size=0.2, random_state = 0)"
   ]
  },
  {
   "cell_type": "code",
   "execution_count": 138,
   "metadata": {},
   "outputs": [],
   "source": [
    "vectorizer_mlp = pickle.load(open(trained_model_path+'vectorizer_MLP_600.sav', 'rb'))\n",
    "X_test_mlp = vectorizer_mlp.transform(X_test_mlp)"
   ]
  },
  {
   "cell_type": "code",
   "execution_count": 139,
   "metadata": {},
   "outputs": [],
   "source": [
    "mlp = pickle.load(open(trained_model_path+'mlp_cvec_600.sav', 'rb'))"
   ]
  },
  {
   "cell_type": "code",
   "execution_count": 140,
   "metadata": {},
   "outputs": [],
   "source": [
    "prediction_A['MLP'] = mlp.predict(X_test_mlp)"
   ]
  },
  {
   "cell_type": "code",
   "execution_count": 141,
   "metadata": {},
   "outputs": [
    {
     "name": "stdout",
     "output_type": "stream",
     "text": [
      "Evaluation détaillée de la Classification par régression logistique :\n",
      " \n",
      "              precision    recall  f1-score   support\n",
      "\n",
      "          0       0.80      0.81      0.80     59856\n",
      "          4       0.81      0.80      0.80     60144\n",
      "\n",
      "avg / total       0.80      0.80      0.80    120000\n",
      "\n",
      "La matrice de confusion pour la Classification par régression logistique :\n",
      " \n",
      " Classe prédite      0      4\n",
      "Classe réelle               \n",
      "0               48428  11428\n",
      "4               12210  47934\n",
      "Le score pour la Classification par régression logistique : 0.8030166666666667\n"
     ]
    }
   ],
   "source": [
    "print(\"Evaluation détaillée de la Classification par régression logistique :\\n \\n\" ,classification_report(y_test_mlp,prediction_A['MLP']))\n",
    "confusion_matrix = pd.crosstab(y_test_mlp, prediction_A['MLP'], rownames=['Classe réelle'],colnames=['Classe prédite'])\n",
    "print(\"La matrice de confusion pour la Classification par régression logistique :\\n \\n\" ,confusion_matrix)\n",
    "accuracy = mlp.score(X_test_mlp, y_test_mlp)\n",
    "print(\"Le score pour la Classification par régression logistique :\",accuracy)"
   ]
  },
  {
   "cell_type": "markdown",
   "metadata": {
    "colab_type": "text",
    "id": "a2t01HOBtdsO"
   },
   "source": [
    "## III. Comparaison des modèles"
   ]
  },
  {
   "cell_type": "code",
   "execution_count": 142,
   "metadata": {
    "colab": {
     "base_uri": "https://localhost:8080/",
     "height": 191
    },
    "colab_type": "code",
    "id": "iMszGf8CnfIV",
    "outputId": "bc135a8c-4b70-4df9-def7-6bcea59d633f"
   },
   "outputs": [
    {
     "data": {
      "text/plain": [
       "{'Decision Tree': array([0, 0, 0, ..., 0, 0, 4]),\n",
       " 'Logistic': array([0, 0, 4, ..., 0, 0, 4]),\n",
       " 'MLP': array([0, 0, 0, ..., 0, 0, 4]),\n",
       " 'Naif bayésien BernoulliNB': array([0, 0, 4, ..., 0, 0, 4]),\n",
       " 'Random Forest': array([0, 0, 4, ..., 0, 0, 0])}"
      ]
     },
     "execution_count": 142,
     "metadata": {},
     "output_type": "execute_result"
    }
   ],
   "source": [
    "prediction_A"
   ]
  },
  {
   "cell_type": "markdown",
   "metadata": {
    "colab_type": "text",
    "id": "gS6xeOmQtdsQ"
   },
   "source": [
    "### 1. Matrices de confusion"
   ]
  },
  {
   "cell_type": "code",
   "execution_count": 143,
   "metadata": {
    "colab": {},
    "colab_type": "code",
    "id": "Z1tGFPTCtdsQ"
   },
   "outputs": [],
   "source": [
    "classes= (0,4)\n",
    "def plot_confusion_matrix(cm, cmap=plt.cm.Blues):\n",
    "    plt.imshow(cm, interpolation='nearest', cmap=cmap)\n",
    "    plt.colorbar()\n",
    "    tick_marks = np.arange(len(classes))\n",
    "    plt.xticks(tick_marks, classes, rotation=45)\n",
    "    plt.yticks(tick_marks, classes)\n",
    "    plt.tight_layout()\n",
    "    plt.ylabel('Vrais labels')\n",
    "    plt.xlabel('Labels prédits')"
   ]
  },
  {
   "cell_type": "code",
   "execution_count": 146,
   "metadata": {
    "colab": {
     "base_uri": "https://localhost:8080/",
     "height": 1000
    },
    "colab_type": "code",
    "id": "6XwtZdnptdsS",
    "outputId": "f5491dbc-8e3e-42d2-eec2-3b0b6b4e4799"
   },
   "outputs": [
    {
     "data": {
      "image/png": "[encoded data removed]",
      "text/plain": [
       "<Figure size 1080x1080 with 10 Axes>"
      ]
     },
     "metadata": {
      "needs_background": "light"
     },
     "output_type": "display_data"
    }
   ],
   "source": [
    "from sklearn.metrics import confusion_matrix\n",
    "\n",
    "plt.figure(figsize=(15,15))\n",
    "i=0\n",
    "for model, predicted in prediction_A.items():\n",
    "    i=i+1\n",
    "    plt.subplot(5,2,i)\n",
    "    plt.title('Matrice de confusion pour la Classification par: %s'% model)\n",
    "    if model == 'MLP':\n",
    "        cm_model = confusion_matrix(y_test_mlp, predicted)\n",
    "        plot_confusion_matrix(cm_model)\n",
    "    else:\n",
    "        cm_model = confusion_matrix(y_test_1, predicted)\n",
    "        plot_confusion_matrix(cm_model)"
   ]
  },
  {
   "cell_type": "markdown",
   "metadata": {
    "colab_type": "text",
    "id": "9_mSijRAtdsT"
   },
   "source": [
    "**Commentaire:** _Les matrices de confusion colorées reflètent bien les résulats des différents modèles avec une intensité de couleur plus prononcée sur la diagonale pour les méthodes de régression logistique et l'arbre de décision ._"
   ]
  },
  {
   "cell_type": "markdown",
   "metadata": {
    "colab_type": "text",
    "id": "--hhseAStdsT"
   },
   "source": [
    "### 2. Courbes de ROC"
   ]
  },
  {
   "cell_type": "code",
   "execution_count": 148,
   "metadata": {
    "colab": {
     "base_uri": "https://localhost:8080/",
     "height": 618
    },
    "colab_type": "code",
    "id": "gxUMAtKbtdsT",
    "outputId": "57a103e1-f494-49bf-c62f-2051d96b189d"
   },
   "outputs": [
    {
     "data": {
      "image/png": "[encoded data removed]",
      "text/plain": [
       "<Figure size 720x720 with 1 Axes>"
      ]
     },
     "metadata": {
      "needs_background": "light"
     },
     "output_type": "display_data"
    }
   ],
   "source": [
    "from sklearn.metrics import roc_curve,auc\n",
    "cmp = 0\n",
    "colors = ['b', 'g', 'y', 'tan', 'k','c','fuchsia','grey','orange','purple','pink']\n",
    "\n",
    "plt.figure(figsize=(10,10))\n",
    "for model, predicted in prediction_A.items():\n",
    "    if model == 'MLP':\n",
    "        false_positive_rate, true_positive_rate, thresholds = roc_curve(y_test_mlp, predicted,pos_label=4)\n",
    "        roc_auc = auc(false_positive_rate, true_positive_rate)\n",
    "        plt.plot(false_positive_rate, true_positive_rate, colors[cmp], label='%s: AUC %0.2f'% (model,roc_auc))\n",
    "        cmp += 1\n",
    "    else:\n",
    "        false_positive_rate, true_positive_rate, thresholds = roc_curve(y_test_1, predicted,pos_label=4)\n",
    "        roc_auc = auc(false_positive_rate, true_positive_rate)\n",
    "        plt.plot(false_positive_rate, true_positive_rate, colors[cmp], label='%s: AUC %0.2f'% (model,roc_auc))\n",
    "        cmp += 1\n",
    "plt.title('Comparaison des modèles avec la courbe de ROC')\n",
    "plt.plot([0, 1], [0, 1], color='r',linestyle='--',label='Aléatoire (auc = 0.5)')\n",
    "plt.xlim([-0.1,1.2])\n",
    "plt.ylim([-0.1,1.2])\n",
    "plt.ylabel('Taux vrais positifs')\n",
    "plt.xlabel('Taux faux positifs')\n",
    "plt.legend(loc='best')\n",
    "plt.tick_params(direction='in')\n",
    "plt.show()"
   ]
  },
  {
   "cell_type": "markdown",
   "metadata": {
    "colab_type": "text",
    "id": "oSUcq6gAtdsV"
   },
   "source": [
    "**Commentaire:** _Ce graphique présente toutes les courbes de ROC des différents modèles. Il confirme les résultats antérieurs avec des modèles bien plus performants que d'autres et notamment: la régression logistique, le naif bayésien et le random forest._  "
   ]
  },
  {
   "cell_type": "markdown",
   "metadata": {},
   "source": [
    "## Scalability avec les commentaires de movie"
   ]
  },
  {
   "cell_type": "code",
   "execution_count": 149,
   "metadata": {},
   "outputs": [],
   "source": [
    "file_path_data_scalability = 'data_scalability/movie_reviews/'"
   ]
  },
  {
   "cell_type": "code",
   "execution_count": 150,
   "metadata": {},
   "outputs": [],
   "source": [
    "mov = pd.read_csv(file_path_data_scalability+'movie_reviews.csv')\n",
    "mov.rename(columns={\"Sentiment\": \"target\", \"SentimentText\": \"text\"}, inplace=True)\n",
    "mov['target'] = mov['target'].replace([1],[4])\n",
    "X_mov = mov['text']\n",
    "y_mov = mov.target\n",
    "X_mov = vectorizer_mlp.transform(X_mov)"
   ]
  },
  {
   "cell_type": "code",
   "execution_count": 151,
   "metadata": {},
   "outputs": [
    {
     "data": {
      "text/plain": [
       "0.68004"
      ]
     },
     "execution_count": 151,
     "metadata": {},
     "output_type": "execute_result"
    }
   ],
   "source": [
    "mlp.score(X_mov,y_mov)"
   ]
  },
  {
   "cell_type": "code",
   "execution_count": null,
   "metadata": {},
   "outputs": [],
   "source": []
  }
 ],
 "metadata": {
  "accelerator": "GPU",
  "colab": {
   "collapsed_sections": [
    "CuVkYWLrqu_l",
    "_5x9fXkcpMMS",
    "K_7w5bkexPc_",
    "pQnOz72cxPdz",
    "y9BP1XbQxPg-"
   ],
   "name": "Final.ipynb",
   "provenance": []
  },
  "kernelspec": {
   "display_name": "Python 3",
   "language": "python",
   "name": "python3"
  },
  "language_info": {
   "codemirror_mode": {
    "name": "ipython",
    "version": 3
   },
   "file_extension": ".py",
   "mimetype": "text/x-python",
   "name": "python",
   "nbconvert_exporter": "python",
   "pygments_lexer": "ipython3",
   "version": "3.6.7"
  }
 },
 "nbformat": 4,
 "nbformat_minor": 4
}
