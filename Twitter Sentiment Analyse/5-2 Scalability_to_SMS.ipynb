{
 "cells": [
  {
   "cell_type": "markdown",
   "metadata": {},
   "source": [
    "# Scalabilité - Projet: Twitter Sentiment Analysis"
   ]
  },
  {
   "cell_type": "markdown",
   "metadata": {},
   "source": [
    "L'objectif ici est d'évaluer la scalabilité de notre modèle en le testant sur un autre jeu de données. \n",
    "Dans ce fichier, le jeu de données choisi est celui des SMS reçus classés comme SPAM ou pas SPAM."
   ]
  },
  {
   "cell_type": "code",
   "execution_count": 1,
   "metadata": {},
   "outputs": [],
   "source": [
    "#Path pour les fichiers\n",
    "file_path_data = 'data/data_clean/'\n",
    "file_path_data_scalability = 'data_scalability/spam/'\n",
    "trained_model_path = 'models_training/Best_models_A/'"
   ]
  },
  {
   "cell_type": "markdown",
   "metadata": {},
   "source": [
    "# I. Importation des packages nécessaires et des jeux de données"
   ]
  },
  {
   "cell_type": "markdown",
   "metadata": {},
   "source": [
    "# 1. Importation des packages"
   ]
  },
  {
   "cell_type": "code",
   "execution_count": 87,
   "metadata": {},
   "outputs": [],
   "source": [
    "import numpy as np\n",
    "import matplotlib.pyplot as plt\n",
    "import pandas as pd\n",
    "import re \n",
    "import nltk\n",
    "from nltk.corpus import stopwords\n",
    "from nltk.stem.porter import PorterStemmer \n",
    "from sklearn.model_selection import train_test_split\n",
    "from sklearn.model_selection import GridSearchCV, cross_val_score\n",
    "from sklearn.feature_extraction.text import TfidfVectorizer\n",
    "from nltk import word_tokenize, pos_tag, sent_tokenize \n",
    "from sklearn.feature_extraction.text import CountVectorizer\n",
    "from sklearn import linear_model\n",
    "import pickle\n",
    "from sklearn.metrics import classification_report"
   ]
  },
  {
   "cell_type": "markdown",
   "metadata": {},
   "source": [
    "# 2. Importation du jeu de données: Tweets"
   ]
  },
  {
   "cell_type": "code",
   "execution_count": 88,
   "metadata": {},
   "outputs": [],
   "source": [
    "df = pd.read_csv(file_path_data+'data_clean.csv', index_col = 0)"
   ]
  },
  {
   "cell_type": "markdown",
   "metadata": {},
   "source": [
    "On affiche ici les informations sur le dataframe df:"
   ]
  },
  {
   "cell_type": "code",
   "execution_count": 89,
   "metadata": {
    "scrolled": true
   },
   "outputs": [
    {
     "name": "stdout",
     "output_type": "stream",
     "text": [
      "Le nombre de tweets positifs est: 99968\n",
      "Le nombre de tweets négatif est: 99977\n",
      "Le nombre de valeurs manquante:\n",
      "target                   0\n",
      "ids                      0\n",
      "date                     0\n",
      "flag                     0\n",
      "user                     0\n",
      "text                     0\n",
      "clean_text               0\n",
      "clean_text_tagged        0\n",
      "clean_text_tagged_bis    0\n",
      "dtype: int64\n"
     ]
    }
   ],
   "source": [
    "print(\"Le nombre de tweets positifs est:\", (df[df.target == 4].shape[0]))\n",
    "print(\"Le nombre de tweets négatif est:\", (df[df.target == 0].shape[0]))\n",
    "print(\"Le nombre de valeurs manquante:\\n\" + str(pd.isnull(df).sum()))"
   ]
  },
  {
   "cell_type": "code",
   "execution_count": 90,
   "metadata": {
    "scrolled": true
   },
   "outputs": [
    {
     "data": {
      "text/html": [
       "<div>\n",
       "<style scoped>\n",
       "    .dataframe tbody tr th:only-of-type {\n",
       "        vertical-align: middle;\n",
       "    }\n",
       "\n",
       "    .dataframe tbody tr th {\n",
       "        vertical-align: top;\n",
       "    }\n",
       "\n",
       "    .dataframe thead th {\n",
       "        text-align: right;\n",
       "    }\n",
       "</style>\n",
       "<table border=\"1\" class=\"dataframe\">\n",
       "  <thead>\n",
       "    <tr style=\"text-align: right;\">\n",
       "      <th></th>\n",
       "      <th>target</th>\n",
       "      <th>ids</th>\n",
       "      <th>date</th>\n",
       "      <th>flag</th>\n",
       "      <th>user</th>\n",
       "      <th>text</th>\n",
       "      <th>clean_text</th>\n",
       "      <th>clean_text_tagged</th>\n",
       "      <th>clean_text_tagged_bis</th>\n",
       "    </tr>\n",
       "    <tr>\n",
       "      <th>index</th>\n",
       "      <th></th>\n",
       "      <th></th>\n",
       "      <th></th>\n",
       "      <th></th>\n",
       "      <th></th>\n",
       "      <th></th>\n",
       "      <th></th>\n",
       "      <th></th>\n",
       "      <th></th>\n",
       "    </tr>\n",
       "  </thead>\n",
       "  <tbody>\n",
       "    <tr>\n",
       "      <th>0</th>\n",
       "      <td>0</td>\n",
       "      <td>1467810369</td>\n",
       "      <td>Mon Apr 06 22:19:45 PDT 2009</td>\n",
       "      <td>NO_QUERY</td>\n",
       "      <td>_TheSpecialOne_</td>\n",
       "      <td>@switchfoot http://twitpic.com/2y1zl - Awww, t...</td>\n",
       "      <td>switchfoot awww bummer shoulda got david carr ...</td>\n",
       "      <td>[('switchfoot', 'NN'), ('awww', 'NN'), ('bumme...</td>\n",
       "      <td>('switchfoot', 'NN'), ('awww', 'NN'), ('bummer...</td>\n",
       "    </tr>\n",
       "    <tr>\n",
       "      <th>1</th>\n",
       "      <td>0</td>\n",
       "      <td>1467810672</td>\n",
       "      <td>Mon Apr 06 22:19:49 PDT 2009</td>\n",
       "      <td>NO_QUERY</td>\n",
       "      <td>scotthamilton</td>\n",
       "      <td>is upset that he can't update his Facebook by ...</td>\n",
       "      <td>upset update facebook texting might cry result...</td>\n",
       "      <td>[('upset', 'JJ'), ('update', 'JJ'), ('facebook...</td>\n",
       "      <td>('upset', 'JJ'), ('update', 'JJ'), ('facebook'...</td>\n",
       "    </tr>\n",
       "    <tr>\n",
       "      <th>2</th>\n",
       "      <td>0</td>\n",
       "      <td>1467810917</td>\n",
       "      <td>Mon Apr 06 22:19:53 PDT 2009</td>\n",
       "      <td>NO_QUERY</td>\n",
       "      <td>mattycus</td>\n",
       "      <td>@Kenichan I dived many times for the ball. Man...</td>\n",
       "      <td>kenichan dived many times ball managed save 50...</td>\n",
       "      <td>[('kenichan', 'NNS'), ('dived', 'VBD'), ('many...</td>\n",
       "      <td>('kenichan', 'NNS'), ('dived', 'VBD'), ('many'...</td>\n",
       "    </tr>\n",
       "    <tr>\n",
       "      <th>3</th>\n",
       "      <td>0</td>\n",
       "      <td>1467811184</td>\n",
       "      <td>Mon Apr 06 22:19:57 PDT 2009</td>\n",
       "      <td>NO_QUERY</td>\n",
       "      <td>ElleCTF</td>\n",
       "      <td>my whole body feels itchy and like its on fire</td>\n",
       "      <td>whole body feels itchy like fire</td>\n",
       "      <td>[('whole', 'JJ'), ('body', 'NN'), ('feels', 'N...</td>\n",
       "      <td>('whole', 'JJ'), ('body', 'NN'), ('feels', 'NN...</td>\n",
       "    </tr>\n",
       "    <tr>\n",
       "      <th>4</th>\n",
       "      <td>0</td>\n",
       "      <td>1467811193</td>\n",
       "      <td>Mon Apr 06 22:19:57 PDT 2009</td>\n",
       "      <td>NO_QUERY</td>\n",
       "      <td>Karoli</td>\n",
       "      <td>@nationwideclass no, it's not behaving at all....</td>\n",
       "      <td>nationwideclass behaving mad see</td>\n",
       "      <td>[('nationwideclass', 'NN'), ('behaving', 'NN')...</td>\n",
       "      <td>('nationwideclass', 'NN'), ('behaving', 'NN'),...</td>\n",
       "    </tr>\n",
       "  </tbody>\n",
       "</table>\n",
       "</div>"
      ],
      "text/plain": [
       "       target         ids                          date      flag  \\\n",
       "index                                                               \n",
       "0           0  1467810369  Mon Apr 06 22:19:45 PDT 2009  NO_QUERY   \n",
       "1           0  1467810672  Mon Apr 06 22:19:49 PDT 2009  NO_QUERY   \n",
       "2           0  1467810917  Mon Apr 06 22:19:53 PDT 2009  NO_QUERY   \n",
       "3           0  1467811184  Mon Apr 06 22:19:57 PDT 2009  NO_QUERY   \n",
       "4           0  1467811193  Mon Apr 06 22:19:57 PDT 2009  NO_QUERY   \n",
       "\n",
       "                  user                                               text  \\\n",
       "index                                                                       \n",
       "0      _TheSpecialOne_  @switchfoot http://twitpic.com/2y1zl - Awww, t...   \n",
       "1        scotthamilton  is upset that he can't update his Facebook by ...   \n",
       "2             mattycus  @Kenichan I dived many times for the ball. Man...   \n",
       "3              ElleCTF    my whole body feels itchy and like its on fire    \n",
       "4               Karoli  @nationwideclass no, it's not behaving at all....   \n",
       "\n",
       "                                              clean_text  \\\n",
       "index                                                      \n",
       "0      switchfoot awww bummer shoulda got david carr ...   \n",
       "1      upset update facebook texting might cry result...   \n",
       "2      kenichan dived many times ball managed save 50...   \n",
       "3                       whole body feels itchy like fire   \n",
       "4                       nationwideclass behaving mad see   \n",
       "\n",
       "                                       clean_text_tagged  \\\n",
       "index                                                      \n",
       "0      [('switchfoot', 'NN'), ('awww', 'NN'), ('bumme...   \n",
       "1      [('upset', 'JJ'), ('update', 'JJ'), ('facebook...   \n",
       "2      [('kenichan', 'NNS'), ('dived', 'VBD'), ('many...   \n",
       "3      [('whole', 'JJ'), ('body', 'NN'), ('feels', 'N...   \n",
       "4      [('nationwideclass', 'NN'), ('behaving', 'NN')...   \n",
       "\n",
       "                                   clean_text_tagged_bis  \n",
       "index                                                     \n",
       "0      ('switchfoot', 'NN'), ('awww', 'NN'), ('bummer...  \n",
       "1      ('upset', 'JJ'), ('update', 'JJ'), ('facebook'...  \n",
       "2      ('kenichan', 'NNS'), ('dived', 'VBD'), ('many'...  \n",
       "3      ('whole', 'JJ'), ('body', 'NN'), ('feels', 'NN...  \n",
       "4      ('nationwideclass', 'NN'), ('behaving', 'NN'),...  "
      ]
     },
     "execution_count": 90,
     "metadata": {},
     "output_type": "execute_result"
    }
   ],
   "source": [
    "df.head()"
   ]
  },
  {
   "cell_type": "code",
   "execution_count": 91,
   "metadata": {
    "scrolled": true
   },
   "outputs": [],
   "source": [
    "X = df['text']\n",
    "y = df.target"
   ]
  },
  {
   "cell_type": "code",
   "execution_count": 92,
   "metadata": {},
   "outputs": [],
   "source": [
    "X_train,X_test,y_train,y_test = train_test_split(X,y,test_size=0.2, random_state = 0)"
   ]
  },
  {
   "cell_type": "code",
   "execution_count": 93,
   "metadata": {},
   "outputs": [],
   "source": [
    "vectorizer = pickle.load(open(trained_model_path+'vectorizer.sav', 'rb'))\n",
    "X_test = vectorizer.transform(X_test)"
   ]
  },
  {
   "cell_type": "markdown",
   "metadata": {},
   "source": [
    "# 3. Importation du jeu de données: SMS"
   ]
  },
  {
   "cell_type": "code",
   "execution_count": 94,
   "metadata": {},
   "outputs": [],
   "source": [
    "sms = pd.read_csv(file_path_data_scalability+'spam.csv',encoding = \"ISO-8859-1\")"
   ]
  },
  {
   "cell_type": "code",
   "execution_count": 95,
   "metadata": {
    "scrolled": true
   },
   "outputs": [],
   "source": [
    "sms.rename(columns={\"v1\": \"target\", \"v2\": \"text\"}, inplace=True)\n",
    "sms.drop([\"Unnamed: 2\",\"Unnamed: 3\",\"Unnamed: 4\"],axis=1, inplace=True)\n",
    "sms['target'] = sms['target'].replace(['ham','spam'],[4,0])"
   ]
  },
  {
   "cell_type": "code",
   "execution_count": 96,
   "metadata": {
    "scrolled": false
   },
   "outputs": [
    {
     "data": {
      "text/html": [
       "<div>\n",
       "<style scoped>\n",
       "    .dataframe tbody tr th:only-of-type {\n",
       "        vertical-align: middle;\n",
       "    }\n",
       "\n",
       "    .dataframe tbody tr th {\n",
       "        vertical-align: top;\n",
       "    }\n",
       "\n",
       "    .dataframe thead th {\n",
       "        text-align: right;\n",
       "    }\n",
       "</style>\n",
       "<table border=\"1\" class=\"dataframe\">\n",
       "  <thead>\n",
       "    <tr style=\"text-align: right;\">\n",
       "      <th></th>\n",
       "      <th>target</th>\n",
       "      <th>text</th>\n",
       "    </tr>\n",
       "  </thead>\n",
       "  <tbody>\n",
       "    <tr>\n",
       "      <th>0</th>\n",
       "      <td>4</td>\n",
       "      <td>Go until jurong point, crazy.. Available only ...</td>\n",
       "    </tr>\n",
       "    <tr>\n",
       "      <th>1</th>\n",
       "      <td>4</td>\n",
       "      <td>Ok lar... Joking wif u oni...</td>\n",
       "    </tr>\n",
       "    <tr>\n",
       "      <th>2</th>\n",
       "      <td>0</td>\n",
       "      <td>Free entry in 2 a wkly comp to win FA Cup fina...</td>\n",
       "    </tr>\n",
       "    <tr>\n",
       "      <th>3</th>\n",
       "      <td>4</td>\n",
       "      <td>U dun say so early hor... U c already then say...</td>\n",
       "    </tr>\n",
       "    <tr>\n",
       "      <th>4</th>\n",
       "      <td>4</td>\n",
       "      <td>Nah I don't think he goes to usf, he lives aro...</td>\n",
       "    </tr>\n",
       "  </tbody>\n",
       "</table>\n",
       "</div>"
      ],
      "text/plain": [
       "   target                                               text\n",
       "0       4  Go until jurong point, crazy.. Available only ...\n",
       "1       4                      Ok lar... Joking wif u oni...\n",
       "2       0  Free entry in 2 a wkly comp to win FA Cup fina...\n",
       "3       4  U dun say so early hor... U c already then say...\n",
       "4       4  Nah I don't think he goes to usf, he lives aro..."
      ]
     },
     "execution_count": 96,
     "metadata": {},
     "output_type": "execute_result"
    }
   ],
   "source": [
    "sms.head()"
   ]
  },
  {
   "cell_type": "markdown",
   "metadata": {},
   "source": [
    "Montrer les informations de sms, "
   ]
  },
  {
   "cell_type": "code",
   "execution_count": 97,
   "metadata": {},
   "outputs": [
    {
     "name": "stdout",
     "output_type": "stream",
     "text": [
      "Le nombre de sms non-spam est: 4825\n",
      "Le nombre de sms spam est: 747\n",
      "Le nombre de valeurs manquante:\n",
      "target    0\n",
      "text      0\n",
      "dtype: int64\n"
     ]
    }
   ],
   "source": [
    "print(\"Le nombre de sms non-spam est:\", (sms[sms.target == 4].shape[0]))\n",
    "print(\"Le nombre de sms spam est:\", (sms[sms.target == 0].shape[0]))\n",
    "print(\"Le nombre de valeurs manquante:\\n\" + str(pd.isnull(sms).sum()))"
   ]
  },
  {
   "cell_type": "markdown",
   "metadata": {},
   "source": [
    "**Commentaire:** \n",
    "    - Notre jeu de données contient plus de SMS non-spam que de SMS indésirables.\n",
    "    - Notre jeu de données ne comporte pas de valeurs manquantes."
   ]
  },
  {
   "cell_type": "code",
   "execution_count": 98,
   "metadata": {},
   "outputs": [],
   "source": [
    "X_sms = sms['text']\n",
    "y_sms = sms.target\n",
    "X_sms = vectorizer.transform(X_sms)"
   ]
  },
  {
   "cell_type": "markdown",
   "metadata": {},
   "source": [
    "# II. Application des modèles entraînés"
   ]
  },
  {
   "cell_type": "code",
   "execution_count": 99,
   "metadata": {},
   "outputs": [],
   "source": [
    "models_name = ['Logistic', 'Naif bayésien BernoulliNB', 'Naif bayésien MultinomialNB', 'KNeighbors', 'Decision Tree',\n",
    "              'Random Forest', 'XGBoost', 'GradientBoosting', 'AdaBoost']\n",
    "trained_models = ['logreg','ber','nb','knn','dc','rf','xgb','gradbt','ac' ]"
   ]
  },
  {
   "cell_type": "code",
   "execution_count": 100,
   "metadata": {},
   "outputs": [],
   "source": [
    "def test(models_name, trained_models, X_test, y_test, s = 'tweets'):\n",
    "    prediction = dict()\n",
    "    for i in range(len(models_name)):\n",
    "        model = pickle.load(open(trained_model_path+trained_models[i]+'.sav', 'rb'))     \n",
    "        prediction[models_name[i] + '_' + s ] = model.predict(X_test) #save the prediction to dictionary\n",
    "        print(\"\\n\"+\"=\"*40+models_name[i]+\"=\"*40+\"\\n\")\n",
    "        print(\"Evaluation détaillée de la Classification par \" + models_name[i] +\":\\n \\n\", classification_report(y_test,prediction[models_name[i] + '_' + s]))\n",
    "        confusion_matrix = pd.crosstab(y_test, prediction[models_name[i] + '_' + s], rownames=['Classe réelle'],colnames=['Classe prédite'])\n",
    "        print(\"La matrice de confusion pour la Classification par \" + models_name[i] +\" :\\n \\n\" ,confusion_matrix)\n",
    "        accuracy = model.score(X_test, y_test)\n",
    "        print(\"Le score pour la Classification par \" + models_name[i] + \": \",accuracy)\n",
    "    return prediction"
   ]
  },
  {
   "cell_type": "markdown",
   "metadata": {},
   "source": [
    "# 1. Apprentissage avec le jeu de données Tweets"
   ]
  },
  {
   "cell_type": "code",
   "execution_count": 101,
   "metadata": {
    "scrolled": false
   },
   "outputs": [
    {
     "name": "stdout",
     "output_type": "stream",
     "text": [
      "\n",
      "========================================Logistic========================================\n",
      "\n",
      "Evaluation détaillée de la Classification par Logistic:\n",
      " \n",
      "               precision    recall  f1-score   support\n",
      "\n",
      "           0       0.80      0.78      0.79     19887\n",
      "           4       0.78      0.81      0.80     20102\n",
      "\n",
      "    accuracy                           0.79     39989\n",
      "   macro avg       0.79      0.79      0.79     39989\n",
      "weighted avg       0.79      0.79      0.79     39989\n",
      "\n",
      "La matrice de confusion pour la Classification par Logistic :\n",
      " \n",
      " Classe prédite      0      4\n",
      "Classe réelle               \n",
      "0               15428   4459\n",
      "4                3892  16210\n",
      "Le score pour la Classification par Logistic:  0.7911675710820476\n",
      "\n",
      "========================================Naif bayésien BernoulliNB========================================\n",
      "\n",
      "Evaluation détaillée de la Classification par Naif bayésien BernoulliNB:\n",
      " \n",
      "               precision    recall  f1-score   support\n",
      "\n",
      "           0       0.76      0.81      0.78     19887\n",
      "           4       0.80      0.74      0.77     20102\n",
      "\n",
      "    accuracy                           0.78     39989\n",
      "   macro avg       0.78      0.78      0.78     39989\n",
      "weighted avg       0.78      0.78      0.78     39989\n",
      "\n",
      "La matrice de confusion pour la Classification par Naif bayésien BernoulliNB :\n",
      " \n",
      " Classe prédite      0      4\n",
      "Classe réelle               \n",
      "0               16113   3774\n",
      "4                5213  14889\n",
      "Le score pour la Classification par Naif bayésien BernoulliNB:  0.7752631973792793\n",
      "\n",
      "========================================Naif bayésien MultinomialNB========================================\n",
      "\n",
      "Evaluation détaillée de la Classification par Naif bayésien MultinomialNB:\n",
      " \n",
      "               precision    recall  f1-score   support\n",
      "\n",
      "           0       0.75      0.82      0.78     19887\n",
      "           4       0.80      0.72      0.76     20102\n",
      "\n",
      "    accuracy                           0.77     39989\n",
      "   macro avg       0.77      0.77      0.77     39989\n",
      "weighted avg       0.77      0.77      0.77     39989\n",
      "\n",
      "La matrice de confusion pour la Classification par Naif bayésien MultinomialNB :\n",
      " \n",
      " Classe prédite      0      4\n",
      "Classe réelle               \n",
      "0               16304   3583\n",
      "4                5574  14528\n",
      "Le score pour la Classification par Naif bayésien MultinomialNB:  0.7710120283077846\n",
      "\n",
      "========================================KNeighbors========================================\n",
      "\n",
      "Evaluation détaillée de la Classification par KNeighbors:\n",
      " \n",
      "               precision    recall  f1-score   support\n",
      "\n",
      "           0       0.67      0.71      0.69     19887\n",
      "           4       0.70      0.65      0.67     20102\n",
      "\n",
      "    accuracy                           0.68     39989\n",
      "   macro avg       0.68      0.68      0.68     39989\n",
      "weighted avg       0.68      0.68      0.68     39989\n",
      "\n",
      "La matrice de confusion pour la Classification par KNeighbors :\n",
      " \n",
      " Classe prédite      0      4\n",
      "Classe réelle               \n",
      "0               14210   5677\n",
      "4                6991  13111\n",
      "Le score pour la Classification par KNeighbors:  0.6832128835429743\n",
      "\n",
      "========================================Decision Tree========================================\n",
      "\n",
      "Evaluation détaillée de la Classification par Decision Tree:\n",
      " \n",
      "               precision    recall  f1-score   support\n",
      "\n",
      "           0       0.71      0.72      0.71     19887\n",
      "           4       0.72      0.71      0.72     20102\n",
      "\n",
      "    accuracy                           0.71     39989\n",
      "   macro avg       0.71      0.71      0.71     39989\n",
      "weighted avg       0.71      0.71      0.71     39989\n",
      "\n",
      "La matrice de confusion pour la Classification par Decision Tree :\n",
      " \n",
      " Classe prédite      0      4\n",
      "Classe réelle               \n",
      "0               14246   5641\n",
      "4                5760  14342\n",
      "Le score pour la Classification par Decision Tree:  0.7148965965640551\n",
      "\n",
      "========================================Random Forest========================================\n",
      "\n",
      "Evaluation détaillée de la Classification par Random Forest:\n",
      " \n",
      "               precision    recall  f1-score   support\n",
      "\n",
      "           0       0.71      0.80      0.75     19887\n",
      "           4       0.78      0.68      0.72     20102\n",
      "\n",
      "    accuracy                           0.74     39989\n",
      "   macro avg       0.74      0.74      0.74     39989\n",
      "weighted avg       0.74      0.74      0.74     39989\n",
      "\n",
      "La matrice de confusion pour la Classification par Random Forest :\n",
      " \n",
      " Classe prédite      0      4\n",
      "Classe réelle               \n",
      "0               15999   3888\n",
      "4                6528  13574\n",
      "Le score pour la Classification par Random Forest:  0.739528370301833\n",
      "\n",
      "========================================XGBoost========================================\n",
      "\n",
      "Evaluation détaillée de la Classification par XGBoost:\n",
      " \n",
      "               precision    recall  f1-score   support\n",
      "\n",
      "           0       0.73      0.64      0.68     19887\n",
      "           4       0.68      0.77      0.72     20102\n",
      "\n",
      "    accuracy                           0.70     39989\n",
      "   macro avg       0.71      0.70      0.70     39989\n",
      "weighted avg       0.71      0.70      0.70     39989\n",
      "\n",
      "La matrice de confusion pour la Classification par XGBoost :\n",
      " \n",
      " Classe prédite      0      4\n",
      "Classe réelle               \n",
      "0               12665   7222\n",
      "4                4666  15436\n",
      "Le score pour la Classification par XGBoost:  0.7027182475180674\n",
      "\n",
      "========================================GradientBoosting========================================\n",
      "\n",
      "Evaluation détaillée de la Classification par GradientBoosting:\n",
      " \n",
      "               precision    recall  f1-score   support\n",
      "\n",
      "           0       0.74      0.64      0.69     19887\n",
      "           4       0.69      0.77      0.73     20102\n",
      "\n",
      "    accuracy                           0.71     39989\n",
      "   macro avg       0.71      0.71      0.71     39989\n",
      "weighted avg       0.71      0.71      0.71     39989\n",
      "\n",
      "La matrice de confusion pour la Classification par GradientBoosting :\n",
      " \n",
      " Classe prédite      0      4\n",
      "Classe réelle               \n",
      "0               12768   7119\n",
      "4                4567  15535\n",
      "Le score pour la Classification par GradientBoosting:  0.7077696366500787\n",
      "\n",
      "========================================AdaBoost========================================\n",
      "\n",
      "Evaluation détaillée de la Classification par AdaBoost:\n",
      " \n",
      "               precision    recall  f1-score   support\n",
      "\n",
      "           0       0.77      0.71      0.74     19887\n",
      "           4       0.73      0.79      0.76     20102\n",
      "\n",
      "    accuracy                           0.75     39989\n",
      "   macro avg       0.75      0.75      0.75     39989\n",
      "weighted avg       0.75      0.75      0.75     39989\n",
      "\n",
      "La matrice de confusion pour la Classification par AdaBoost :\n",
      " \n",
      " Classe prédite      0      4\n",
      "Classe réelle               \n",
      "0               14130   5757\n",
      "4                4191  15911\n",
      "Le score pour la Classification par AdaBoost:  0.7512315886868889\n"
     ]
    }
   ],
   "source": [
    "prediction_tweets = test(models_name, trained_models, X_test, y_test, s = 'tweets') # It takes about 5 mins"
   ]
  },
  {
   "cell_type": "markdown",
   "metadata": {},
   "source": [
    "# 2. Apprentissage avec le jeu de données: SMS"
   ]
  },
  {
   "cell_type": "code",
   "execution_count": 102,
   "metadata": {
    "scrolled": false
   },
   "outputs": [
    {
     "name": "stdout",
     "output_type": "stream",
     "text": [
      "\n",
      "========================================Logistic========================================\n",
      "\n",
      "Evaluation détaillée de la Classification par Logistic:\n",
      " \n",
      "               precision    recall  f1-score   support\n",
      "\n",
      "           0       0.09      0.24      0.13       747\n",
      "           4       0.84      0.63      0.72      4825\n",
      "\n",
      "    accuracy                           0.58      5572\n",
      "   macro avg       0.47      0.44      0.43      5572\n",
      "weighted avg       0.74      0.58      0.65      5572\n",
      "\n",
      "La matrice de confusion pour la Classification par Logistic :\n",
      " \n",
      " Classe prédite     0     4\n",
      "Classe réelle             \n",
      "0                179   568\n",
      "4               1763  3062\n",
      "Le score pour la Classification par Logistic:  0.5816582914572864\n",
      "\n",
      "========================================Naif bayésien BernoulliNB========================================\n",
      "\n",
      "Evaluation détaillée de la Classification par Naif bayésien BernoulliNB:\n",
      " \n",
      "               precision    recall  f1-score   support\n",
      "\n",
      "           0       0.09      0.31      0.14       747\n",
      "           4       0.83      0.53      0.65      4825\n",
      "\n",
      "    accuracy                           0.50      5572\n",
      "   macro avg       0.46      0.42      0.40      5572\n",
      "weighted avg       0.73      0.50      0.58      5572\n",
      "\n",
      "La matrice de confusion pour la Classification par Naif bayésien BernoulliNB :\n",
      " \n",
      " Classe prédite     0     4\n",
      "Classe réelle             \n",
      "0                232   515\n",
      "4               2265  2560\n",
      "Le score pour la Classification par Naif bayésien BernoulliNB:  0.5010768126346016\n",
      "\n",
      "========================================Naif bayésien MultinomialNB========================================\n",
      "\n",
      "Evaluation détaillée de la Classification par Naif bayésien MultinomialNB:\n",
      " \n",
      "               precision    recall  f1-score   support\n",
      "\n",
      "           0       0.09      0.32      0.14       747\n",
      "           4       0.83      0.52      0.64      4825\n",
      "\n",
      "    accuracy                           0.49      5572\n",
      "   macro avg       0.46      0.42      0.39      5572\n",
      "weighted avg       0.73      0.49      0.57      5572\n",
      "\n",
      "La matrice de confusion pour la Classification par Naif bayésien MultinomialNB :\n",
      " \n",
      " Classe prédite     0     4\n",
      "Classe réelle             \n",
      "0                240   507\n",
      "4               2338  2487\n",
      "Le score pour la Classification par Naif bayésien MultinomialNB:  0.4894113424264178\n",
      "\n",
      "========================================KNeighbors========================================\n",
      "\n",
      "Evaluation détaillée de la Classification par KNeighbors:\n",
      " \n",
      "               precision    recall  f1-score   support\n",
      "\n",
      "           0       0.12      0.46      0.19       747\n",
      "           4       0.85      0.47      0.60      4825\n",
      "\n",
      "    accuracy                           0.47      5572\n",
      "   macro avg       0.48      0.46      0.39      5572\n",
      "weighted avg       0.75      0.47      0.55      5572\n",
      "\n",
      "La matrice de confusion pour la Classification par KNeighbors :\n",
      " \n",
      " Classe prédite     0     4\n",
      "Classe réelle             \n",
      "0                340   407\n",
      "4               2565  2260\n",
      "Le score pour la Classification par KNeighbors:  0.46661880832735103\n",
      "\n",
      "========================================Decision Tree========================================\n",
      "\n",
      "Evaluation détaillée de la Classification par Decision Tree:\n",
      " \n",
      "               precision    recall  f1-score   support\n",
      "\n",
      "           0       0.13      0.42      0.20       747\n",
      "           4       0.87      0.58      0.70      4825\n",
      "\n",
      "    accuracy                           0.56      5572\n",
      "   macro avg       0.50      0.50      0.45      5572\n",
      "weighted avg       0.77      0.56      0.63      5572\n",
      "\n",
      "La matrice de confusion pour la Classification par Decision Tree :\n",
      " \n",
      " Classe prédite     0     4\n",
      "Classe réelle             \n",
      "0                313   434\n",
      "4               2009  2816\n",
      "Le score pour la Classification par Decision Tree:  0.5615577889447236\n",
      "\n",
      "========================================Random Forest========================================\n",
      "\n",
      "Evaluation détaillée de la Classification par Random Forest:\n",
      " \n",
      "               precision    recall  f1-score   support\n",
      "\n",
      "           0       0.11      0.40      0.18       747\n",
      "           4       0.85      0.51      0.64      4825\n",
      "\n",
      "    accuracy                           0.50      5572\n",
      "   macro avg       0.48      0.46      0.41      5572\n",
      "weighted avg       0.75      0.50      0.58      5572\n",
      "\n",
      "La matrice de confusion pour la Classification par Random Forest :\n",
      " \n",
      " Classe prédite     0     4\n",
      "Classe réelle             \n",
      "0                298   449\n",
      "4               2342  2483\n",
      "Le score pour la Classification par Random Forest:  0.499102656137832\n",
      "\n",
      "========================================XGBoost========================================\n",
      "\n",
      "Evaluation détaillée de la Classification par XGBoost:\n",
      " \n",
      "               precision    recall  f1-score   support\n",
      "\n",
      "           0       0.08      0.17      0.10       747\n",
      "           4       0.84      0.68      0.75      4825\n",
      "\n",
      "    accuracy                           0.61      5572\n",
      "   macro avg       0.46      0.42      0.43      5572\n",
      "weighted avg       0.74      0.61      0.67      5572\n",
      "\n",
      "La matrice de confusion pour la Classification par XGBoost :\n",
      " \n",
      " Classe prédite     0     4\n",
      "Classe réelle             \n",
      "0                126   621\n",
      "4               1540  3285\n",
      "Le score pour la Classification par XGBoost:  0.6121679827709978\n",
      "\n",
      "========================================GradientBoosting========================================\n",
      "\n",
      "Evaluation détaillée de la Classification par GradientBoosting:\n",
      " \n",
      "               precision    recall  f1-score   support\n",
      "\n",
      "           0       0.07      0.15      0.09       747\n",
      "           4       0.84      0.68      0.75      4825\n",
      "\n",
      "    accuracy                           0.61      5572\n",
      "   macro avg       0.45      0.42      0.42      5572\n",
      "weighted avg       0.74      0.61      0.66      5572\n",
      "\n",
      "La matrice de confusion pour la Classification par GradientBoosting :\n",
      " \n",
      " Classe prédite     0     4\n",
      "Classe réelle             \n",
      "0                112   635\n",
      "4               1532  3293\n",
      "Le score pour la Classification par GradientBoosting:  0.6110911701363962\n",
      "\n",
      "========================================AdaBoost========================================\n",
      "\n",
      "Evaluation détaillée de la Classification par AdaBoost:\n",
      " \n",
      "               precision    recall  f1-score   support\n",
      "\n",
      "           0       0.06      0.14      0.09       747\n",
      "           4       0.83      0.66      0.74      4825\n",
      "\n",
      "    accuracy                           0.59      5572\n",
      "   macro avg       0.45      0.40      0.41      5572\n",
      "weighted avg       0.73      0.59      0.65      5572\n",
      "\n",
      "La matrice de confusion pour la Classification par AdaBoost :\n",
      " \n",
      " Classe prédite     0     4\n",
      "Classe réelle             \n",
      "0                108   639\n",
      "4               1629  3196\n",
      "Le score pour la Classification par AdaBoost:  0.592964824120603\n"
     ]
    }
   ],
   "source": [
    "prediction_sms = test(models_name, trained_models, X_sms, y_sms, s = 'sms') # It takes about 5 mins"
   ]
  },
  {
   "cell_type": "markdown",
   "metadata": {},
   "source": [
    "**Commentaire:** _On remarque que notre modèle appliqué au jeu de données SMS fournit des résultats modestes avec un score maximum de 61% avec XGBoost et GradientBoosting._"
   ]
  },
  {
   "cell_type": "markdown",
   "metadata": {},
   "source": [
    "# III. Résultats"
   ]
  },
  {
   "cell_type": "code",
   "execution_count": 103,
   "metadata": {},
   "outputs": [],
   "source": [
    "prediction = {**prediction_tweets, **prediction_sms}"
   ]
  },
  {
   "cell_type": "markdown",
   "metadata": {},
   "source": [
    "## 1. Matrices de confusion"
   ]
  },
  {
   "cell_type": "code",
   "execution_count": 104,
   "metadata": {},
   "outputs": [],
   "source": [
    "classes= (0,4)\n",
    "def plot_confusion_matrix(cm, cmap=plt.cm.Blues):\n",
    "    plt.imshow(cm, interpolation='nearest', cmap=cmap)\n",
    "    plt.colorbar()\n",
    "    tick_marks = np.arange(len(classes))\n",
    "    plt.xticks(tick_marks, classes, rotation=45)\n",
    "    plt.yticks(tick_marks, classes)\n",
    "    plt.tight_layout()\n",
    "    plt.ylabel('Vrais labels')\n",
    "    plt.xlabel('Labels prédits')"
   ]
  },
  {
   "cell_type": "code",
   "execution_count": 105,
   "metadata": {
    "scrolled": false
   },
   "outputs": [
    {
     "data": {
      "image/png": "[encoded data removed]",
      "text/plain": [
       "<Figure size 1080x1080 with 4 Axes>"
      ]
     },
     "metadata": {
      "needs_background": "light"
     },
     "output_type": "display_data"
    }
   ],
   "source": [
    "from sklearn.metrics import confusion_matrix\n",
    "\n",
    "plt.figure(figsize=(15,15))\n",
    "plt.subplot(2,1,1)\n",
    "plt.title('Matrice de confusion pour la Classification par: Logistic_tweets')\n",
    "cm_model = confusion_matrix(y_test,prediction['Logistic_tweets'])\n",
    "plot_confusion_matrix(cm_model)\n",
    "plt.subplot(2,1,2)\n",
    "cm_model1 = confusion_matrix(y_sms, prediction['Logistic_sms'])\n",
    "plt.title('Matrice de confusion pour la Classification par Logistic_sms')\n",
    "plot_confusion_matrix(cm_model1)"
   ]
  },
  {
   "cell_type": "markdown",
   "metadata": {},
   "source": [
    "**Commentaire:** _La matrice de confusion colorée confirme les résulats modestes obtenus précédemment._"
   ]
  },
  {
   "cell_type": "markdown",
   "metadata": {},
   "source": [
    "## 2. Courbes de ROC"
   ]
  },
  {
   "cell_type": "code",
   "execution_count": 106,
   "metadata": {
    "scrolled": false
   },
   "outputs": [
    {
     "data": {
      "image/png": "[encoded data removed]",
      "text/plain": [
       "<Figure size 720x720 with 1 Axes>"
      ]
     },
     "metadata": {
      "needs_background": "light"
     },
     "output_type": "display_data"
    }
   ],
   "source": [
    "from sklearn.metrics import roc_curve,auc\n",
    "cmp = 0\n",
    "colors = ['b', 'g', 'y', 'tan', 'k','c','fuchsia','grey','orange','purple']\n",
    "models_name = ['Logistic', 'Naif bayésien BernoulliNB', 'Naif bayésien MultinomialNB']\n",
    "plt.figure(figsize=(10,10))\n",
    "for i in range(len(models_name)):\n",
    "\n",
    "    false_positive_rate, true_positive_rate, thresholds = roc_curve(y_test, prediction[models_name[i]+'_tweets'],pos_label=4)\n",
    "    roc_auc = auc(false_positive_rate, true_positive_rate)\n",
    "    plt.plot(false_positive_rate, true_positive_rate, colors[i], label='%s: AUC %0.2f'% (models_name[i]+'_tweets',roc_auc))\n",
    "\n",
    "    false_positive_rate, true_positive_rate, thresholds = roc_curve(y_sms, prediction[models_name[i]+'_sms'],pos_label=4)\n",
    "    roc_auc = auc(false_positive_rate, true_positive_rate)\n",
    "    plt.plot(false_positive_rate, true_positive_rate, colors[i+3], label='%s: AUC %0.2f'% (models_name[i]+'_sms',roc_auc))\n",
    "\n",
    "plt.title('Comparaison des modèles avec la courbe de ROC')\n",
    "plt.plot([0, 1], [0, 1], color='r',linestyle='--',label='Aléatoire (auc = 0.5)')\n",
    "plt.xlim([-0.1,1.2])\n",
    "plt.ylim([-0.1,1.2])\n",
    "plt.ylabel('Taux vrais positifs')\n",
    "plt.xlabel('Taux faux positifs')\n",
    "plt.legend(loc='best')\n",
    "plt.tick_params(direction='in')\n",
    "plt.show()"
   ]
  },
  {
   "cell_type": "markdown",
   "metadata": {},
   "source": [
    "**Commentaire:** _De même, les courbes de ROC donnent un apreçu graphique des résultats précédemment obtenus avec des aires sous la courbes inférieurs à 0.5 pour les différents modèles appliqués au jeu de données SMS.\n",
    "Ce faible résultat peut s'expliquer par le fait que notre modèle a été entraîné sur un jeu de données de tweets labellisé \"positif\" ou \"négatif\" alors que le jeu de données SMS est quant à lui labellisé \"SPAM\" ou \"Pas SPAM\"; les résultats ne sont manifestement pas transposables._"
   ]
  }
 ],
 "metadata": {
  "kernelspec": {
   "display_name": "Python 3",
   "language": "python",
   "name": "python3"
  },
  "language_info": {
   "codemirror_mode": {
    "name": "ipython",
    "version": 3
   },
   "file_extension": ".py",
   "mimetype": "text/x-python",
   "name": "python",
   "nbconvert_exporter": "python",
   "pygments_lexer": "ipython3",
   "version": "3.5.4"
  }
 },
 "nbformat": 4,
 "nbformat_minor": 2
}
