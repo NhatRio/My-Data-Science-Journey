{
 "cells": [
  {
   "cell_type": "markdown",
   "metadata": {},
   "source": [
    "# Scalabilité - Projet: Twitter Sentiment Analysis"
   ]
  },
  {
   "cell_type": "code",
   "execution_count": 1,
   "metadata": {},
   "outputs": [],
   "source": [
    "#Path pour les fichiers\n",
    "file_path_data = 'data/data_clean/'\n",
    "file_path_data_scalability = 'data_scalability/movie_reviews/'\n",
    "trained_model_path = 'models_training/Best_models_A/'"
   ]
  },
  {
   "cell_type": "markdown",
   "metadata": {},
   "source": [
    "# I. Importation des packages nécessaires et des jeux de données"
   ]
  },
  {
   "cell_type": "markdown",
   "metadata": {},
   "source": [
    "# 1. Importation des packages"
   ]
  },
  {
   "cell_type": "code",
   "execution_count": 2,
   "metadata": {},
   "outputs": [],
   "source": [
    "import numpy as np\n",
    "import matplotlib.pyplot as plt\n",
    "import pandas as pd\n",
    "import re \n",
    "import nltk\n",
    "from nltk.corpus import stopwords\n",
    "from nltk.stem.porter import PorterStemmer \n",
    "from sklearn.model_selection import train_test_split\n",
    "from sklearn.model_selection import GridSearchCV, cross_val_score\n",
    "from sklearn.feature_extraction.text import TfidfVectorizer\n",
    "from nltk import word_tokenize, pos_tag, sent_tokenize \n",
    "from sklearn.feature_extraction.text import CountVectorizer\n",
    "from sklearn import linear_model\n",
    "import pickle\n",
    "from sklearn.metrics import classification_report"
   ]
  },
  {
   "cell_type": "markdown",
   "metadata": {},
   "source": [
    "# 2. Importation du jeu de données: Tweets"
   ]
  },
  {
   "cell_type": "code",
   "execution_count": 3,
   "metadata": {},
   "outputs": [],
   "source": [
    "df = pd.read_csv(file_path_data+'data_clean.csv', index_col = 0)"
   ]
  },
  {
   "cell_type": "markdown",
   "metadata": {},
   "source": [
    "On affiche ici les informations sur le dataframe df"
   ]
  },
  {
   "cell_type": "code",
   "execution_count": 197,
   "metadata": {
    "scrolled": true
   },
   "outputs": [
    {
     "name": "stdout",
     "output_type": "stream",
     "text": [
      "Le nombre de tweets positifs est: 99968\n",
      "Le nombre de tweets négatif est: 99977\n",
      "Le nombre de valeurs manquante:\n",
      "target                   0\n",
      "ids                      0\n",
      "date                     0\n",
      "flag                     0\n",
      "user                     0\n",
      "text                     0\n",
      "clean_text               0\n",
      "clean_text_tagged        0\n",
      "clean_text_tagged_bis    0\n",
      "dtype: int64\n"
     ]
    }
   ],
   "source": [
    "print(\"Le nombre de tweets positifs est:\", (df[df.target == 4].shape[0]))\n",
    "print(\"Le nombre de tweets négatif est:\", (df[df.target == 0].shape[0]))\n",
    "print(\"Le nombre de valeurs manquante:\\n\" + str(pd.isnull(df).sum()))"
   ]
  },
  {
   "cell_type": "code",
   "execution_count": 198,
   "metadata": {
    "scrolled": true
   },
   "outputs": [],
   "source": [
    "X = df['text']\n",
    "y = df.target"
   ]
  },
  {
   "cell_type": "code",
   "execution_count": 199,
   "metadata": {},
   "outputs": [],
   "source": [
    "X_train,X_test,y_train,y_test = train_test_split(X,y,test_size=0.2, random_state = 0)"
   ]
  },
  {
   "cell_type": "code",
   "execution_count": 200,
   "metadata": {},
   "outputs": [],
   "source": [
    "vectorizer = pickle.load(open(trained_model_path+'vectorizer.sav', 'rb'))\n",
    "X_test = vectorizer.transform(X_test)"
   ]
  },
  {
   "cell_type": "markdown",
   "metadata": {},
   "source": [
    "# 3. Importation du jeu de données: Movie reviews"
   ]
  },
  {
   "cell_type": "code",
   "execution_count": 4,
   "metadata": {},
   "outputs": [],
   "source": [
    "mov = pd.read_csv(file_path_data_scalability+'dataset.csv',encoding = \"ISO-8859-1\")"
   ]
  },
  {
   "cell_type": "code",
   "execution_count": 5,
   "metadata": {},
   "outputs": [],
   "source": [
    "mov.rename(columns={\"Sentiment\": \"target\", \"SentimentText\": \"text\"}, inplace=True)\n",
    "mov['target'] = mov['target'].replace([1],[4])"
   ]
  },
  {
   "cell_type": "code",
   "execution_count": 203,
   "metadata": {},
   "outputs": [
    {
     "data": {
      "text/html": [
       "<div>\n",
       "<style scoped>\n",
       "    .dataframe tbody tr th:only-of-type {\n",
       "        vertical-align: middle;\n",
       "    }\n",
       "\n",
       "    .dataframe tbody tr th {\n",
       "        vertical-align: top;\n",
       "    }\n",
       "\n",
       "    .dataframe thead th {\n",
       "        text-align: right;\n",
       "    }\n",
       "</style>\n",
       "<table border=\"1\" class=\"dataframe\">\n",
       "  <thead>\n",
       "    <tr style=\"text-align: right;\">\n",
       "      <th></th>\n",
       "      <th>text</th>\n",
       "      <th>target</th>\n",
       "    </tr>\n",
       "  </thead>\n",
       "  <tbody>\n",
       "    <tr>\n",
       "      <th>0</th>\n",
       "      <td>first think another Disney movie, might good, ...</td>\n",
       "      <td>4</td>\n",
       "    </tr>\n",
       "    <tr>\n",
       "      <th>1</th>\n",
       "      <td>Put aside Dr. House repeat missed, Desperate H...</td>\n",
       "      <td>0</td>\n",
       "    </tr>\n",
       "    <tr>\n",
       "      <th>2</th>\n",
       "      <td>big fan Stephen King's work, film made even gr...</td>\n",
       "      <td>4</td>\n",
       "    </tr>\n",
       "    <tr>\n",
       "      <th>3</th>\n",
       "      <td>watched horrid thing TV. Needless say one movi...</td>\n",
       "      <td>0</td>\n",
       "    </tr>\n",
       "    <tr>\n",
       "      <th>4</th>\n",
       "      <td>truly enjoyed film. acting terrific plot. Jeff...</td>\n",
       "      <td>4</td>\n",
       "    </tr>\n",
       "  </tbody>\n",
       "</table>\n",
       "</div>"
      ],
      "text/plain": [
       "                                                text  target\n",
       "0  first think another Disney movie, might good, ...       4\n",
       "1  Put aside Dr. House repeat missed, Desperate H...       0\n",
       "2  big fan Stephen King's work, film made even gr...       4\n",
       "3  watched horrid thing TV. Needless say one movi...       0\n",
       "4  truly enjoyed film. acting terrific plot. Jeff...       4"
      ]
     },
     "execution_count": 203,
     "metadata": {},
     "output_type": "execute_result"
    }
   ],
   "source": [
    "mov.head()"
   ]
  },
  {
   "cell_type": "code",
   "execution_count": 7,
   "metadata": {},
   "outputs": [],
   "source": [
    "mov.to_csv('data_scalability/movie_reviews/movie_reviews.csv')#, index =None, header = True) "
   ]
  },
  {
   "cell_type": "markdown",
   "metadata": {},
   "source": [
    "On récupère ici les informations sur le jeu de données Movies: "
   ]
  },
  {
   "cell_type": "code",
   "execution_count": 204,
   "metadata": {},
   "outputs": [
    {
     "name": "stdout",
     "output_type": "stream",
     "text": [
      "Le nombre de commentaires positifs est: 12500\n",
      "Le nombre de commentaires négatifs est: 12500\n",
      "Le nombre de valeurs manquante:\n",
      "text      0\n",
      "target    0\n",
      "dtype: int64\n"
     ]
    }
   ],
   "source": [
    "print(\"Le nombre de commentaires positifs est:\", (mov[mov.target == 4].shape[0]))\n",
    "print(\"Le nombre de commentaires négatifs est:\", (mov[mov.target == 0].shape[0]))\n",
    "print(\"Le nombre de valeurs manquante:\\n\" + str(pd.isnull(mov).sum()))"
   ]
  },
  {
   "cell_type": "markdown",
   "metadata": {},
   "source": [
    "**Commentaire:** \n",
    "    - Notre jeu de données est bien équilibré entre les commentaires positifs et négatifs.\n",
    "    - Notre jeu de données ne comporte pas de valeurs manquantes."
   ]
  },
  {
   "cell_type": "code",
   "execution_count": 205,
   "metadata": {},
   "outputs": [],
   "source": [
    "X_mov = mov['text']\n",
    "y_mov = mov.target\n",
    "X_mov = vectorizer.transform(X_mov)"
   ]
  },
  {
   "cell_type": "markdown",
   "metadata": {},
   "source": [
    "# II. Application des modèles entrainés"
   ]
  },
  {
   "cell_type": "code",
   "execution_count": 216,
   "metadata": {},
   "outputs": [],
   "source": [
    "models_name = ['Logistic', 'Naif bayésien BernoulliNB', 'Naif bayésien MultinomialNB', 'KNeighbors', 'Decision Tree',\n",
    "              'Random Forest', 'XGBoost', 'GradientBoosting', 'AdaBoost']\n",
    "trained_models = ['logreg','ber','nb','knn','dc','rf','xgb','gradbt','ac' ]"
   ]
  },
  {
   "cell_type": "code",
   "execution_count": 217,
   "metadata": {},
   "outputs": [],
   "source": [
    "def test(models_name, trained_models, X_test, y_test, s = 'tweets'):\n",
    "    prediction = dict()\n",
    "    for i in range(len(models_name)):\n",
    "        model = pickle.load(open(trained_model_path+trained_models[i]+'.sav', 'rb'))     \n",
    "        prediction[models_name[i] + '_' + s ] = model.predict(X_test) #save the prediction to dictionary\n",
    "        print(\"\\n\"+\"=\"*40+models_name[i]+\"=\"*40+\"\\n\")\n",
    "        print(\"Evaluation détaillée de la Classification par \" + models_name[i] +\":\\n \\n\", classification_report(y_test,prediction[models_name[i] + '_' + s]))\n",
    "        confusion_matrix = pd.crosstab(y_test, prediction[models_name[i] + '_' + s], rownames=['Classe réelle'],colnames=['Classe prédite'])\n",
    "        print(\"La matrice de confusion pour la Classification par \" + models_name[i] +\" :\\n \\n\" ,confusion_matrix)\n",
    "        accuracy = model.score(X_test, y_test)\n",
    "        print(\"Le score pour la Classification par \" + models_name[i] + \": \",accuracy)\n",
    "    return prediction"
   ]
  },
  {
   "cell_type": "markdown",
   "metadata": {},
   "source": [
    "# 1. Avec le jeu de données Tweets"
   ]
  },
  {
   "cell_type": "code",
   "execution_count": 218,
   "metadata": {
    "scrolled": false
   },
   "outputs": [
    {
     "name": "stdout",
     "output_type": "stream",
     "text": [
      "\n",
      "========================================Logistic========================================\n",
      "\n",
      "Evaluation détaillée de la Classification par Logistic:\n",
      " \n",
      "               precision    recall  f1-score   support\n",
      "\n",
      "           0       0.80      0.78      0.79     19887\n",
      "           4       0.78      0.81      0.80     20102\n",
      "\n",
      "    accuracy                           0.79     39989\n",
      "   macro avg       0.79      0.79      0.79     39989\n",
      "weighted avg       0.79      0.79      0.79     39989\n",
      "\n",
      "La matrice de confusion pour la Classification par Logistic :\n",
      " \n",
      " Classe prédite      0      4\n",
      "Classe réelle               \n",
      "0               15428   4459\n",
      "4                3892  16210\n",
      "Le score pour la Classification par Logistic:  0.7911675710820476\n",
      "\n",
      "========================================Naif bayésien BernoulliNB========================================\n",
      "\n",
      "Evaluation détaillée de la Classification par Naif bayésien BernoulliNB:\n",
      " \n",
      "               precision    recall  f1-score   support\n",
      "\n",
      "           0       0.76      0.81      0.78     19887\n",
      "           4       0.80      0.74      0.77     20102\n",
      "\n",
      "    accuracy                           0.78     39989\n",
      "   macro avg       0.78      0.78      0.78     39989\n",
      "weighted avg       0.78      0.78      0.78     39989\n",
      "\n",
      "La matrice de confusion pour la Classification par Naif bayésien BernoulliNB :\n",
      " \n",
      " Classe prédite      0      4\n",
      "Classe réelle               \n",
      "0               16113   3774\n",
      "4                5213  14889\n",
      "Le score pour la Classification par Naif bayésien BernoulliNB:  0.7752631973792793\n",
      "\n",
      "========================================Naif bayésien MultinomialNB========================================\n",
      "\n",
      "Evaluation détaillée de la Classification par Naif bayésien MultinomialNB:\n",
      " \n",
      "               precision    recall  f1-score   support\n",
      "\n",
      "           0       0.75      0.82      0.78     19887\n",
      "           4       0.80      0.72      0.76     20102\n",
      "\n",
      "    accuracy                           0.77     39989\n",
      "   macro avg       0.77      0.77      0.77     39989\n",
      "weighted avg       0.77      0.77      0.77     39989\n",
      "\n",
      "La matrice de confusion pour la Classification par Naif bayésien MultinomialNB :\n",
      " \n",
      " Classe prédite      0      4\n",
      "Classe réelle               \n",
      "0               16304   3583\n",
      "4                5574  14528\n",
      "Le score pour la Classification par Naif bayésien MultinomialNB:  0.7710120283077846\n",
      "\n",
      "========================================KNeighbors========================================\n",
      "\n",
      "Evaluation détaillée de la Classification par KNeighbors:\n",
      " \n",
      "               precision    recall  f1-score   support\n",
      "\n",
      "           0       0.67      0.71      0.69     19887\n",
      "           4       0.70      0.65      0.67     20102\n",
      "\n",
      "    accuracy                           0.68     39989\n",
      "   macro avg       0.68      0.68      0.68     39989\n",
      "weighted avg       0.68      0.68      0.68     39989\n",
      "\n",
      "La matrice de confusion pour la Classification par KNeighbors :\n",
      " \n",
      " Classe prédite      0      4\n",
      "Classe réelle               \n",
      "0               14210   5677\n",
      "4                6991  13111\n",
      "Le score pour la Classification par KNeighbors:  0.6832128835429743\n",
      "\n",
      "========================================Decision Tree========================================\n",
      "\n",
      "Evaluation détaillée de la Classification par Decision Tree:\n",
      " \n",
      "               precision    recall  f1-score   support\n",
      "\n",
      "           0       0.71      0.72      0.71     19887\n",
      "           4       0.72      0.71      0.72     20102\n",
      "\n",
      "    accuracy                           0.71     39989\n",
      "   macro avg       0.71      0.71      0.71     39989\n",
      "weighted avg       0.71      0.71      0.71     39989\n",
      "\n",
      "La matrice de confusion pour la Classification par Decision Tree :\n",
      " \n",
      " Classe prédite      0      4\n",
      "Classe réelle               \n",
      "0               14246   5641\n",
      "4                5760  14342\n",
      "Le score pour la Classification par Decision Tree:  0.7148965965640551\n",
      "\n",
      "========================================Random Forest========================================\n",
      "\n",
      "Evaluation détaillée de la Classification par Random Forest:\n",
      " \n",
      "               precision    recall  f1-score   support\n",
      "\n",
      "           0       0.71      0.80      0.75     19887\n",
      "           4       0.78      0.68      0.72     20102\n",
      "\n",
      "    accuracy                           0.74     39989\n",
      "   macro avg       0.74      0.74      0.74     39989\n",
      "weighted avg       0.74      0.74      0.74     39989\n",
      "\n",
      "La matrice de confusion pour la Classification par Random Forest :\n",
      " \n",
      " Classe prédite      0      4\n",
      "Classe réelle               \n",
      "0               15999   3888\n",
      "4                6528  13574\n",
      "Le score pour la Classification par Random Forest:  0.739528370301833\n",
      "\n",
      "========================================XGBoost========================================\n",
      "\n",
      "Evaluation détaillée de la Classification par XGBoost:\n",
      " \n",
      "               precision    recall  f1-score   support\n",
      "\n",
      "           0       0.73      0.64      0.68     19887\n",
      "           4       0.68      0.77      0.72     20102\n",
      "\n",
      "    accuracy                           0.70     39989\n",
      "   macro avg       0.71      0.70      0.70     39989\n",
      "weighted avg       0.71      0.70      0.70     39989\n",
      "\n",
      "La matrice de confusion pour la Classification par XGBoost :\n",
      " \n",
      " Classe prédite      0      4\n",
      "Classe réelle               \n",
      "0               12665   7222\n",
      "4                4666  15436\n",
      "Le score pour la Classification par XGBoost:  0.7027182475180674\n",
      "\n",
      "========================================GradientBoosting========================================\n",
      "\n",
      "Evaluation détaillée de la Classification par GradientBoosting:\n",
      " \n",
      "               precision    recall  f1-score   support\n",
      "\n",
      "           0       0.74      0.64      0.69     19887\n",
      "           4       0.69      0.77      0.73     20102\n",
      "\n",
      "    accuracy                           0.71     39989\n",
      "   macro avg       0.71      0.71      0.71     39989\n",
      "weighted avg       0.71      0.71      0.71     39989\n",
      "\n",
      "La matrice de confusion pour la Classification par GradientBoosting :\n",
      " \n",
      " Classe prédite      0      4\n",
      "Classe réelle               \n",
      "0               12768   7119\n",
      "4                4567  15535\n",
      "Le score pour la Classification par GradientBoosting:  0.7077696366500787\n",
      "\n",
      "========================================AdaBoost========================================\n",
      "\n",
      "Evaluation détaillée de la Classification par AdaBoost:\n",
      " \n",
      "               precision    recall  f1-score   support\n",
      "\n",
      "           0       0.77      0.71      0.74     19887\n",
      "           4       0.73      0.79      0.76     20102\n",
      "\n",
      "    accuracy                           0.75     39989\n",
      "   macro avg       0.75      0.75      0.75     39989\n",
      "weighted avg       0.75      0.75      0.75     39989\n",
      "\n",
      "La matrice de confusion pour la Classification par AdaBoost :\n",
      " \n",
      " Classe prédite      0      4\n",
      "Classe réelle               \n",
      "0               14130   5757\n",
      "4                4191  15911\n",
      "Le score pour la Classification par AdaBoost:  0.7512315886868889\n"
     ]
    }
   ],
   "source": [
    "prediction_tweets = test(models_name, trained_models, X_test, y_test, s = 'tweets') # It takes about 5 mins"
   ]
  },
  {
   "cell_type": "markdown",
   "metadata": {},
   "source": [
    "# 2. Avec le jeu de données Movie Reviews"
   ]
  },
  {
   "cell_type": "code",
   "execution_count": 219,
   "metadata": {
    "scrolled": false
   },
   "outputs": [
    {
     "name": "stdout",
     "output_type": "stream",
     "text": [
      "\n",
      "========================================Logistic========================================\n",
      "\n",
      "Evaluation détaillée de la Classification par Logistic:\n",
      " \n",
      "               precision    recall  f1-score   support\n",
      "\n",
      "           0       0.78      0.53      0.63     12500\n",
      "           4       0.64      0.85      0.73     12500\n",
      "\n",
      "    accuracy                           0.69     25000\n",
      "   macro avg       0.71      0.69      0.68     25000\n",
      "weighted avg       0.71      0.69      0.68     25000\n",
      "\n",
      "La matrice de confusion pour la Classification par Logistic :\n",
      " \n",
      " Classe prédite     0      4\n",
      "Classe réelle              \n",
      "0               6607   5893\n",
      "4               1832  10668\n",
      "Le score pour la Classification par Logistic:  0.691\n",
      "\n",
      "========================================Naif bayésien BernoulliNB========================================\n",
      "\n",
      "Evaluation détaillée de la Classification par Naif bayésien BernoulliNB:\n",
      " \n",
      "               precision    recall  f1-score   support\n",
      "\n",
      "           0       0.78      0.54      0.64     12500\n",
      "           4       0.65      0.85      0.73     12500\n",
      "\n",
      "    accuracy                           0.69     25000\n",
      "   macro avg       0.71      0.69      0.69     25000\n",
      "weighted avg       0.71      0.69      0.69     25000\n",
      "\n",
      "La matrice de confusion pour la Classification par Naif bayésien BernoulliNB :\n",
      " \n",
      " Classe prédite     0      4\n",
      "Classe réelle              \n",
      "0               6725   5775\n",
      "4               1910  10590\n",
      "Le score pour la Classification par Naif bayésien BernoulliNB:  0.6926\n",
      "\n",
      "========================================Naif bayésien MultinomialNB========================================\n",
      "\n",
      "Evaluation détaillée de la Classification par Naif bayésien MultinomialNB:\n",
      " \n",
      "               precision    recall  f1-score   support\n",
      "\n",
      "           0       0.82      0.30      0.43     12500\n",
      "           4       0.57      0.93      0.71     12500\n",
      "\n",
      "    accuracy                           0.62     25000\n",
      "   macro avg       0.69      0.62      0.57     25000\n",
      "weighted avg       0.69      0.62      0.57     25000\n",
      "\n",
      "La matrice de confusion pour la Classification par Naif bayésien MultinomialNB :\n",
      " \n",
      " Classe prédite     0      4\n",
      "Classe réelle              \n",
      "0               3695   8805\n",
      "4                819  11681\n",
      "Le score pour la Classification par Naif bayésien MultinomialNB:  0.61504\n",
      "\n",
      "========================================KNeighbors========================================\n",
      "\n",
      "Evaluation détaillée de la Classification par KNeighbors:\n",
      " \n",
      "               precision    recall  f1-score   support\n",
      "\n",
      "           0       0.58      0.28      0.38     12500\n",
      "           4       0.53      0.80      0.63     12500\n",
      "\n",
      "    accuracy                           0.54     25000\n",
      "   macro avg       0.55      0.54      0.51     25000\n",
      "weighted avg       0.55      0.54      0.51     25000\n",
      "\n",
      "La matrice de confusion pour la Classification par KNeighbors :\n",
      " \n",
      " Classe prédite     0     4\n",
      "Classe réelle             \n",
      "0               3523  8977\n",
      "4               2550  9950\n",
      "Le score pour la Classification par KNeighbors:  0.53892\n",
      "\n",
      "========================================Decision Tree========================================\n",
      "\n",
      "Evaluation détaillée de la Classification par Decision Tree:\n",
      " \n",
      "               precision    recall  f1-score   support\n",
      "\n",
      "           0       0.52      0.55      0.54     12500\n",
      "           4       0.52      0.49      0.50     12500\n",
      "\n",
      "    accuracy                           0.52     25000\n",
      "   macro avg       0.52      0.52      0.52     25000\n",
      "weighted avg       0.52      0.52      0.52     25000\n",
      "\n",
      "La matrice de confusion pour la Classification par Decision Tree :\n",
      " \n",
      " Classe prédite     0     4\n",
      "Classe réelle             \n",
      "0               6917  5583\n",
      "4               6396  6104\n",
      "Le score pour la Classification par Decision Tree:  0.52084\n",
      "\n",
      "========================================Random Forest========================================\n",
      "\n",
      "Evaluation détaillée de la Classification par Random Forest:\n",
      " \n",
      "               precision    recall  f1-score   support\n",
      "\n",
      "           0       0.56      0.71      0.63     12500\n",
      "           4       0.60      0.45      0.51     12500\n",
      "\n",
      "    accuracy                           0.58     25000\n",
      "   macro avg       0.58      0.58      0.57     25000\n",
      "weighted avg       0.58      0.58      0.57     25000\n",
      "\n",
      "La matrice de confusion pour la Classification par Random Forest :\n",
      " \n",
      " Classe prédite     0     4\n",
      "Classe réelle             \n",
      "0               8835  3665\n",
      "4               6894  5606\n",
      "Le score pour la Classification par Random Forest:  0.57764\n",
      "\n",
      "========================================XGBoost========================================\n",
      "\n",
      "Evaluation détaillée de la Classification par XGBoost:\n",
      " \n",
      "               precision    recall  f1-score   support\n",
      "\n",
      "           0       0.60      0.59      0.59     12500\n",
      "           4       0.60      0.62      0.61     12500\n",
      "\n",
      "    accuracy                           0.60     25000\n",
      "   macro avg       0.60      0.60      0.60     25000\n",
      "weighted avg       0.60      0.60      0.60     25000\n",
      "\n",
      "La matrice de confusion pour la Classification par XGBoost :\n",
      " \n",
      " Classe prédite     0     4\n",
      "Classe réelle             \n",
      "0               7316  5184\n",
      "4               4805  7695\n",
      "Le score pour la Classification par XGBoost:  0.60044\n",
      "\n",
      "========================================GradientBoosting========================================\n",
      "\n",
      "Evaluation détaillée de la Classification par GradientBoosting:\n",
      " \n",
      "               precision    recall  f1-score   support\n",
      "\n",
      "           0       0.61      0.63      0.62     12500\n",
      "           4       0.62      0.59      0.60     12500\n",
      "\n",
      "    accuracy                           0.61     25000\n",
      "   macro avg       0.61      0.61      0.61     25000\n",
      "weighted avg       0.61      0.61      0.61     25000\n",
      "\n",
      "La matrice de confusion pour la Classification par GradientBoosting :\n",
      " \n",
      " Classe prédite     0     4\n",
      "Classe réelle             \n",
      "0               7915  4585\n",
      "4               5115  7385\n",
      "Le score pour la Classification par GradientBoosting:  0.612\n",
      "\n",
      "========================================AdaBoost========================================\n",
      "\n",
      "Evaluation détaillée de la Classification par AdaBoost:\n",
      " \n",
      "               precision    recall  f1-score   support\n",
      "\n",
      "           0       0.60      0.66      0.63     12500\n",
      "           4       0.62      0.56      0.59     12500\n",
      "\n",
      "    accuracy                           0.61     25000\n",
      "   macro avg       0.61      0.61      0.61     25000\n",
      "weighted avg       0.61      0.61      0.61     25000\n",
      "\n",
      "La matrice de confusion pour la Classification par AdaBoost :\n",
      " \n",
      " Classe prédite     0     4\n",
      "Classe réelle             \n",
      "0               8239  4261\n",
      "4               5455  7045\n",
      "Le score pour la Classification par AdaBoost:  0.61136\n"
     ]
    }
   ],
   "source": [
    "prediction_mov = test(models_name, trained_models, X_mov, y_mov, s = 'mov') # It takes about 5 mins"
   ]
  },
  {
   "cell_type": "markdown",
   "metadata": {},
   "source": [
    "**Commentaire:** _On remarque que notre modèle appliqué au jeu de données Movie reviews fournit des résultats corrects et assez satisfaisants surout avec la régression logistique et le naif bayésien BernoulliNB._"
   ]
  },
  {
   "cell_type": "markdown",
   "metadata": {},
   "source": [
    "# III. Résultats"
   ]
  },
  {
   "cell_type": "code",
   "execution_count": 220,
   "metadata": {},
   "outputs": [],
   "source": [
    "prediction = {**prediction_tweets, **prediction_mov}"
   ]
  },
  {
   "cell_type": "markdown",
   "metadata": {},
   "source": [
    "## 1. Matrices de confusion"
   ]
  },
  {
   "cell_type": "code",
   "execution_count": 221,
   "metadata": {},
   "outputs": [],
   "source": [
    "classes= (0,4)\n",
    "def plot_confusion_matrix(cm, cmap=plt.cm.Blues):\n",
    "    plt.imshow(cm, interpolation='nearest', cmap=cmap)\n",
    "    plt.colorbar()\n",
    "    tick_marks = np.arange(len(classes))\n",
    "    plt.xticks(tick_marks, classes, rotation=45)\n",
    "    plt.yticks(tick_marks, classes)\n",
    "    plt.tight_layout()\n",
    "    plt.ylabel('Vrais labels')\n",
    "    plt.xlabel('Labels prédits')"
   ]
  },
  {
   "cell_type": "code",
   "execution_count": 222,
   "metadata": {},
   "outputs": [
    {
     "data": {
      "image/png": "[encoded data removed]",
      "text/plain": [
       "<Figure size 1080x1080 with 4 Axes>"
      ]
     },
     "metadata": {
      "needs_background": "light"
     },
     "output_type": "display_data"
    }
   ],
   "source": [
    "from sklearn.metrics import confusion_matrix\n",
    "\n",
    "plt.figure(figsize=(15,15))\n",
    "plt.subplot(2,1,1)\n",
    "plt.title('Matrice de confusion pour la Classification par: Logistic_tweets')\n",
    "cm_model = confusion_matrix(y_test,prediction['Logistic_tweets'])\n",
    "plot_confusion_matrix(cm_model)\n",
    "plt.subplot(2,1,2)\n",
    "cm_model1 = confusion_matrix(y_mov, prediction['Logistic_mov'])\n",
    "plt.title('Matrice de confusion pour la Classification par Logistic_mov')\n",
    "plot_confusion_matrix(cm_model1)"
   ]
  },
  {
   "cell_type": "markdown",
   "metadata": {},
   "source": [
    "**Commentaire:** _La matrice de confusion colorée confirme les résulats mitigés obtenus précédemment._"
   ]
  },
  {
   "cell_type": "markdown",
   "metadata": {},
   "source": [
    "## 2. Courbes de ROC"
   ]
  },
  {
   "cell_type": "code",
   "execution_count": 223,
   "metadata": {},
   "outputs": [
    {
     "data": {
      "text/plain": [
       "{'Logistic_tweets': array([0, 0, 4, ..., 0, 0, 4]),\n",
       " 'Naif bayésien BernoulliNB_tweets': array([0, 0, 4, ..., 0, 0, 4]),\n",
       " 'Naif bayésien MultinomialNB_tweets': array([0, 0, 4, ..., 0, 0, 4]),\n",
       " 'KNeighbors_tweets': array([0, 0, 0, ..., 0, 0, 4]),\n",
       " 'Decision Tree_tweets': array([0, 0, 0, ..., 0, 0, 4]),\n",
       " 'Random Forest_tweets': array([0, 0, 4, ..., 0, 0, 0]),\n",
       " 'XGBoost_tweets': array([4, 0, 0, ..., 0, 0, 4]),\n",
       " 'GradientBoosting_tweets': array([4, 0, 0, ..., 0, 0, 4]),\n",
       " 'AdaBoost_tweets': array([0, 0, 4, ..., 0, 0, 4]),\n",
       " 'Logistic_mov': array([4, 0, 0, ..., 0, 0, 0]),\n",
       " 'Naif bayésien BernoulliNB_mov': array([4, 0, 0, ..., 0, 0, 0]),\n",
       " 'Naif bayésien MultinomialNB_mov': array([4, 4, 0, ..., 4, 4, 0]),\n",
       " 'KNeighbors_mov': array([4, 0, 4, ..., 4, 4, 0]),\n",
       " 'Decision Tree_mov': array([4, 0, 0, ..., 0, 0, 4]),\n",
       " 'Random Forest_mov': array([4, 0, 0, ..., 0, 0, 0]),\n",
       " 'XGBoost_mov': array([4, 0, 4, ..., 0, 4, 0]),\n",
       " 'GradientBoosting_mov': array([4, 0, 4, ..., 0, 0, 0]),\n",
       " 'AdaBoost_mov': array([4, 0, 0, ..., 0, 4, 0])}"
      ]
     },
     "execution_count": 223,
     "metadata": {},
     "output_type": "execute_result"
    }
   ],
   "source": [
    "prediction"
   ]
  },
  {
   "cell_type": "code",
   "execution_count": 224,
   "metadata": {
    "scrolled": false
   },
   "outputs": [
    {
     "data": {
      "image/png": "[encoded data removed]",
      "text/plain": [
       "<Figure size 720x720 with 1 Axes>"
      ]
     },
     "metadata": {
      "needs_background": "light"
     },
     "output_type": "display_data"
    }
   ],
   "source": [
    "from sklearn.metrics import roc_curve,auc\n",
    "cmp = 0\n",
    "colors = ['b', 'g', 'y', 'tan', 'k','c','fuchsia','grey','orange','purple']\n",
    "selected_models_name = ['Logistic', 'Naif bayésien BernoulliNB', 'Naif bayésien MultinomialNB']\n",
    "plt.figure(figsize=(10,10))\n",
    "for i in range(len(selected_models_name)):\n",
    "\n",
    "    false_positive_rate, true_positive_rate, thresholds = roc_curve(y_test, prediction[selected_models_name[i]+'_tweets'],pos_label=4)\n",
    "    roc_auc = auc(false_positive_rate, true_positive_rate)\n",
    "    plt.plot(false_positive_rate, true_positive_rate, colors[i], label='%s: AUC %0.2f'% (selected_models_name[i]+'_tweets',roc_auc))\n",
    "\n",
    "    false_positive_rate, true_positive_rate, thresholds = roc_curve(y_mov, prediction[selected_models_name[i]+'_mov'],pos_label=4)\n",
    "    roc_auc = auc(false_positive_rate, true_positive_rate)\n",
    "    plt.plot(false_positive_rate, true_positive_rate, colors[i+3], label='%s: AUC %0.2f'% (selected_models_name[i]+'_mov',roc_auc))\n",
    "\n",
    "plt.title('Comparaison des modèles avec la courbe de ROC')\n",
    "plt.plot([0, 1], [0, 1], color='r',linestyle='--',label='Aléatoire (auc = 0.5)')\n",
    "plt.xlim([-0.1,1.2])\n",
    "plt.ylim([-0.1,1.2])\n",
    "plt.ylabel('Taux vrais positifs')\n",
    "plt.xlabel('Taux faux positifs')\n",
    "plt.legend(loc='best')\n",
    "plt.tick_params(direction='in')\n",
    "plt.show()"
   ]
  },
  {
   "cell_type": "markdown",
   "metadata": {},
   "source": [
    "**Commentaire:** _De même, les courbes de ROC donnent un apreçu graphique des résultats précédemment obtenus avec des aires sous la courbes d'environ 0.7 sur le jeu de données des Movie Reviews. \n",
    "Bien que ces résultats sont inférieurs à ceux obtenus avec le jeu de données des tweets, ils sont néanmoins assez satisfaisants en général._"
   ]
  }
 ],
 "metadata": {
  "kernelspec": {
   "display_name": "Python 3",
   "language": "python",
   "name": "python3"
  },
  "language_info": {
   "codemirror_mode": {
    "name": "ipython",
    "version": 3
   },
   "file_extension": ".py",
   "mimetype": "text/x-python",
   "name": "python",
   "nbconvert_exporter": "python",
   "pygments_lexer": "ipython3",
   "version": "3.6.7"
  }
 },
 "nbformat": 4,
 "nbformat_minor": 2
}
