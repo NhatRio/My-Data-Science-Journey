{
 "cells": [
  {
   "cell_type": "markdown",
   "metadata": {},
   "source": [
    "Cross Vadation: K-Fold CV, stratified Fold CV, Time Series CV"
   ]
  },
  {
   "cell_type": "markdown",
   "metadata": {},
   "source": [
    "## Part 1: Data preprocessing\n"
   ]
  },
  {
   "cell_type": "markdown",
   "metadata": {},
   "source": [
    "### Importing the libraries\n"
   ]
  },
  {
   "cell_type": "code",
   "execution_count": 18,
   "metadata": {},
   "outputs": [],
   "source": [
    "import numpy as np\n",
    "import matplotlib.pyplot as plt\n",
    "import pandas as pd"
   ]
  },
  {
   "cell_type": "markdown",
   "metadata": {},
   "source": [
    "### Importing the dataset"
   ]
  },
  {
   "cell_type": "code",
   "execution_count": 19,
   "metadata": {},
   "outputs": [],
   "source": [
    "df = pd.read_csv('Churn_Modelling.csv')"
   ]
  },
  {
   "cell_type": "markdown",
   "metadata": {},
   "source": [
    "### Review data"
   ]
  },
  {
   "cell_type": "code",
   "execution_count": 20,
   "metadata": {},
   "outputs": [
    {
     "name": "stdout",
     "output_type": "stream",
     "text": [
      "<class 'pandas.core.frame.DataFrame'>\n",
      "RangeIndex: 10000 entries, 0 to 9999\n",
      "Data columns (total 14 columns):\n",
      "RowNumber          10000 non-null int64\n",
      "CustomerId         10000 non-null int64\n",
      "Surname            10000 non-null object\n",
      "CreditScore        10000 non-null int64\n",
      "Geography          10000 non-null object\n",
      "Gender             10000 non-null object\n",
      "Age                10000 non-null int64\n",
      "Tenure             10000 non-null int64\n",
      "Balance            10000 non-null float64\n",
      "NumOfProducts      10000 non-null int64\n",
      "HasCrCard          10000 non-null int64\n",
      "IsActiveMember     10000 non-null int64\n",
      "EstimatedSalary    10000 non-null float64\n",
      "Exited             10000 non-null int64\n",
      "dtypes: float64(2), int64(9), object(3)\n",
      "memory usage: 1.1+ MB\n"
     ]
    }
   ],
   "source": [
    "df.info()"
   ]
  },
  {
   "cell_type": "code",
   "execution_count": 21,
   "metadata": {
    "scrolled": false
   },
   "outputs": [
    {
     "data": {
      "text/html": [
       "<div>\n",
       "<style scoped>\n",
       "    .dataframe tbody tr th:only-of-type {\n",
       "        vertical-align: middle;\n",
       "    }\n",
       "\n",
       "    .dataframe tbody tr th {\n",
       "        vertical-align: top;\n",
       "    }\n",
       "\n",
       "    .dataframe thead th {\n",
       "        text-align: right;\n",
       "    }\n",
       "</style>\n",
       "<table border=\"1\" class=\"dataframe\">\n",
       "  <thead>\n",
       "    <tr style=\"text-align: right;\">\n",
       "      <th></th>\n",
       "      <th>RowNumber</th>\n",
       "      <th>CustomerId</th>\n",
       "      <th>Surname</th>\n",
       "      <th>CreditScore</th>\n",
       "      <th>Geography</th>\n",
       "      <th>Gender</th>\n",
       "      <th>Age</th>\n",
       "      <th>Tenure</th>\n",
       "      <th>Balance</th>\n",
       "      <th>NumOfProducts</th>\n",
       "      <th>HasCrCard</th>\n",
       "      <th>IsActiveMember</th>\n",
       "      <th>EstimatedSalary</th>\n",
       "      <th>Exited</th>\n",
       "    </tr>\n",
       "  </thead>\n",
       "  <tbody>\n",
       "    <tr>\n",
       "      <th>0</th>\n",
       "      <td>1</td>\n",
       "      <td>15634602</td>\n",
       "      <td>Hargrave</td>\n",
       "      <td>619</td>\n",
       "      <td>France</td>\n",
       "      <td>Female</td>\n",
       "      <td>42</td>\n",
       "      <td>2</td>\n",
       "      <td>0.00</td>\n",
       "      <td>1</td>\n",
       "      <td>1</td>\n",
       "      <td>1</td>\n",
       "      <td>101348.88</td>\n",
       "      <td>1</td>\n",
       "    </tr>\n",
       "    <tr>\n",
       "      <th>1</th>\n",
       "      <td>2</td>\n",
       "      <td>15647311</td>\n",
       "      <td>Hill</td>\n",
       "      <td>608</td>\n",
       "      <td>Spain</td>\n",
       "      <td>Female</td>\n",
       "      <td>41</td>\n",
       "      <td>1</td>\n",
       "      <td>83807.86</td>\n",
       "      <td>1</td>\n",
       "      <td>0</td>\n",
       "      <td>1</td>\n",
       "      <td>112542.58</td>\n",
       "      <td>0</td>\n",
       "    </tr>\n",
       "    <tr>\n",
       "      <th>2</th>\n",
       "      <td>3</td>\n",
       "      <td>15619304</td>\n",
       "      <td>Onio</td>\n",
       "      <td>502</td>\n",
       "      <td>France</td>\n",
       "      <td>Female</td>\n",
       "      <td>42</td>\n",
       "      <td>8</td>\n",
       "      <td>159660.80</td>\n",
       "      <td>3</td>\n",
       "      <td>1</td>\n",
       "      <td>0</td>\n",
       "      <td>113931.57</td>\n",
       "      <td>1</td>\n",
       "    </tr>\n",
       "    <tr>\n",
       "      <th>3</th>\n",
       "      <td>4</td>\n",
       "      <td>15701354</td>\n",
       "      <td>Boni</td>\n",
       "      <td>699</td>\n",
       "      <td>France</td>\n",
       "      <td>Female</td>\n",
       "      <td>39</td>\n",
       "      <td>1</td>\n",
       "      <td>0.00</td>\n",
       "      <td>2</td>\n",
       "      <td>0</td>\n",
       "      <td>0</td>\n",
       "      <td>93826.63</td>\n",
       "      <td>0</td>\n",
       "    </tr>\n",
       "    <tr>\n",
       "      <th>4</th>\n",
       "      <td>5</td>\n",
       "      <td>15737888</td>\n",
       "      <td>Mitchell</td>\n",
       "      <td>850</td>\n",
       "      <td>Spain</td>\n",
       "      <td>Female</td>\n",
       "      <td>43</td>\n",
       "      <td>2</td>\n",
       "      <td>125510.82</td>\n",
       "      <td>1</td>\n",
       "      <td>1</td>\n",
       "      <td>1</td>\n",
       "      <td>79084.10</td>\n",
       "      <td>0</td>\n",
       "    </tr>\n",
       "  </tbody>\n",
       "</table>\n",
       "</div>"
      ],
      "text/plain": [
       "   RowNumber  CustomerId   Surname  CreditScore Geography  Gender  Age  \\\n",
       "0          1    15634602  Hargrave          619    France  Female   42   \n",
       "1          2    15647311      Hill          608     Spain  Female   41   \n",
       "2          3    15619304      Onio          502    France  Female   42   \n",
       "3          4    15701354      Boni          699    France  Female   39   \n",
       "4          5    15737888  Mitchell          850     Spain  Female   43   \n",
       "\n",
       "   Tenure    Balance  NumOfProducts  HasCrCard  IsActiveMember  \\\n",
       "0       2       0.00              1          1               1   \n",
       "1       1   83807.86              1          0               1   \n",
       "2       8  159660.80              3          1               0   \n",
       "3       1       0.00              2          0               0   \n",
       "4       2  125510.82              1          1               1   \n",
       "\n",
       "   EstimatedSalary  Exited  \n",
       "0        101348.88       1  \n",
       "1        112542.58       0  \n",
       "2        113931.57       1  \n",
       "3         93826.63       0  \n",
       "4         79084.10       0  "
      ]
     },
     "execution_count": 21,
     "metadata": {},
     "output_type": "execute_result"
    }
   ],
   "source": [
    "df.head()"
   ]
  },
  {
   "cell_type": "code",
   "execution_count": 22,
   "metadata": {},
   "outputs": [
    {
     "data": {
      "text/html": [
       "<div>\n",
       "<style scoped>\n",
       "    .dataframe tbody tr th:only-of-type {\n",
       "        vertical-align: middle;\n",
       "    }\n",
       "\n",
       "    .dataframe tbody tr th {\n",
       "        vertical-align: top;\n",
       "    }\n",
       "\n",
       "    .dataframe thead th {\n",
       "        text-align: right;\n",
       "    }\n",
       "</style>\n",
       "<table border=\"1\" class=\"dataframe\">\n",
       "  <thead>\n",
       "    <tr style=\"text-align: right;\">\n",
       "      <th></th>\n",
       "      <th>RowNumber</th>\n",
       "      <th>CustomerId</th>\n",
       "      <th>Surname</th>\n",
       "      <th>CreditScore</th>\n",
       "      <th>Geography</th>\n",
       "      <th>Gender</th>\n",
       "      <th>Age</th>\n",
       "      <th>Tenure</th>\n",
       "      <th>Balance</th>\n",
       "      <th>NumOfProducts</th>\n",
       "      <th>HasCrCard</th>\n",
       "      <th>IsActiveMember</th>\n",
       "      <th>EstimatedSalary</th>\n",
       "      <th>Exited</th>\n",
       "    </tr>\n",
       "  </thead>\n",
       "  <tbody>\n",
       "    <tr>\n",
       "      <th>9995</th>\n",
       "      <td>9996</td>\n",
       "      <td>15606229</td>\n",
       "      <td>Obijiaku</td>\n",
       "      <td>771</td>\n",
       "      <td>France</td>\n",
       "      <td>Male</td>\n",
       "      <td>39</td>\n",
       "      <td>5</td>\n",
       "      <td>0.00</td>\n",
       "      <td>2</td>\n",
       "      <td>1</td>\n",
       "      <td>0</td>\n",
       "      <td>96270.64</td>\n",
       "      <td>0</td>\n",
       "    </tr>\n",
       "    <tr>\n",
       "      <th>9996</th>\n",
       "      <td>9997</td>\n",
       "      <td>15569892</td>\n",
       "      <td>Johnstone</td>\n",
       "      <td>516</td>\n",
       "      <td>France</td>\n",
       "      <td>Male</td>\n",
       "      <td>35</td>\n",
       "      <td>10</td>\n",
       "      <td>57369.61</td>\n",
       "      <td>1</td>\n",
       "      <td>1</td>\n",
       "      <td>1</td>\n",
       "      <td>101699.77</td>\n",
       "      <td>0</td>\n",
       "    </tr>\n",
       "    <tr>\n",
       "      <th>9997</th>\n",
       "      <td>9998</td>\n",
       "      <td>15584532</td>\n",
       "      <td>Liu</td>\n",
       "      <td>709</td>\n",
       "      <td>France</td>\n",
       "      <td>Female</td>\n",
       "      <td>36</td>\n",
       "      <td>7</td>\n",
       "      <td>0.00</td>\n",
       "      <td>1</td>\n",
       "      <td>0</td>\n",
       "      <td>1</td>\n",
       "      <td>42085.58</td>\n",
       "      <td>1</td>\n",
       "    </tr>\n",
       "    <tr>\n",
       "      <th>9998</th>\n",
       "      <td>9999</td>\n",
       "      <td>15682355</td>\n",
       "      <td>Sabbatini</td>\n",
       "      <td>772</td>\n",
       "      <td>Germany</td>\n",
       "      <td>Male</td>\n",
       "      <td>42</td>\n",
       "      <td>3</td>\n",
       "      <td>75075.31</td>\n",
       "      <td>2</td>\n",
       "      <td>1</td>\n",
       "      <td>0</td>\n",
       "      <td>92888.52</td>\n",
       "      <td>1</td>\n",
       "    </tr>\n",
       "    <tr>\n",
       "      <th>9999</th>\n",
       "      <td>10000</td>\n",
       "      <td>15628319</td>\n",
       "      <td>Walker</td>\n",
       "      <td>792</td>\n",
       "      <td>France</td>\n",
       "      <td>Female</td>\n",
       "      <td>28</td>\n",
       "      <td>4</td>\n",
       "      <td>130142.79</td>\n",
       "      <td>1</td>\n",
       "      <td>1</td>\n",
       "      <td>0</td>\n",
       "      <td>38190.78</td>\n",
       "      <td>0</td>\n",
       "    </tr>\n",
       "  </tbody>\n",
       "</table>\n",
       "</div>"
      ],
      "text/plain": [
       "      RowNumber  CustomerId    Surname  CreditScore Geography  Gender  Age  \\\n",
       "9995       9996    15606229   Obijiaku          771    France    Male   39   \n",
       "9996       9997    15569892  Johnstone          516    France    Male   35   \n",
       "9997       9998    15584532        Liu          709    France  Female   36   \n",
       "9998       9999    15682355  Sabbatini          772   Germany    Male   42   \n",
       "9999      10000    15628319     Walker          792    France  Female   28   \n",
       "\n",
       "      Tenure    Balance  NumOfProducts  HasCrCard  IsActiveMember  \\\n",
       "9995       5       0.00              2          1               0   \n",
       "9996      10   57369.61              1          1               1   \n",
       "9997       7       0.00              1          0               1   \n",
       "9998       3   75075.31              2          1               0   \n",
       "9999       4  130142.79              1          1               0   \n",
       "\n",
       "      EstimatedSalary  Exited  \n",
       "9995         96270.64       0  \n",
       "9996        101699.77       0  \n",
       "9997         42085.58       1  \n",
       "9998         92888.52       1  \n",
       "9999         38190.78       0  "
      ]
     },
     "execution_count": 22,
     "metadata": {},
     "output_type": "execute_result"
    }
   ],
   "source": [
    "df.tail()"
   ]
  },
  {
   "cell_type": "markdown",
   "metadata": {},
   "source": [
    "### Split data into the independent vs dependent variables"
   ]
  },
  {
   "cell_type": "code",
   "execution_count": 28,
   "metadata": {},
   "outputs": [],
   "source": [
    "X = df.iloc[:,3:13].values\n",
    "y = df.iloc[:,-1].values"
   ]
  },
  {
   "cell_type": "markdown",
   "metadata": {},
   "source": [
    "### Encoding categorical data\n"
   ]
  },
  {
   "cell_type": "code",
   "execution_count": 24,
   "metadata": {},
   "outputs": [],
   "source": [
    "from sklearn.preprocessing import LabelEncoder, OneHotEncoder"
   ]
  },
  {
   "cell_type": "markdown",
   "metadata": {},
   "source": [
    "For Geography,"
   ]
  },
  {
   "cell_type": "code",
   "execution_count": 29,
   "metadata": {},
   "outputs": [],
   "source": [
    "labelencoder_X_1 = LabelEncoder() "
   ]
  },
  {
   "cell_type": "code",
   "execution_count": 30,
   "metadata": {},
   "outputs": [],
   "source": [
    "X[:, 1] = labelencoder_X_1.fit_transform(X[:, 1])# column [1] for Geography"
   ]
  },
  {
   "cell_type": "markdown",
   "metadata": {},
   "source": [
    "For gender,"
   ]
  },
  {
   "cell_type": "code",
   "execution_count": 31,
   "metadata": {},
   "outputs": [],
   "source": [
    "labelencoder_X_2 = LabelEncoder()"
   ]
  },
  {
   "cell_type": "code",
   "execution_count": 33,
   "metadata": {},
   "outputs": [],
   "source": [
    "X[:, 2] = labelencoder_X_2.fit_transform(X[:, 2])"
   ]
  },
  {
   "cell_type": "code",
   "execution_count": 34,
   "metadata": {},
   "outputs": [],
   "source": [
    "# create dummy variable for countries column:\n",
    "onehotencoder = OneHotEncoder(categorical_features = [1])\n",
    "X = onehotencoder.fit_transform(X).toarray()\n",
    "#remove the 1st column to avoid dummy variable trap:\n",
    "X = X[:,1:] \n"
   ]
  },
  {
   "cell_type": "markdown",
   "metadata": {},
   "source": [
    "### Split data into train and test sets"
   ]
  },
  {
   "cell_type": "code",
   "execution_count": 38,
   "metadata": {},
   "outputs": [],
   "source": [
    "from sklearn.model_selection import train_test_split"
   ]
  },
  {
   "cell_type": "code",
   "execution_count": 39,
   "metadata": {},
   "outputs": [],
   "source": [
    "X_train, X_test, y_train, y_test = train_test_split(X,y,test_size=0.25, random_state = 0)"
   ]
  },
  {
   "cell_type": "markdown",
   "metadata": {},
   "source": [
    "### Feature Scaling"
   ]
  },
  {
   "cell_type": "code",
   "execution_count": 35,
   "metadata": {},
   "outputs": [],
   "source": [
    "from sklearn.preprocessing import StandardScaler"
   ]
  },
  {
   "cell_type": "code",
   "execution_count": 36,
   "metadata": {},
   "outputs": [],
   "source": [
    "sc_X = StandardScaler()"
   ]
  },
  {
   "cell_type": "code",
   "execution_count": 40,
   "metadata": {},
   "outputs": [],
   "source": [
    "X_train = sc_X.fit_transform(X_train)"
   ]
  },
  {
   "cell_type": "code",
   "execution_count": 41,
   "metadata": {},
   "outputs": [],
   "source": [
    "X_test = sc_X.fit_transform(X_test)"
   ]
  },
  {
   "cell_type": "markdown",
   "metadata": {},
   "source": [
    "## Part 2: Making the ANN\n"
   ]
  },
  {
   "cell_type": "markdown",
   "metadata": {},
   "source": [
    "### Import the Keras libraries and packages:"
   ]
  },
  {
   "cell_type": "code",
   "execution_count": 43,
   "metadata": {},
   "outputs": [],
   "source": [
    "import keras \n",
    "from keras.models import Sequential  #initialize the neural network\n",
    "from keras.layers import Dense # bulid the layers of ANN"
   ]
  },
  {
   "cell_type": "markdown",
   "metadata": {},
   "source": [
    "### Initialising the ANN:"
   ]
  },
  {
   "cell_type": "code",
   "execution_count": 44,
   "metadata": {},
   "outputs": [],
   "source": [
    "classifier = Sequential()"
   ]
  },
  {
   "cell_type": "markdown",
   "metadata": {},
   "source": [
    "### Adding the input layer and the first hidden layer:"
   ]
  },
  {
   "cell_type": "code",
   "execution_count": 45,
   "metadata": {},
   "outputs": [],
   "source": [
    "classifier.add(Dense(6, kernel_initializer = 'uniform', activation = 'relu', input_dim = 11)) "
   ]
  },
  {
   "cell_type": "markdown",
   "metadata": {},
   "source": [
    "Note:\n",
    "    - The 1st hidden layer has 6 nodes\n",
    "    - 'uniform': initialize the weights randomly and close to zero\n",
    "    - 'relu': rectifier activation function\n",
    "    - rectifier for hidden layers  (sigmoid func for output layer)"
   ]
  },
  {
   "cell_type": "markdown",
   "metadata": {},
   "source": [
    "### Adding the 2nd hidden layer:"
   ]
  },
  {
   "cell_type": "code",
   "execution_count": 46,
   "metadata": {},
   "outputs": [],
   "source": [
    "classifier.add(Dense(6, kernel_initializer = 'uniform', activation = 'relu')) "
   ]
  },
  {
   "cell_type": "markdown",
   "metadata": {},
   "source": [
    "### Adding the output layer:"
   ]
  },
  {
   "cell_type": "code",
   "execution_count": 47,
   "metadata": {},
   "outputs": [],
   "source": [
    "classifier.add(Dense(1, kernel_initializer = 'uniform', activation = 'sigmoid')) "
   ]
  },
  {
   "cell_type": "markdown",
   "metadata": {},
   "source": [
    "Note:\n",
    "    - For the output more 2 categories (ex:3), we have to change the number of units and the activation func by 3 and 'softmax'.\n",
    "    - Softmax is the sigmoid function to three or more categories output. "
   ]
  },
  {
   "cell_type": "markdown",
   "metadata": {},
   "source": [
    " ### Compiling the ANN:"
   ]
  },
  {
   "cell_type": "code",
   "execution_count": 48,
   "metadata": {},
   "outputs": [],
   "source": [
    "classifier.compile(optimizer = 'adam', loss = 'binary_crossentropy', metrics = ['accuracy'] )"
   ]
  },
  {
   "cell_type": "markdown",
   "metadata": {},
   "source": [
    "Here,\n",
    "    - _optimizer_: algorithm to find the optimal set of weights\n",
    "    - _loss_: for the output more 2 categories (ex:3), we change to 'categorical_crossentropy'.\n",
    "    - _metrics_: criterion to evaluate our model.\n"
   ]
  },
  {
   "cell_type": "markdown",
   "metadata": {},
   "source": [
    "### Fitting the ANN to the Training set:\n"
   ]
  },
  {
   "cell_type": "code",
   "execution_count": 49,
   "metadata": {},
   "outputs": [
    {
     "name": "stdout",
     "output_type": "stream",
     "text": [
      "Epoch 1/100\n",
      "7500/7500 [==============================] - 4s 471us/step - loss: 0.5007 - acc: 0.7956\n",
      "Epoch 2/100\n",
      "7500/7500 [==============================] - 2s 264us/step - loss: 0.4306 - acc: 0.7963\n",
      "Epoch 3/100\n",
      "7500/7500 [==============================] - 2s 297us/step - loss: 0.4259 - acc: 0.7963\n",
      "Epoch 4/100\n",
      "7500/7500 [==============================] - 2s 274us/step - loss: 0.4219 - acc: 0.7975\n",
      "Epoch 5/100\n",
      "7500/7500 [==============================] - 2s 292us/step - loss: 0.4187 - acc: 0.8196\n",
      "Epoch 6/100\n",
      "7500/7500 [==============================] - 2s 287us/step - loss: 0.4166 - acc: 0.8252\n",
      "Epoch 7/100\n",
      "7500/7500 [==============================] - 2s 269us/step - loss: 0.4151 - acc: 0.8267\n",
      "Epoch 8/100\n",
      "7500/7500 [==============================] - 2s 279us/step - loss: 0.4138 - acc: 0.8287\n",
      "Epoch 9/100\n",
      "7500/7500 [==============================] - 2s 290us/step - loss: 0.4126 - acc: 0.8305\n",
      "Epoch 10/100\n",
      "7500/7500 [==============================] - 2s 272us/step - loss: 0.4118 - acc: 0.8309\n",
      "Epoch 11/100\n",
      "7500/7500 [==============================] - 2s 304us/step - loss: 0.4109 - acc: 0.8331\n",
      "Epoch 12/100\n",
      "7500/7500 [==============================] - 2s 307us/step - loss: 0.4102 - acc: 0.8331\n",
      "Epoch 13/100\n",
      "7500/7500 [==============================] - 2s 285us/step - loss: 0.4095 - acc: 0.8316 0s - loss: 0.\n",
      "Epoch 14/100\n",
      "7500/7500 [==============================] - 2s 324us/step - loss: 0.4095 - acc: 0.8327\n",
      "Epoch 15/100\n",
      "7500/7500 [==============================] - 2s 298us/step - loss: 0.4086 - acc: 0.8341\n",
      "Epoch 16/100\n",
      "7500/7500 [==============================] - 2s 276us/step - loss: 0.4084 - acc: 0.8327\n",
      "Epoch 17/100\n",
      "7500/7500 [==============================] - 2s 280us/step - loss: 0.4080 - acc: 0.8340\n",
      "Epoch 18/100\n",
      "7500/7500 [==============================] - 2s 316us/step - loss: 0.4076 - acc: 0.8349\n",
      "Epoch 19/100\n",
      "7500/7500 [==============================] - 3s 340us/step - loss: 0.4073 - acc: 0.8345\n",
      "Epoch 20/100\n",
      "7500/7500 [==============================] - 2s 291us/step - loss: 0.4064 - acc: 0.8333\n",
      "Epoch 21/100\n",
      "7500/7500 [==============================] - 2s 291us/step - loss: 0.4060 - acc: 0.8327\n",
      "Epoch 22/100\n",
      "7500/7500 [==============================] - 2s 321us/step - loss: 0.4060 - acc: 0.8348\n",
      "Epoch 23/100\n",
      "7500/7500 [==============================] - 2s 306us/step - loss: 0.4059 - acc: 0.8343\n",
      "Epoch 24/100\n",
      "7500/7500 [==============================] - 2s 281us/step - loss: 0.4054 - acc: 0.8352\n",
      "Epoch 25/100\n",
      "7500/7500 [==============================] - 2s 285us/step - loss: 0.4049 - acc: 0.8344\n",
      "Epoch 26/100\n",
      "7500/7500 [==============================] - 2s 287us/step - loss: 0.4051 - acc: 0.8337\n",
      "Epoch 27/100\n",
      "7500/7500 [==============================] - 2s 289us/step - loss: 0.4048 - acc: 0.8344\n",
      "Epoch 28/100\n",
      "7500/7500 [==============================] - 2s 305us/step - loss: 0.4045 - acc: 0.8340\n",
      "Epoch 29/100\n",
      "7500/7500 [==============================] - 2s 292us/step - loss: 0.4041 - acc: 0.8337\n",
      "Epoch 30/100\n",
      "7500/7500 [==============================] - 2s 286us/step - loss: 0.4041 - acc: 0.8340\n",
      "Epoch 31/100\n",
      "7500/7500 [==============================] - 2s 293us/step - loss: 0.4040 - acc: 0.8341\n",
      "Epoch 32/100\n",
      "7500/7500 [==============================] - 2s 284us/step - loss: 0.4039 - acc: 0.8352\n",
      "Epoch 33/100\n",
      "7500/7500 [==============================] - 2s 291us/step - loss: 0.4036 - acc: 0.8341\n",
      "Epoch 34/100\n",
      "7500/7500 [==============================] - 2s 284us/step - loss: 0.4034 - acc: 0.8352\n",
      "Epoch 35/100\n",
      "7500/7500 [==============================] - 2s 285us/step - loss: 0.4035 - acc: 0.8347\n",
      "Epoch 36/100\n",
      "7500/7500 [==============================] - 2s 284us/step - loss: 0.4032 - acc: 0.8336\n",
      "Epoch 37/100\n",
      "7500/7500 [==============================] - 2s 280us/step - loss: 0.4029 - acc: 0.8337\n",
      "Epoch 38/100\n",
      "7500/7500 [==============================] - 2s 284us/step - loss: 0.4027 - acc: 0.8349\n",
      "Epoch 39/100\n",
      "7500/7500 [==============================] - 2s 292us/step - loss: 0.4028 - acc: 0.8343\n",
      "Epoch 40/100\n",
      "7500/7500 [==============================] - 2s 282us/step - loss: 0.4032 - acc: 0.8340\n",
      "Epoch 41/100\n",
      "7500/7500 [==============================] - 2s 280us/step - loss: 0.4025 - acc: 0.8345\n",
      "Epoch 42/100\n",
      "7500/7500 [==============================] - 2s 280us/step - loss: 0.4026 - acc: 0.8329\n",
      "Epoch 43/100\n",
      "7500/7500 [==============================] - 2s 282us/step - loss: 0.4025 - acc: 0.8344\n",
      "Epoch 44/100\n",
      "7500/7500 [==============================] - 2s 281us/step - loss: 0.4022 - acc: 0.8340\n",
      "Epoch 45/100\n",
      "7500/7500 [==============================] - 2s 282us/step - loss: 0.4025 - acc: 0.8347\n",
      "Epoch 46/100\n",
      "7500/7500 [==============================] - 2s 287us/step - loss: 0.4024 - acc: 0.8340\n",
      "Epoch 47/100\n",
      "7500/7500 [==============================] - 2s 274us/step - loss: 0.4021 - acc: 0.8344\n",
      "Epoch 48/100\n",
      "7500/7500 [==============================] - 2s 286us/step - loss: 0.4020 - acc: 0.8336\n",
      "Epoch 49/100\n",
      "7500/7500 [==============================] - 2s 290us/step - loss: 0.4020 - acc: 0.8323\n",
      "Epoch 50/100\n",
      "7500/7500 [==============================] - 2s 282us/step - loss: 0.4015 - acc: 0.8345\n",
      "Epoch 51/100\n",
      "7500/7500 [==============================] - 2s 326us/step - loss: 0.4021 - acc: 0.8337\n",
      "Epoch 52/100\n",
      "7500/7500 [==============================] - 2s 299us/step - loss: 0.4021 - acc: 0.8343\n",
      "Epoch 53/100\n",
      "7500/7500 [==============================] - 2s 283us/step - loss: 0.4018 - acc: 0.8341\n",
      "Epoch 54/100\n",
      "7500/7500 [==============================] - 2s 285us/step - loss: 0.4018 - acc: 0.8344\n",
      "Epoch 55/100\n",
      "7500/7500 [==============================] - 2s 324us/step - loss: 0.4018 - acc: 0.8356\n",
      "Epoch 56/100\n",
      "7500/7500 [==============================] - 3s 428us/step - loss: 0.4017 - acc: 0.8333\n",
      "Epoch 57/100\n",
      "7500/7500 [==============================] - 3s 360us/step - loss: 0.4014 - acc: 0.8321\n",
      "Epoch 58/100\n",
      "7500/7500 [==============================] - 2s 323us/step - loss: 0.4017 - acc: 0.8339\n",
      "Epoch 59/100\n",
      "7500/7500 [==============================] - 2s 285us/step - loss: 0.4016 - acc: 0.8331\n",
      "Epoch 60/100\n",
      "7500/7500 [==============================] - 2s 297us/step - loss: 0.4013 - acc: 0.8336\n",
      "Epoch 61/100\n",
      "7500/7500 [==============================] - 2s 318us/step - loss: 0.4016 - acc: 0.8365\n",
      "Epoch 62/100\n",
      "7500/7500 [==============================] - 2s 320us/step - loss: 0.4017 - acc: 0.8328\n",
      "Epoch 63/100\n",
      "7500/7500 [==============================] - 2s 294us/step - loss: 0.4016 - acc: 0.8337\n",
      "Epoch 64/100\n",
      "7500/7500 [==============================] - 2s 291us/step - loss: 0.4014 - acc: 0.8340\n",
      "Epoch 65/100\n",
      "7500/7500 [==============================] - 2s 302us/step - loss: 0.4013 - acc: 0.8347\n",
      "Epoch 66/100\n",
      "7500/7500 [==============================] - 2s 303us/step - loss: 0.4013 - acc: 0.8332\n",
      "Epoch 67/100\n",
      "7500/7500 [==============================] - 2s 318us/step - loss: 0.4011 - acc: 0.8325\n",
      "Epoch 68/100\n",
      "7500/7500 [==============================] - 2s 296us/step - loss: 0.4010 - acc: 0.8337\n",
      "Epoch 69/100\n",
      "7500/7500 [==============================] - 2s 289us/step - loss: 0.4012 - acc: 0.8345\n",
      "Epoch 70/100\n",
      "7500/7500 [==============================] - 2s 301us/step - loss: 0.4012 - acc: 0.8337\n",
      "Epoch 71/100\n",
      "7500/7500 [==============================] - 2s 297us/step - loss: 0.4008 - acc: 0.8348\n",
      "Epoch 72/100\n",
      "7500/7500 [==============================] - 2s 308us/step - loss: 0.4007 - acc: 0.8347\n",
      "Epoch 73/100\n",
      "7500/7500 [==============================] - 2s 300us/step - loss: 0.4006 - acc: 0.8337\n",
      "Epoch 74/100\n",
      "7500/7500 [==============================] - 2s 307us/step - loss: 0.4007 - acc: 0.8341\n",
      "Epoch 75/100\n",
      "7500/7500 [==============================] - 2s 291us/step - loss: 0.4009 - acc: 0.8337\n",
      "Epoch 76/100\n",
      "7500/7500 [==============================] - 2s 304us/step - loss: 0.4009 - acc: 0.8345\n",
      "Epoch 77/100\n",
      "7500/7500 [==============================] - 2s 292us/step - loss: 0.4010 - acc: 0.8333 0s - loss: 0.3987 \n",
      "Epoch 78/100\n",
      "7500/7500 [==============================] - 2s 284us/step - loss: 0.4005 - acc: 0.8339\n",
      "Epoch 79/100\n",
      "7500/7500 [==============================] - 2s 289us/step - loss: 0.4007 - acc: 0.8344\n",
      "Epoch 80/100\n",
      "7500/7500 [==============================] - 2s 302us/step - loss: 0.4006 - acc: 0.8340\n",
      "Epoch 81/100\n",
      "7500/7500 [==============================] - 2s 266us/step - loss: 0.4002 - acc: 0.8324\n",
      "Epoch 82/100\n",
      "7500/7500 [==============================] - 2s 251us/step - loss: 0.4006 - acc: 0.8327\n",
      "Epoch 83/100\n",
      "7500/7500 [==============================] - 2s 246us/step - loss: 0.4005 - acc: 0.8339\n",
      "Epoch 84/100\n",
      "7500/7500 [==============================] - 2s 249us/step - loss: 0.4004 - acc: 0.8339\n",
      "Epoch 85/100\n",
      "7500/7500 [==============================] - 2s 264us/step - loss: 0.4007 - acc: 0.8336\n",
      "Epoch 86/100\n",
      "7500/7500 [==============================] - 2s 272us/step - loss: 0.4004 - acc: 0.8333\n",
      "Epoch 87/100\n",
      "7500/7500 [==============================] - 2s 259us/step - loss: 0.4006 - acc: 0.8328\n",
      "Epoch 88/100\n",
      "7500/7500 [==============================] - 2s 269us/step - loss: 0.4004 - acc: 0.8335\n",
      "Epoch 89/100\n",
      "7500/7500 [==============================] - 2s 296us/step - loss: 0.4006 - acc: 0.8333\n",
      "Epoch 90/100\n",
      "7500/7500 [==============================] - 2s 301us/step - loss: 0.4007 - acc: 0.8331\n",
      "Epoch 91/100\n",
      "7500/7500 [==============================] - 2s 263us/step - loss: 0.4007 - acc: 0.8337\n",
      "Epoch 92/100\n",
      "7500/7500 [==============================] - 2s 264us/step - loss: 0.4002 - acc: 0.8321\n",
      "Epoch 93/100\n",
      "7500/7500 [==============================] - 2s 266us/step - loss: 0.4006 - acc: 0.8336\n",
      "Epoch 94/100\n",
      "7500/7500 [==============================] - 2s 290us/step - loss: 0.4005 - acc: 0.8352\n",
      "Epoch 95/100\n",
      "7500/7500 [==============================] - 2s 287us/step - loss: 0.4003 - acc: 0.8328\n",
      "Epoch 96/100\n",
      "7500/7500 [==============================] - 2s 287us/step - loss: 0.4004 - acc: 0.8344\n",
      "Epoch 97/100\n",
      "7500/7500 [==============================] - ETA: 0s - loss: 0.3999 - acc: 0.833 - 2s 303us/step - loss: 0.4009 - acc: 0.8327\n",
      "Epoch 98/100\n",
      "7500/7500 [==============================] - 2s 279us/step - loss: 0.4006 - acc: 0.8332\n",
      "Epoch 99/100\n",
      "7500/7500 [==============================] - 2s 285us/step - loss: 0.4005 - acc: 0.8351\n",
      "Epoch 100/100\n",
      "7500/7500 [==============================] - 2s 283us/step - loss: 0.4002 - acc: 0.8328\n"
     ]
    },
    {
     "data": {
      "text/plain": [
       "<keras.callbacks.History at 0x1a3348be80>"
      ]
     },
     "execution_count": 49,
     "metadata": {},
     "output_type": "execute_result"
    }
   ],
   "source": [
    "classifier.fit(X_train, y_train, batch_size = 10, epochs = 100)"
   ]
  },
  {
   "cell_type": "markdown",
   "metadata": {},
   "source": [
    "Here,             \n",
    "    - bacth_size: the number of observations after  which you want to update the weights\n",
    "     - epochs : number of rounds that the whole training set pass through the ANN"
   ]
  },
  {
   "cell_type": "markdown",
   "metadata": {},
   "source": [
    "### Making the predictions and evaluating the model:\n"
   ]
  },
  {
   "cell_type": "markdown",
   "metadata": {},
   "source": [
    "#### Predicting the Test set results:"
   ]
  },
  {
   "cell_type": "code",
   "execution_count": 50,
   "metadata": {},
   "outputs": [],
   "source": [
    "y_pred = classifier.predict(X_test)\n",
    "y_pred = (y_pred > 0.5)"
   ]
  },
  {
   "cell_type": "markdown",
   "metadata": {},
   "source": [
    "#### Making the confusion matrix"
   ]
  },
  {
   "cell_type": "code",
   "execution_count": 51,
   "metadata": {},
   "outputs": [],
   "source": [
    "from sklearn.metrics import confusion_matrix"
   ]
  },
  {
   "cell_type": "code",
   "execution_count": 52,
   "metadata": {},
   "outputs": [],
   "source": [
    "cm = confusion_matrix(y_test,y_pred)"
   ]
  },
  {
   "cell_type": "code",
   "execution_count": 53,
   "metadata": {},
   "outputs": [
    {
     "data": {
      "text/plain": [
       "array([[1940,   51],\n",
       "       [ 342,  167]])"
      ]
     },
     "execution_count": 53,
     "metadata": {},
     "output_type": "execute_result"
    }
   ],
   "source": [
    "cm"
   ]
  },
  {
   "cell_type": "code",
   "execution_count": null,
   "metadata": {},
   "outputs": [],
   "source": []
  }
 ],
 "metadata": {
  "kernelspec": {
   "display_name": "Python 3",
   "language": "python",
   "name": "python3"
  },
  "language_info": {
   "codemirror_mode": {
    "name": "ipython",
    "version": 3
   },
   "file_extension": ".py",
   "mimetype": "text/x-python",
   "name": "python",
   "nbconvert_exporter": "python",
   "pygments_lexer": "ipython3",
   "version": "3.6.7"
  }
 },
 "nbformat": 4,
 "nbformat_minor": 2
}
