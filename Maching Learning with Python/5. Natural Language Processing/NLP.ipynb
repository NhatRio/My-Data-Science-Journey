{
 "cells": [
  {
   "cell_type": "markdown",
   "metadata": {},
   "source": [
    "https://medium.com/deep-math-machine-learning-ai/chapter-9-natural-language-processing-14bbeb8edc79"
   ]
  },
  {
   "cell_type": "markdown",
   "metadata": {},
   "source": [
    "NLP is a big area, probably bigger than Machine learning cause the concept of language is really intense so we are not gonna focus on it completely but we focus on the small area where it meets machine learning and deep learning"
   ]
  },
  {
   "cell_type": "markdown",
   "metadata": {},
   "source": [
    "### Natural language processing"
   ]
  },
  {
   "cell_type": "markdown",
   "metadata": {},
   "source": [
    "The main goal here is , we wanna make the computer understand the language as we do and we wanna make the computer respond as we do.\n"
   ]
  },
  {
   "cell_type": "markdown",
   "metadata": {},
   "source": [
    "### Importing the standard libraries\n"
   ]
  },
  {
   "cell_type": "code",
   "execution_count": 45,
   "metadata": {},
   "outputs": [],
   "source": [
    "import numpy as np\n",
    "import matplotlib.pyplot as plt\n",
    "import pandas as pd"
   ]
  },
  {
   "cell_type": "markdown",
   "metadata": {},
   "source": [
    "### Importing the dataset\n"
   ]
  },
  {
   "cell_type": "code",
   "execution_count": 46,
   "metadata": {},
   "outputs": [],
   "source": [
    "df = pd.read_csv('Restaurant_Reviews.tsv', delimiter = '\\t', quoting = 3)"
   ]
  },
  {
   "cell_type": "code",
   "execution_count": 86,
   "metadata": {},
   "outputs": [
    {
     "data": {
      "text/html": [
       "<div>\n",
       "<style scoped>\n",
       "    .dataframe tbody tr th:only-of-type {\n",
       "        vertical-align: middle;\n",
       "    }\n",
       "\n",
       "    .dataframe tbody tr th {\n",
       "        vertical-align: top;\n",
       "    }\n",
       "\n",
       "    .dataframe thead th {\n",
       "        text-align: right;\n",
       "    }\n",
       "</style>\n",
       "<table border=\"1\" class=\"dataframe\">\n",
       "  <thead>\n",
       "    <tr style=\"text-align: right;\">\n",
       "      <th></th>\n",
       "      <th>Review</th>\n",
       "      <th>Liked</th>\n",
       "    </tr>\n",
       "  </thead>\n",
       "  <tbody>\n",
       "    <tr>\n",
       "      <th>0</th>\n",
       "      <td>Wow... Loved this place.</td>\n",
       "      <td>1</td>\n",
       "    </tr>\n",
       "    <tr>\n",
       "      <th>1</th>\n",
       "      <td>Crust is not good.</td>\n",
       "      <td>0</td>\n",
       "    </tr>\n",
       "    <tr>\n",
       "      <th>2</th>\n",
       "      <td>Not tasty and the texture was just nasty.</td>\n",
       "      <td>0</td>\n",
       "    </tr>\n",
       "    <tr>\n",
       "      <th>3</th>\n",
       "      <td>Stopped by during the late May bank holiday of...</td>\n",
       "      <td>1</td>\n",
       "    </tr>\n",
       "    <tr>\n",
       "      <th>4</th>\n",
       "      <td>The selection on the menu was great and so wer...</td>\n",
       "      <td>1</td>\n",
       "    </tr>\n",
       "  </tbody>\n",
       "</table>\n",
       "</div>"
      ],
      "text/plain": [
       "                                              Review  Liked\n",
       "0                           Wow... Loved this place.      1\n",
       "1                                 Crust is not good.      0\n",
       "2          Not tasty and the texture was just nasty.      0\n",
       "3  Stopped by during the late May bank holiday of...      1\n",
       "4  The selection on the menu was great and so wer...      1"
      ]
     },
     "execution_count": 86,
     "metadata": {},
     "output_type": "execute_result"
    }
   ],
   "source": [
    "df.head()"
   ]
  },
  {
   "cell_type": "markdown",
   "metadata": {},
   "source": [
    "We choose the delimiter by 'Tab' and ignore the quotes ' and \".\n"
   ]
  },
  {
   "cell_type": "markdown",
   "metadata": {},
   "source": [
    "### Cleaning the texts\n"
   ]
  },
  {
   "cell_type": "code",
   "execution_count": 47,
   "metadata": {},
   "outputs": [],
   "source": [
    "import re  #regular expression\n",
    "import nltk\n",
    "#nltk.download('stopwords') #download the top non-significant words \n",
    "from nltk.corpus import stopwords\n",
    "from nltk.stem.porter import PorterStemmer #for stemming"
   ]
  },
  {
   "cell_type": "code",
   "execution_count": 48,
   "metadata": {},
   "outputs": [],
   "source": [
    "corpus = []"
   ]
  },
  {
   "cell_type": "code",
   "execution_count": 49,
   "metadata": {},
   "outputs": [],
   "source": [
    "for i in range(0,df.shape[0]):\n",
    "    #Removing all except a-z, A-Z letters and replace by space:\n",
    "    review = re.sub('[^a-zA-Z]',' ', df['Review'][i])\n",
    "    #Making all letters to lower case:\n",
    "    review = review.lower()\n",
    "    #Split the review to the list of words \n",
    "    # (could use nltk.tokenize.word_tokenize): \n",
    "    review = review.split() \n",
    "    #Remove Stopwords__ (the, a, an, on, and, in...) \n",
    "    #and Stemming (derive the root of the word):\n",
    "    ps = PorterStemmer() \n",
    "    review = [ps.stem(word) for word in review if not word in set(stopwords.words('english'))] \n",
    "    #Joining the word list to a sentence (seperate by  space):\n",
    "    review = ' '.join(review)\n",
    "    corpus.append(review)"
   ]
  },
  {
   "cell_type": "markdown",
   "metadata": {},
   "source": [
    "### Creating the Bag of Words model\n"
   ]
  },
  {
   "cell_type": "code",
   "execution_count": 51,
   "metadata": {},
   "outputs": [],
   "source": [
    "from sklearn.feature_extraction.text import CountVectorizer "
   ]
  },
  {
   "cell_type": "code",
   "execution_count": 52,
   "metadata": {},
   "outputs": [],
   "source": [
    "cv = CountVectorizer(max_features = 1500)"
   ]
  },
  {
   "cell_type": "markdown",
   "metadata": {},
   "source": [
    "(<code>max_feature</code> for filtering the non-relevant words, \n",
    "only take  the 1500 most frequent words)"
   ]
  },
  {
   "cell_type": "markdown",
   "metadata": {},
   "source": [
    "Creating the sparse matrix  with each columne presenting one word:         "
   ]
  },
  {
   "cell_type": "code",
   "execution_count": 53,
   "metadata": {},
   "outputs": [],
   "source": [
    "X =  cv.fit_transform(corpus).toarray() #toarray: make X be a matrix "
   ]
  },
  {
   "cell_type": "markdown",
   "metadata": {},
   "source": [
    "Creating the dependent vector:"
   ]
  },
  {
   "cell_type": "code",
   "execution_count": 40,
   "metadata": {},
   "outputs": [],
   "source": [
    "y = df.iloc[:,1].values   "
   ]
  },
  {
   "cell_type": "markdown",
   "metadata": {},
   "source": [
    "### Split data into train and test sets"
   ]
  },
  {
   "cell_type": "code",
   "execution_count": 41,
   "metadata": {},
   "outputs": [],
   "source": [
    "from sklearn.model_selection import train_test_split"
   ]
  },
  {
   "cell_type": "code",
   "execution_count": 61,
   "metadata": {},
   "outputs": [],
   "source": [
    "X_train, X_test, y_train, y_test = train_test_split(X,y,test_size=0.2, random_state = 0)\n"
   ]
  },
  {
   "cell_type": "markdown",
   "metadata": {},
   "source": [
    "### Feature Scaling"
   ]
  },
  {
   "cell_type": "code",
   "execution_count": 62,
   "metadata": {},
   "outputs": [],
   "source": [
    "from sklearn.preprocessing import StandardScaler"
   ]
  },
  {
   "cell_type": "code",
   "execution_count": 63,
   "metadata": {},
   "outputs": [],
   "source": [
    "sc_X = StandardScaler()"
   ]
  },
  {
   "cell_type": "code",
   "execution_count": 64,
   "metadata": {},
   "outputs": [
    {
     "name": "stderr",
     "output_type": "stream",
     "text": [
      "/anaconda3/lib/python3.6/site-packages/sklearn/utils/validation.py:475: DataConversionWarning: Data with input dtype int64 was converted to float64 by StandardScaler.\n",
      "  warnings.warn(msg, DataConversionWarning)\n"
     ]
    }
   ],
   "source": [
    "X_train = sc_X.fit_transform(X_train)"
   ]
  },
  {
   "cell_type": "code",
   "execution_count": 65,
   "metadata": {},
   "outputs": [
    {
     "name": "stderr",
     "output_type": "stream",
     "text": [
      "/anaconda3/lib/python3.6/site-packages/sklearn/utils/validation.py:475: DataConversionWarning: Data with input dtype int64 was converted to float64 by StandardScaler.\n",
      "  warnings.warn(msg, DataConversionWarning)\n"
     ]
    }
   ],
   "source": [
    "X_test = sc_X.fit_transform(X_test)"
   ]
  },
  {
   "cell_type": "markdown",
   "metadata": {},
   "source": [
    "### Fitting Decision Tree to the Training set\n"
   ]
  },
  {
   "cell_type": "code",
   "execution_count": 66,
   "metadata": {},
   "outputs": [],
   "source": [
    "from sklearn.tree import DecisionTreeClassifier"
   ]
  },
  {
   "cell_type": "code",
   "execution_count": 67,
   "metadata": {},
   "outputs": [],
   "source": [
    "classifier = DecisionTreeClassifier(criterion='entropy', random_state=0)"
   ]
  },
  {
   "cell_type": "code",
   "execution_count": 68,
   "metadata": {},
   "outputs": [
    {
     "data": {
      "text/plain": [
       "DecisionTreeClassifier(class_weight=None, criterion='entropy', max_depth=None,\n",
       "            max_features=None, max_leaf_nodes=None,\n",
       "            min_impurity_decrease=0.0, min_impurity_split=None,\n",
       "            min_samples_leaf=1, min_samples_split=2,\n",
       "            min_weight_fraction_leaf=0.0, presort=False, random_state=0,\n",
       "            splitter='best')"
      ]
     },
     "execution_count": 68,
     "metadata": {},
     "output_type": "execute_result"
    }
   ],
   "source": [
    "classifier.fit(X_train, y_train)"
   ]
  },
  {
   "cell_type": "markdown",
   "metadata": {},
   "source": [
    "### Predicting the Test set results\n"
   ]
  },
  {
   "cell_type": "code",
   "execution_count": 70,
   "metadata": {},
   "outputs": [],
   "source": [
    "y_pred = classifier.predict(X_test)"
   ]
  },
  {
   "cell_type": "markdown",
   "metadata": {},
   "source": [
    "### Making the Confusion Matrix\n"
   ]
  },
  {
   "cell_type": "code",
   "execution_count": 78,
   "metadata": {},
   "outputs": [],
   "source": [
    "from sklearn.metrics import confusion_matrix\n",
    "from sklearn.metrics import accuracy_score \n",
    "from sklearn.metrics import classification_report "
   ]
  },
  {
   "cell_type": "code",
   "execution_count": 97,
   "metadata": {},
   "outputs": [
    {
     "data": {
      "text/plain": [
       "array([[75, 22],\n",
       "       [41, 62]])"
      ]
     },
     "execution_count": 97,
     "metadata": {},
     "output_type": "execute_result"
    }
   ],
   "source": [
    "cm = confusion_matrix(y_test, y_pred)\n",
    "cm"
   ]
  },
  {
   "cell_type": "markdown",
   "metadata": {},
   "source": [
    "Calculating accuracy, precision, recall, F1-score:"
   ]
  },
  {
   "cell_type": "code",
   "execution_count": 83,
   "metadata": {},
   "outputs": [],
   "source": [
    "accuracy = (cm[0,0]+cm[1,1])/np.sum(cm)\n",
    "precision = cm[1,1]/np.sum(cm[:,1])\n",
    "recall = cm[1,1]/np.sum(cm[1,:])\n",
    "f1_Score =2*precision*recall/(precision+recall)"
   ]
  },
  {
   "cell_type": "code",
   "execution_count": 84,
   "metadata": {},
   "outputs": [
    {
     "name": "stdout",
     "output_type": "stream",
     "text": [
      "Accuracy = 0.685\n",
      "Precision = 0.7380952380952381\n",
      "Recall =  0.6019417475728155\n",
      "F1_Score = 0.6631016042780749\n"
     ]
    }
   ],
   "source": [
    "print('Accuracy =', accuracy)\n",
    "print('Precision =', precision)\n",
    "print('Recall = ',recall)\n",
    "print('F1_Score =', f1_Score)"
   ]
  },
  {
   "cell_type": "code",
   "execution_count": 82,
   "metadata": {},
   "outputs": [
    {
     "name": "stdout",
     "output_type": "stream",
     "text": [
      "Accuracy Score : 0.685\n",
      "Report : \n",
      "             precision    recall  f1-score   support\n",
      "\n",
      "          0       0.65      0.77      0.70        97\n",
      "          1       0.74      0.60      0.66       103\n",
      "\n",
      "avg / total       0.69      0.69      0.68       200\n",
      "\n"
     ]
    }
   ],
   "source": [
    "print('Accuracy Score :',accuracy_score(y_test, y_pred) )\n",
    "print('Report : ')\n",
    "print(classification_report(y_test, y_pred))"
   ]
  },
  {
   "cell_type": "markdown",
   "metadata": {},
   "source": [
    "### Visualizing the data\n"
   ]
  },
  {
   "cell_type": "code",
   "execution_count": 85,
   "metadata": {},
   "outputs": [],
   "source": [
    "from wordcloud import WordCloud"
   ]
  },
  {
   "cell_type": "code",
   "execution_count": 89,
   "metadata": {},
   "outputs": [],
   "source": [
    "def visualize(label):\n",
    "    words = ''\n",
    "    for msg in df[df['Liked'] == label]['Review']:\n",
    "        msg = msg.lower()\n",
    "        words += msg + ' '\n",
    "    wordcloud = WordCloud(width=600, height=400).generate(words)\n",
    "    plt.imshow(wordcloud)\n",
    "    plt.axis('off')\n",
    "    plt.show()\n"
   ]
  },
  {
   "cell_type": "code",
   "execution_count": 90,
   "metadata": {},
   "outputs": [
    {
     "data": {
      "image/png": "[encoded data removed]",
      "text/plain": [
       "<Figure size 432x288 with 1 Axes>"
      ]
     },
     "metadata": {},
     "output_type": "display_data"
    }
   ],
   "source": [
    "visualize(0)"
   ]
  },
  {
   "cell_type": "code",
   "execution_count": 91,
   "metadata": {},
   "outputs": [
    {
     "data": {
      "image/png": "[encoded data removed]",
      "text/plain": [
       "<Figure size 432x288 with 1 Axes>"
      ]
     },
     "metadata": {},
     "output_type": "display_data"
    }
   ],
   "source": [
    "visualize(1)"
   ]
  },
  {
   "cell_type": "markdown",
   "metadata": {},
   "source": [
    "### See what we're getting wrong:\n"
   ]
  },
  {
   "cell_type": "code",
   "execution_count": 92,
   "metadata": {},
   "outputs": [],
   "source": [
    "df['predictions'] = classifier.predict(X)"
   ]
  },
  {
   "cell_type": "markdown",
   "metadata": {},
   "source": [
    "Reviews that should be Liked (1)"
   ]
  },
  {
   "cell_type": "code",
   "execution_count": 93,
   "metadata": {},
   "outputs": [
    {
     "name": "stdout",
     "output_type": "stream",
     "text": [
      "Wow... Loved this place.\n",
      "Stopped by during the late May bank holiday off Rick Steve recommendation and loved it.\n",
      "The selection on the menu was great and so were the prices.\n",
      "The fries were great too.\n",
      "A great touch.\n",
      "Service was very prompt.\n",
      "I tried the Cape Cod ravoli, chicken, with cranberry...mmmm!\n",
      "Highly recommended.\n",
      "The food, amazing.\n",
      "Service is also cute.\n",
      "I could care less... The interior is just beautiful.\n",
      "So they performed.\n",
      "That's right....the red velvet cake.....ohhh this stuff is so good.\n",
      "This hole in the wall has great Mexican street tacos, and friendly staff.\n",
      "Also there are combos like a burger, fries, and beer for 23 which is a decent deal.\n",
      "I found this place by accident and I could not be happier.\n",
      "Overall, I like this place a lot.\n",
      "The only redeeming quality of the restaurant was that it was very inexpensive.\n",
      "Ample portions and good prices.\n",
      "My first visit to Hiro was a delight!\n",
      "The shrimp tender and moist.\n",
      "On a positive note, our server was very attentive and provided great service.\n",
      "The only thing I did like was the prime rib and dessert section.\n",
      "The burger is good beef, cooked just right.\n",
      "If you want a sandwich just go to any Firehouse!!!!!\n",
      "My side Greek salad with the Greek dressing was so tasty, and the pita and hummus was very refreshing.\n",
      "We ordered the duck rare and it was pink and tender on the inside with a nice char on the outside.\n",
      "He came running after us when he realized my husband had left his sunglasses on the table.\n",
      "Their chow mein is so good!\n",
      "The portion was huge!\n",
      "Loved it...friendly servers, great food, wonderful and imaginative menu.\n",
      "The salad had just the right amount of sauce to not over power the scallop, which was perfectly cooked.\n",
      "This place receives stars for their APPETIZERS!!!\n",
      "The cocktails are all handmade and delicious.\n",
      "We'd definitely go back here again.\n",
      "We are so glad we found this place.\n",
      "Great food and service, huge portions and they give a military discount.\n",
      "Always a great time at Dos Gringos!\n",
      "Update.....went back for a second time and it was still just as amazing\n",
      "The deal included 5 tastings and 2 drinks, and Jeff went above and beyond what we expected.\n",
      "- Really, really good rice, all the time.\n",
      "The sweet potato fries were very good and seasoned well.\n",
      "Today is the second time I've been to their lunch buffet and it was pretty good.\n",
      "This place has it!\n",
      "I love the Pho and the spring rolls oh so yummy you have to try.\n",
      "All I have to say is the food was amazing!!!\n",
      "Omelets are to die for!\n",
      "Everything was fresh and delicious!\n",
      "It's like a really sexy party in your mouth, where you're outrageously flirting with the hottest person at the party.\n",
      "Best breakfast buffet!!!\n",
      "Will be back again!\n",
      "Food arrived quickly!\n",
      "On the up side, their cafe serves really good food.\n",
      "Our server was fantastic and when he found out the wife loves roasted garlic and bone marrow, he added extra to our meal and another marrow to go!\n",
      "The only good thing was our waiter, he was very helpful and kept the bloddy mary's coming.\n",
      "Best Buffet in town, for the price you cannot beat it.\n",
      "I LOVED their mussels cooked in this wine reduction, the duck was tender, and their potato dishes were delicious.\n",
      "This is one of the better buffets that I have been to.\n",
      "So we went to Tigerlilly and had a fantastic afternoon!\n",
      "The food was delicious, our bartender was attentive and personable AND we got a great deal!\n",
      "The ambience is wonderful and there is music playing.\n",
      "Will go back next trip out.\n",
      "Sooooo good!!\n",
      "This is a really fantastic Thai restaurant which is definitely worth a visit.\n",
      "Nice, spicy and tender.\n",
      "Good prices.\n",
      "Check it out.\n",
      "Service was fine and the waitress was friendly.\n",
      "The guys all had steaks, and our steak loving son who has had steak at the best and worst places said it was the best steak he's ever eaten.\n",
      "We thought you'd have to venture further away to get good sushi, but this place really hit the spot that night.\n",
      "Phenomenal food, service and ambiance.\n",
      "Definitely worth venturing off the strip for the pork belly, will return next time I'm in Vegas.\n",
      "Penne vodka excellent!\n",
      "They have a good selection of food including a massive meatloaf sandwich, a crispy chicken wrap, a delish tuna melt and some tasty burgers.\n",
      "Delicious NYC bagels, good selections of cream cheese, real Lox with capers even.\n",
      "Great Subway, in fact it's so good when you come here every other Subway will not meet your expectations.\n",
      "I had a seriously solid breakfast here.\n",
      "This is one of the best bars with food in Vegas.\n",
      "My drink was never empty and he made some really great menu suggestions.\n",
      "Nice blanket of moz over top but i feel like this was done to cover up the subpar food.\n",
      "The bathrooms are clean and the place itself is well decorated.\n",
      "My fiancé and I came in the middle of the day and we were greeted and seated right away.\n",
      "This is a great restaurant at the Mandalay Bay.\n",
      "Some highlights : Great quality nigiri here!\n",
      "the staff is friendly and the joint is always clean.\n",
      "this was a different cut than the piece the other day but still wonderful and tender s well as well flavored.\n",
      "I ordered the Voodoo pasta and it was the first time I'd had really excellent pasta since going gluten free several years ago.\n",
      "this place is good.\n",
      "I was seated immediately.\n",
      "Their menu is diverse, and reasonably priced.\n",
      "Restaurant is always full but never a wait.\n",
      "DELICIOUS!!\n",
      "Bacon is hella salty.\n",
      "This really is how Vegas fine dining used to be, right down to the menus handed to the ladies that have no prices listed.\n",
      "The waitresses are very friendly.\n",
      "Lordy, the Khao Soi is a dish that is not to be missed for curry lovers!\n",
      "Everything on the menu is terrific and we were also thrilled that they made amazing accommodations for our vegetarian daughter.\n",
      "The atmosphere is modern and hip, while maintaining a touch of coziness.\n",
      "Not a weekly haunt, but definitely a place to come back to every once in a while.\n",
      "Love this place, hits the spot when I want something healthy but not lacking in quantity or flavor.\n",
      "I ordered the Lemon raspberry ice cocktail which was also incredible.\n",
      "Interesting decor.\n",
      "What I really like there is the crepe station.\n",
      "Also were served hot bread and butter, and home made potato chips with bacon bits on top....very original and very good.\n",
      "you can watch them preparing the delicious food!)\n",
      "Both of the egg rolls were fantastic.\n",
      "I had a salad with the wings, and some ice cream for dessert and left feeling quite satisfied.\n",
      "The best place to go for a tasty bowl of Pho!\n",
      "Very friendly staff.\n",
      "It is worth the drive.\n",
      "I had heard good things about this place, but it exceeding every hope I could have dreamed of.\n",
      "Food was great and so was the serivce!\n",
      "Great brunch spot.\n",
      "Service is friendly and inviting.\n",
      "Very good lunch spot.\n",
      "The sides are delish - mixed mushrooms, yukon gold puree, white corn - beateous.\n",
      "My friend loved the salmon tartar.\n",
      "Extremely Tasty!\n",
      "Waitress was good though!\n",
      "The Jamaican mojitos are delicious.\n",
      "- the food is rich so order accordingly.\n",
      "I loved the bacon wrapped dates.\n",
      "This is an unbelievable BARGAIN!\n",
      "The folks at Otto always make us feel so welcome and special.\n",
      "This is the place where I first had pho and it was amazing!!\n",
      "This wonderful experience made this place a must-stop whenever we are in town again.\n",
      "Very very fun chef.\n",
      "Great place to have a couple drinks and watch any and all sporting events as the walls are covered with TV's.\n",
      "I'd say that would be the hardest decision... Honestly, all of M's dishes taste how they are supposed to taste (amazing).\n",
      "Everyone is very attentive, providing excellent customer service.\n",
      "Now this dish was quite flavourful.\n",
      "Seriously flavorful delights, folks.\n",
      "Much better than the other AYCE sushi place I went to in Vegas.\n",
      "The lighting is just dark enough to set the mood.\n",
      "Owner's are really great people.!\n",
      "The Greek dressing was very creamy and flavorful.\n",
      "Now the pizza itself was good the peanut sauce was very tasty.\n",
      "We had 7 at our table and the service was pretty fast.\n",
      "Fantastic service here.\n",
      "They know how to make them here.\n",
      "I hope this place sticks around.\n",
      "The restaurant atmosphere was exquisite.\n",
      "Good service, very clean, and inexpensive, to boot!\n",
      "The seafood was fresh and generous in portion.\n",
      "Plus, it's only 8 bucks.\n",
      "Thus far, have only visited twice and the food was absolutely delicious each time.\n",
      "Just as good as when I had it more than a year ago!\n",
      "The Veggitarian platter is out of this world!\n",
      "You cant go wrong with any of the food here.\n",
      "You can't beat that.\n",
      "Stopped by this place while in Madison for the Ironman, very friendly, kind staff.\n",
      "The chefs were friendly and did a good job.\n",
      "I liked the patio and the service was outstanding.\n",
      "The goat taco didn't skimp on the meat and wow what FLAVOR!\n",
      "I went to Bachi Burger on a friend's recommendation and was not disappointed.\n",
      "I would definitely recommend the wings as well as the pizza.\n",
      "Great Pizza and Salads!\n",
      "This place is amazing!\n",
      "The staff is great, the food is delish, and they have an incredible beer selection.\n",
      "I didn't know pulled pork could be soooo delicious.\n",
      "You get incredibly fresh fish, prepared with care.\n",
      "I love the fact that everything on their menu is worth it.\n",
      "The food was excellent and service was very good.\n",
      "Good beer & drink selection and good food selection.\n",
      "Good Service-check!\n",
      "In the summer, you can dine in a charming outdoor patio - so very delightful.\n",
      "I did not expect this to be so good!\n",
      "Fantastic food!\n",
      "The food was very good.\n",
      "Great food for the price, which is very high quality and house made.\n",
      "Back to good BBQ, lighter fare, reasonable pricing and tell the public they are back to the old ways.\n",
      "And considering the two of us left there very full and happy for about $20, you just can't go wrong.\n",
      "All the bread is made in-house!\n",
      "Service was exceptional and food was a good as all the reviews.\n",
      "A couple of months later, I returned and had an amazing meal.\n",
      "Favorite place in town for shawarrrrrrma!!!!!!\n",
      "The black eyed peas and sweet potatoes... UNREAL!\n",
      "You won't be disappointed.\n",
      "They could serve it with just the vinaigrette and it may make for a better overall dish, but it was still very good.\n",
      "Both of them were truly unbelievably good, and I am so glad we went back.\n",
      "We had fantastic service, and were pleased by the atmosphere.\n",
      "I love this place.\n",
      "Great service and food.\n",
      "OMG, the food was delicioso!\n",
      "Of all the dishes, the salmon was the best, but all were great.\n",
      "The vegetables are so fresh and the sauce feels like authentic Thai.\n",
      "It's worth driving up from Tucson!\n",
      "Pretty good beer selection too.\n",
      "This place is like Chipotle, but BETTER.\n",
      "Classy/warm atmosphere, fun and fresh appetizers, succulent steaks (Baseball steak!!!!!\n",
      "5 stars for the brick oven bread app!\n",
      "I have eaten here multiple times, and each time the food was delicious.\n",
      "Everyone is treated equally special.\n",
      "It was delicious!!!\n",
      "On the good side, the staff was genuinely pleasant and enthusiastic - a real treat.\n",
      "As always the evening was wonderful and the food delicious!\n",
      "Best fish I've ever had in my life!\n",
      "(The bathroom is just next door and very nice.)\n",
      "This is an Outstanding little restaurant with some of the Best Food I have ever tasted.\n",
      "Pretty cool I would say.\n",
      "Server did a great job handling our large rowdy table.\n",
      "Would come back again if I had a sushi craving while in Vegas.\n",
      "He deserves 5 stars.\n",
      "The dining space is tiny, but elegantly decorated and comfortable.\n",
      "They will customize your order any way you'd like, my usual is Eggplant with Green Bean stir fry, love it!\n",
      "Best tacos in town by far!!\n",
      "In an interesting part of town, this place is amazing.\n",
      "They have great dinners.\n",
      "The service was outshining & I definitely recommend the Halibut.\n",
      "I will come back here every time I'm in Vegas.\n",
      "Def coming back to bowl next time\n",
      "If you want healthy authentic or ethic food, try this place.\n",
      "I will continue to come here on ladies night andddd date night ... highly recommend this place to anyone who is in the area.\n",
      "I have been here several times in the past, and the experience has always been great.\n",
      "We walked away stuffed and happy about our first Vegas buffet experience.\n",
      "Service was excellent and prices are pretty reasonable considering this is Vegas and located inside the Crystals shopping mall by Aria.\n",
      "To summarize... the food was incredible, nay, transcendant... but nothing brings me joy quite like the memory of the pneumatic condiment dispenser.\n",
      "Kids pizza is always a hit too with lots of great side dish options for the kiddos!\n",
      "Service is perfect and the family atmosphere is nice to see.\n",
      "Cooked to perfection and the service was impeccable.\n",
      "Great place to eat, reminds me of the little mom and pop shops in the San Francisco Bay Area.\n",
      "Today was my first taste of a Buldogis Gourmet Hot Dog and I have to tell you it was more than I ever thought possible.\n",
      "I'll definitely be in soon again.\n",
      "Food was really good and I got full petty fast.\n",
      "Service was fantastic.\n",
      "I don't know what kind it is but they have the best iced tea.\n",
      "Come hungry, leave happy and stuffed!\n",
      "I can assure you that you won't be disappointed.\n",
      "I really enjoyed eating here.\n",
      "First time going but I think I will quickly become a regular.\n",
      "Our server was very nice, and even though he looked a little overwhelmed with all of our needs, he stayed professional and friendly until the end.\n",
      "From what my dinner companions told me...everything was very fresh with nice texture and taste.\n",
      "No complaints!\n",
      "This is some seriously good pizza and I'm an expert/connisseur on the topic.\n",
      "These are the nicest restaurant owners I've ever come across.\n",
      "We loved the biscuits!!!\n",
      "Service is quick and friendly.\n",
      "So absolutley fantastic.\n",
      "definitely will come back here again.\n",
      "I like Steiners because it's dark and it feels like a bar.\n",
      "Wow very spicy but delicious.\n",
      "If you're not familiar, check it out.\n",
      "I'd love to go back.\n",
      "Anyway, this FS restaurant has a wonderful breakfast/lunch.\n",
      "Each day of the week they have a different deal and it's all so delicious!\n",
      "Not to mention the combination of pears, almonds and bacon is a big winner!\n",
      "The food is delicious and just spicy enough, so be sure to ask for spicier if you prefer it that way.\n",
      "My ribeye steak was cooked perfectly and had great mesquite flavor.\n",
      "Food was so gooodd.\n",
      "The food was very good and I enjoyed every mouthful, an enjoyable relaxed venue for couples small family groups etc.\n",
      "Nargile - I think you are great.\n",
      "Best tater tots in the southwest.\n",
      "We loved the place.\n",
      "The vanilla ice cream was creamy and smooth while the profiterole (choux) pastry was fresh enough.\n",
      "Im in AZ all the time and now have my new spot.\n",
      "The inside is really quite nice and very clean.\n",
      "The food was outstanding and the prices were very reasonable.\n",
      "Love the margaritas, too!\n",
      "This was my first and only Vegas buffet and it did not disappoint.\n",
      "Very good, though!\n",
      "Great pork sandwich.\n",
      "We enjoy their pizza and brunch.\n",
      "The steaks are all well trimmed and also perfectly cooked.\n",
      "We had a group of 70+ when we claimed we would only have 40 and they handled us beautifully.\n",
      "I LOVED it!\n",
      "This place is a jewel in Las Vegas, and exactly what I've been hoping to find in nearly ten years living here.\n",
      "Delicious and I will absolutely be back!\n",
      "This isn't a small family restaurant, this is a fine dining establishment.\n",
      "They had a toro tartare with a cavier that was extraordinary and I liked the thinly sliced wagyu with white truffle.\n",
      "How awesome is that.\n",
      "I will be back many times soon.\n",
      "The menu had so much good stuff on it i could not decide!\n",
      "CONCLUSION: Very filling meals.\n",
      "Their daily specials are always a hit with my group.\n",
      "The pancake was also really good and pretty large at that.\n",
      "This was my first crawfish experience, and it was delicious!\n",
      "Their monster chicken fried steak and eggs is my all time favorite.\n",
      "Waitress was sweet and funny.\n",
      "I also had to taste my Mom's multi-grain pumpkin pancakes with pecan butter and they were amazing, fluffy, and delicious!\n",
      "Cant say enough good things about this place.\n",
      "The ambiance was incredible.\n",
      "The waitress and manager are so friendly.\n",
      "I don't each much pasta, but I love the homemade /hand made pastas and thin pizzas here.\n",
      "Give it a try, you will be happy you did.\n",
      "By far the BEST cheesecurds we have ever had!\n",
      "Reasonably priced also!\n",
      "Everything was perfect the night we were in.\n",
      "The food is very good for your typical bar food.\n",
      "At first glance it is a lovely bakery cafe - nice ambiance, clean, friendly staff.\n",
      "Point your finger at any item on the menu, order it and you won't be disappointed.\n",
      "Oh this is such a thing of beauty, this restaurant.\n",
      "If you haven't gone here GO NOW!\n",
      "Those burgers were amazing.\n",
      "Be sure to order dessert, even if you need to pack it to-go - the tiramisu and cannoli are both to die for.\n",
      "This was my first time and I can't wait until the next.\n",
      "The bartender was also nice.\n",
      "Everything was good and tasty!\n",
      "This place is two thumbs up....way up.\n",
      "The best place in Vegas for breakfast (just check out a Sat, or Sun.\n",
      "If you love authentic Mexican food and want a whole bunch of interesting, yet delicious meats to choose from, you need to try this place.\n",
      "An excellent new restaurant by an experienced Frenchman.\n",
      "The steak and the shrimp are in my opinion the best entrees at GC.\n",
      "I had the opportunity today to sample your amazing pizzas!\n",
      "The yellowtail carpaccio was melt in your mouth fresh.\n",
      "Just spicy enough.. Perfect actually.\n",
      "Last night was my second time dining here and I was so happy I decided to go back!\n",
      "My boyfriend and I came here for the first time on a recent trip to Vegas and could not have been more pleased with the quality of food and service.\n",
      "Nice ambiance.\n",
      "I would recommend saving room for this!\n",
      "All of the tapas dishes were delicious!\n",
      "I *heart* this place.\n",
      "A good time!\n",
      "I believe that this place is a great stop for those with a huge belly and hankering for sushi.\n",
      "Generous portions and great taste.\n",
      "Food was delicious!\n",
      "He also came back to check on us regularly, excellent service.\n",
      "Our server was super nice and checked on us many times.\n",
      "Service was good and the company was better!\n",
      "The staff are also very friendly and efficient.\n",
      "As for the service: I'm a fan, because it's quick and you're being served by some nice folks.\n",
      "Their steaks are 100% recommended!\n",
      "All in all, I can assure you I'll be back.\n",
      "My breakfast was perpared great, with a beautiful presentation of 3 giant slices of Toast, lightly dusted with powdered sugar.\n",
      "Great place fo take out or eat in.\n",
      "The waitress was friendly and happy to accomodate for vegan/veggie options.\n",
      "OMG I felt like I had never eaten Thai food until this dish.\n",
      "The croutons also taste homemade which is an extra plus.\n",
      "It'll be a regular stop on my trips to Phoenix!\n",
      "I really enjoyed Crema Café before they expanded. I even told friends they had the BEST breakfast.\n",
      "I miss it and wish they had one in Philadelphia!\n",
      "They also have the best cheese crisp in town.\n",
      "Couldn't ask for a more satisfying meal.\n",
      "The food is good.\n",
      "It was awesome.\n",
      "We made the drive all the way from North Scottsdale... and I was not one bit disappointed!\n",
      "An absolute must visit!\n",
      "The cow tongue and cheek tacos are amazing.\n",
      "They really want to make your experience a good one.\n",
      "The grilled chicken was so tender and yellow from the saffron seasoning.\n",
      "Pretty awesome place.\n",
      "Ambience is perfect.\n",
      "The staff is always super friendly and helpful, which is especially cool when you bring two small boys and a baby!\n",
      "Four stars for the food & the guy in the blue shirt for his great vibe & still letting us in to eat !\n",
      "The roast beef sandwich tasted really good!\n",
      "High-quality chicken on the chicken Caesar salad.\n",
      "We were promptly greeted and seated.\n",
      "I was proven dead wrong by this sushi bar, not only because the quality is great, but the service is fast and the food, impeccable.\n",
      "This is a good joint.\n",
      "The Macarons here are insanely good.\n",
      "Our waiter was very attentive, friendly, and informative.\n",
      "Great food.\n",
      "Great place to relax and have an awesome burger and beer.\n",
      "It is PERFECT for a sit-down family meal or get together with a few friends.\n",
      "The patio seating was very comfortable.\n",
      "Hands down my favorite Italian restaurant!\n",
      "That just SCREAMS \"LEGIT\" in my book...somethat's also pretty rare here in Vegas.\n",
      "It was just not a fun experience.\n",
      "The atmosphere was great with a lovely duo of violinists playing songs we requested.\n",
      "I personally love the hummus, pita, baklava, falafels and Baba Ganoush (it's amazing what they do with eggplant!).\n",
      "Very convenient, since we were staying at the MGM!\n",
      "The owners are super friendly and the staff is courteous.\n",
      "Both great!\n",
      "Eclectic selection.\n",
      "The sweet potato tots were good but the onion rings were perfection or as close as I have had.\n",
      "The staff was very attentive.\n",
      "And the chef was generous with his time (even came around twice so we can take pictures with him).\n",
      "The owner used to work at Nobu, so this place is really similar for half the price.\n",
      "I promise they won't disappoint.\n",
      "What a great double cheeseburger!\n",
      "Awesome service and food.\n",
      "A fantastic neighborhood gem !!!\n",
      "I can't wait to go back.\n",
      "It's a great place and I highly recommend it.\n",
      "I gave it 5 stars then, and I'm giving it 5 stars now.\n",
      "Dessert: Panna Cotta was amazing.\n",
      "Very good food, great atmosphere.1\n",
      "Damn good steak.\n",
      "Prices are very reasonable, flavors are spot on, the sauce is home made, and the slaw is not drenched in mayo.\n",
      "The decor is nice, and the piano music soundtrack is pleasant.\n",
      "The steak was amazing...rge fillet relleno was the best seafood plate i have ever had!\n",
      "Good food , good service .\n",
      "It was absolutely amazing.\n",
      "will definitely be back!\n",
      "The sergeant pepper beef sandwich with auju sauce is an excellent sandwich as well.\n",
      "Hawaiian Breeze, Mango Magic, and Pineapple Delight are the smoothies that I've tried so far and they're all good.\n",
      "Have been going since 2007 and every meal has been awesome!!\n",
      "Our server was very nice and attentive as were the other serving staff.\n",
      "The cashier was friendly and even brought the food out to me.\n",
      "The atmosphere here is fun.\n",
      "Service is quick and even \"to go\" orders are just like we like it!\n",
      "That said, our mouths and bellies were still quite pleased.\n",
      "2 Thumbs Up!!\n",
      "I loved the grilled pizza, reminded me of legit Italian pizza.\n",
      "Only Pros : Large seating area/ Nice bar area/ Great simple drink menu/ The BEST brick oven pizza with homemade dough!\n",
      "They have a really nice atmosphere.\n",
      "After one bite, I was hooked.\n",
      "Cute, quaint, simple, honest.\n",
      "The chicken was deliciously seasoned and had the perfect fry on the outside and moist chicken on the inside.\n",
      "The food was great as always, compliments to the chef.\n",
      "Special thanks to Dylan T. for the recommendation on what to order :) All yummy for my tummy.\n",
      "Awesome selection of beer.\n",
      "Great food and awesome service!\n",
      "One nice thing was that they added gratuity on the bill since our party was larger than 6 or 8, and they didn't expect more tip than that.\n",
      "The Han Nan Chicken was also very tasty.\n",
      "As for the service, I thought it was good.\n",
      "Nicest Chinese restaurant I've been in a while.\n",
      "Overall, I like there food and the service.\n",
      "They also now serve Indian naan bread with hummus and some spicy pine nut sauce that was out of this world.\n",
      "Try them in the airport to experience some tasty food and speedy, friendly service.\n",
      "I love the decor with the Chinese calligraphy wall paper.\n",
      "Never had anything to complain about here.\n",
      "The restaurant is very clean and has a family restaurant feel to it.\n",
      "There was a warm feeling with the service and I felt like their guest for a special treat.\n",
      "An extensive menu provides lots of options for breakfast.\n",
      "I always order from the vegetarian menu during dinner, which has a wide array of options to choose from.\n",
      "Wonderful lil tapas and the ambience made me feel all warm and fuzzy inside.\n",
      "I got to enjoy the seafood salad, with a fabulous vinegrette.\n",
      "The wontons were thin, not thick and chewy, almost melt in your mouth.\n",
      "Level 5 spicy was perfect, where spice didn't over-whelm the soup.\n",
      "We were sat right on time and our server from the get go was FANTASTIC!\n",
      "When I'm on this side of town, this will definitely be a spot I'll hit up again!\n",
      "This is a GREAT place to eat!\n",
      "The jalapeno bacon is soooo good.\n",
      "Food was good, service was good, Prices were good.\n",
      "I'm so happy to be here!!!\"\n",
      "One of the few places in Phoenix that I would definately go back to again .\n",
      "The block was amazing.\n",
      "It's close to my house, it's low-key, non-fancy, affordable prices, good food.\n",
      "* Both the Hot & Sour & the Egg Flower Soups were absolutely 5 Stars!\n",
      "Great time - family dinner on a Sunday night.\n",
      "The flair bartenders are absolutely amazing!\n",
      "These were so good we ordered them twice.\n",
      "I had a pretty satifying experience.\n",
      "Join the club and get awesome offers via email.\n",
      "Perfect for someone (me) who only likes beer ice cold, or in this case, even colder.\n",
      "The nachos are a MUST HAVE!\n",
      "I don't have very many words to say about this place, but it does everything pretty well.\n",
      "The staff is super nice and very quick even with the crazy crowds of the downtown juries, lawyers, and court staff.\n",
      "Great atmosphere, friendly and fast service.\n",
      "When I received my Pita it was huge it did have a lot of meat in it so thumbs up there.\n",
      "The classic Maine Lobster Roll was fantastic.\n",
      "The chips and salsa were really good, the salsa was very fresh.\n",
      "This place is great!!!!!!!!!!!!!!\n",
      "Once you get inside you'll be impressed with the place.\n",
      "And service was super friendly.\n",
      "This place was such a nice surprise!\n",
      "They were golden-crispy and delicious.\n",
      "I could eat their bruschetta all day it is devine.\n",
      "Lastly, the mozzarella sticks, they were the best thing we ordered.\n",
      "The first time I ever came here I had an amazing experience, I still tell people how awesome the duck was.\n",
      "I love this place.\n",
      "I can say that the desserts were yummy.\n",
      "The seasonal fruit was fresh white peach puree.\n",
      "I love that they put their food in nice plastic containers as opposed to cramming it in little paper takeout boxes.\n",
      "The crêpe was delicate and thin and moist.\n",
      "Best service and food ever, Maria our server was so good and friendly she made our day.\n",
      "They were excellent.\n",
      "Just had lunch here and had a great experience.\n",
      "I recently tried Caballero's and I have been back every week since!\n",
      "The food came out at a good pace.\n",
      "I ate there twice on my last visit, and especially enjoyed the salmon salad.\n",
      "In fact I'm going to round up to 4 stars, just because she was so awesome.\n",
      "the potatoes were great and so was the biscuit.\n",
      "So flavorful and has just the perfect amount of heat.\n",
      "The price is reasonable and the service is great.\n",
      "Went in for happy hour, great list of wines.\n",
      "Some may say this buffet is pricey but I think you get what you pay for and this place you are getting quite a lot!\n",
      "This place is pretty good, nice little vibe in the restaurant.\n",
      "Talk about great customer service of course we will be back.\n",
      "I love their fries and their beans.\n",
      "Always a pleasure dealing with him.\n",
      "They have a plethora of salads and sandwiches, and everything I've tried gets my seal of approval.\n",
      "This place is awesome if you want something light and healthy during the summer.\n",
      "For sushi on the Strip, this is the place to go.\n",
      "The service was great, even the manager came and helped with our table.\n",
      "All in all an excellent restaurant highlighted by great service, a unique menu, and a beautiful setting.\n",
      "My boyfriend and i sat at the bar and had a completely delightful experience.\n",
      "Go To Place for Gyros.\n",
      "I love the owner/chef, his one authentic Japanese cool dude!\n",
      "We definately enjoyed ourselves.\n",
      "Seriously killer hot chai latte.\n",
      "My boyfriend tried the Mediterranean Chicken Salad and fell in love.\n",
      "Their rotating beers on tap is also a highlight of this place.\n",
      "If you stay in Vegas you must get breakfast here at least once.\n",
      "I want to first say our server was great and we had perfect service.\n",
      "The pizza selections are good.\n",
      "I had strawberry tea, which was good.\n",
      "Overall, a great experience.\n",
      "Their regular toasted bread was equally satisfying with the occasional pats of butter... Mmmm...!\n",
      "The chips and sals a here is amazing!!!!!!!!!!!!!!!!!!!\n",
      "This is my new fav Vegas buffet spot.\n",
      "Every time I eat here, I see caring teamwork to a professional degree.\n"
     ]
    }
   ],
   "source": [
    "missed_liked = df[(df['predictions'] == 0) & (df['Liked'] == 1)]['Review']\n",
    "for msg in missed_liked:\n",
    "  print(msg)\n"
   ]
  },
  {
   "cell_type": "markdown",
   "metadata": {},
   "source": [
    "Reviews that should not be Liked"
   ]
  },
  {
   "cell_type": "code",
   "execution_count": 95,
   "metadata": {},
   "outputs": [
    {
     "name": "stdout",
     "output_type": "stream",
     "text": [
      "I will never go back to this place and will never ever recommended this place to anyone!\n"
     ]
    }
   ],
   "source": [
    "not_liked = df[(df['predictions'] == 1) & (df['Liked'] == 0)]['Review']\n",
    "for msg in not_liked:\n",
    "  print(msg)\n"
   ]
  },
  {
   "cell_type": "code",
   "execution_count": 100,
   "metadata": {},
   "outputs": [
    {
     "data": {
      "text/html": [
       "<div>\n",
       "<style scoped>\n",
       "    .dataframe tbody tr th:only-of-type {\n",
       "        vertical-align: middle;\n",
       "    }\n",
       "\n",
       "    .dataframe tbody tr th {\n",
       "        vertical-align: top;\n",
       "    }\n",
       "\n",
       "    .dataframe thead th {\n",
       "        text-align: right;\n",
       "    }\n",
       "</style>\n",
       "<table border=\"1\" class=\"dataframe\">\n",
       "  <thead>\n",
       "    <tr style=\"text-align: right;\">\n",
       "      <th></th>\n",
       "      <th>Review</th>\n",
       "      <th>Liked</th>\n",
       "      <th>predictions</th>\n",
       "    </tr>\n",
       "  </thead>\n",
       "  <tbody>\n",
       "    <tr>\n",
       "      <th>69</th>\n",
       "      <td>A great way to finish a great.</td>\n",
       "      <td>1</td>\n",
       "      <td>1</td>\n",
       "    </tr>\n",
       "    <tr>\n",
       "      <th>166</th>\n",
       "      <td>This place is hands-down one of the best place...</td>\n",
       "      <td>1</td>\n",
       "      <td>1</td>\n",
       "    </tr>\n",
       "    <tr>\n",
       "      <th>368</th>\n",
       "      <td>The staff are great, the ambiance is great.</td>\n",
       "      <td>1</td>\n",
       "      <td>1</td>\n",
       "    </tr>\n",
       "    <tr>\n",
       "      <th>537</th>\n",
       "      <td>Great steak, great sides, great wine, amazing ...</td>\n",
       "      <td>1</td>\n",
       "      <td>1</td>\n",
       "    </tr>\n",
       "    <tr>\n",
       "      <th>550</th>\n",
       "      <td>I really do recommend this place, you can go w...</td>\n",
       "      <td>1</td>\n",
       "      <td>1</td>\n",
       "    </tr>\n",
       "    <tr>\n",
       "      <th>565</th>\n",
       "      <td>I will never go back to this place and will ne...</td>\n",
       "      <td>0</td>\n",
       "      <td>1</td>\n",
       "    </tr>\n",
       "    <tr>\n",
       "      <th>585</th>\n",
       "      <td>Great food and great service in a clean and fr...</td>\n",
       "      <td>1</td>\n",
       "      <td>1</td>\n",
       "    </tr>\n",
       "    <tr>\n",
       "      <th>603</th>\n",
       "      <td>Good value, great food, great service.</td>\n",
       "      <td>1</td>\n",
       "      <td>1</td>\n",
       "    </tr>\n",
       "    <tr>\n",
       "      <th>795</th>\n",
       "      <td>So good I am going to have to review this plac...</td>\n",
       "      <td>1</td>\n",
       "      <td>1</td>\n",
       "    </tr>\n",
       "  </tbody>\n",
       "</table>\n",
       "</div>"
      ],
      "text/plain": [
       "                                                Review  Liked  predictions\n",
       "69                      A great way to finish a great.      1            1\n",
       "166  This place is hands-down one of the best place...      1            1\n",
       "368        The staff are great, the ambiance is great.      1            1\n",
       "537  Great steak, great sides, great wine, amazing ...      1            1\n",
       "550  I really do recommend this place, you can go w...      1            1\n",
       "565  I will never go back to this place and will ne...      0            1\n",
       "585  Great food and great service in a clean and fr...      1            1\n",
       "603             Good value, great food, great service.      1            1\n",
       "795  So good I am going to have to review this plac...      1            1"
      ]
     },
     "execution_count": 100,
     "metadata": {},
     "output_type": "execute_result"
    }
   ],
   "source": [
    "df[df['predictions']==1]"
   ]
  },
  {
   "cell_type": "code",
   "execution_count": null,
   "metadata": {},
   "outputs": [],
   "source": []
  }
 ],
 "metadata": {
  "kernelspec": {
   "display_name": "Python 3",
   "language": "python",
   "name": "python3"
  },
  "language_info": {
   "codemirror_mode": {
    "name": "ipython",
    "version": 3
   },
   "file_extension": ".py",
   "mimetype": "text/x-python",
   "name": "python",
   "nbconvert_exporter": "python",
   "pygments_lexer": "ipython3",
   "version": "3.6.7"
  }
 },
 "nbformat": 4,
 "nbformat_minor": 2
}
